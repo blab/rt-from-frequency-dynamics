{
 "cells": [
  {
   "cell_type": "code",
   "execution_count": null,
   "id": "established-works",
   "metadata": {},
   "outputs": [],
   "source": [
    "import numpyro\n",
    "import numpy as np\n",
    "import pandas as pd\n",
    "import jax.numpy as jnp\n",
    "\n",
    "from rt_from_frequency_dynamics import discretise_gamma, discretise_lognorm, pad_delays\n",
    "from rt_from_frequency_dynamics import get_standard_delays\n",
    "from rt_from_frequency_dynamics import FreeGrowthModel, FixedGrowthModel\n",
    "\n",
    "from rt_from_frequency_dynamics import get_location_LineageData\n",
    "from rt_from_frequency_dynamics import fit_SVI_locations, MultiPosterior\n",
    "from rt_from_frequency_dynamics import sample_loaded_posterior\n",
    "from rt_from_frequency_dynamics import unpack_model\n",
    "from rt_from_frequency_dynamics import make_path_if_absent, make_model_directories\n",
    "from rt_from_frequency_dynamics import gather_free_Rt, gather_fixed_Rt"
   ]
  },
  {
   "cell_type": "code",
   "execution_count": null,
   "id": "accomplished-ownership",
   "metadata": {},
   "outputs": [],
   "source": [
    "data_name = \"variants-us\"\n",
    "raw_cases = pd.read_csv(f\"../data/{data_name}_location-case-counts.tsv\", sep=\"\\t\")\n",
    "raw_seq = pd.read_csv(f\"../data/{data_name}_location-variant-sequence-counts.tsv\", sep=\"\\t\")"
   ]
  },
  {
   "cell_type": "code",
   "execution_count": null,
   "id": "confirmed-creator",
   "metadata": {},
   "outputs": [],
   "source": [
    "# Locations to run\n",
    "locations = pd.unique(raw_seq[\"location\"])"
   ]
  },
  {
   "cell_type": "code",
   "execution_count": null,
   "id": "expected-quarter",
   "metadata": {},
   "outputs": [],
   "source": [
    "# Defining Lineage Models\n",
    "seed_L = 7\n",
    "forecast_L = 0\n",
    "\n",
    "# Get delays\n",
    "gen, delays = get_standard_delays()\n",
    "LM_free = FreeGrowthModel(gen, delays, seed_L, forecast_L)\n",
    "LM_fixed = FixedGrowthModel(gen, delays, seed_L, forecast_L)"
   ]
  },
  {
   "cell_type": "code",
   "execution_count": null,
   "id": "thousand-future",
   "metadata": {},
   "outputs": [],
   "source": [
    "# Params for fitting\n",
    "opt = numpyro.optim.Adam(step_size=1e-2)\n",
    "iters = 50_000\n",
    "num_samples = 3000\n",
    "save = True\n",
    "load = False"
   ]
  },
  {
   "cell_type": "code",
   "execution_count": null,
   "id": "demonstrated-lesbian",
   "metadata": {},
   "outputs": [],
   "source": [
    "# Paths for export\n",
    "path_base = f\"../estimates/{data_name}\"\n",
    "path_free = path_base + \"/free\"\n",
    "path_fixed = path_base + \"/fixed\"\n",
    "\n",
    "make_model_directories(path_free)\n",
    "make_model_directories(path_fixed)"
   ]
  },
  {
   "cell_type": "markdown",
   "id": "632335a3",
   "metadata": {},
   "source": [
    "# Running models and exporting results"
   ]
  },
  {
   "cell_type": "code",
   "execution_count": null,
   "id": "recovered-lounge",
   "metadata": {},
   "outputs": [],
   "source": [
    "# Running free model\n",
    "MP_free = fit_SVI_locations(raw_cases, raw_seq, locations, \n",
    "                            LM_free, opt, \n",
    "                            iters=iters, num_samples=num_samples, save=save, load=load, path=path_free)   "
   ]
  },
  {
   "cell_type": "code",
   "execution_count": null,
   "id": "understanding-technology",
   "metadata": {},
   "outputs": [],
   "source": [
    "# Running fixed model\n",
    "MP_fixed = fit_SVI_locations(raw_cases, raw_seq, locations, \n",
    "                             LM_fixed, opt, \n",
    "                             iters=iters, num_samples=num_samples, save=save, load=load, path=path_fixed)"
   ]
  },
  {
   "cell_type": "markdown",
   "id": "c3931fd5",
   "metadata": {},
   "source": [
    "## Loading results"
   ]
  },
  {
   "cell_type": "code",
   "execution_count": null,
   "id": "118b4e1a",
   "metadata": {},
   "outputs": [],
   "source": [
    "# Loading past results\n",
    "def load_models(rc, rs, locations, model_type, path=\".\", num_samples=1000):\n",
    "    g, delays = get_standard_delays()\n",
    "    LM = model_type(g, delays, 7, 0)\n",
    "    MP = MultiPosterior()\n",
    "    for i, loc in enumerate(locations):\n",
    "        LD = get_location_LineageData(rc, rs, loc)\n",
    "        PH = sample_loaded_posterior(LD, LM, num_samples=num_samples, path=path, name=loc)   \n",
    "        MP.add_posterior(PH)\n",
    "        print(f\"Location {loc} finished {i+1} / {len(locations)}\")\n",
    "    return MP"
   ]
  },
  {
   "cell_type": "code",
   "execution_count": null,
   "id": "726fa478",
   "metadata": {
    "scrolled": true
   },
   "outputs": [],
   "source": [
    "MP_free = load_models(raw_cases, raw_seq, locations, FreeGrowthModel, path=path_free, num_samples=3000)\n",
    "MP_fixed = load_models(raw_cases, raw_seq, locations, FixedGrowthModel, path=path_fixed, num_samples=3000)"
   ]
  },
  {
   "cell_type": "code",
   "execution_count": null,
   "id": "periodic-portal",
   "metadata": {},
   "outputs": [],
   "source": [
    "# Exporting growth info\n",
    "ps = [0.95, 0.8, 0.5] # Which credible intevals to save\n",
    "R_free, r_free = gather_free_Rt(MP_free, ps, g=gen, path=path_base, name=data_name)\n",
    "R_fixed, r_fixed, ga_fixed = gather_fixed_Rt(MP_fixed, ps, path=path_base, name=data_name)"
   ]
  }
 ],
 "metadata": {
  "kernelspec": {
   "display_name": "Python 3 (ipykernel)",
   "language": "python",
   "name": "python3"
  },
  "language_info": {
   "codemirror_mode": {
    "name": "ipython",
    "version": 3
   },
   "file_extension": ".py",
   "mimetype": "text/x-python",
   "name": "python",
   "nbconvert_exporter": "python",
   "pygments_lexer": "ipython3",
   "version": "3.9.9"
  }
 },
 "nbformat": 4,
 "nbformat_minor": 5
}
