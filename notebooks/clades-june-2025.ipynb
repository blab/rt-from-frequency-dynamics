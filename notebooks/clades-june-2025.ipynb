{
 "cells": [
  {
   "cell_type": "code",
   "execution_count": 1,
   "id": "established-works",
   "metadata": {},
   "outputs": [
    {
     "name": "stderr",
     "output_type": "stream",
     "text": [
      "/opt/homebrew/lib/python3.13/site-packages/tqdm/auto.py:21: TqdmWarning: IProgress not found. Please update jupyter and ipywidgets. See https://ipywidgets.readthedocs.io/en/stable/user_install.html\n",
      "  from .autonotebook import tqdm as notebook_tqdm\n"
     ]
    }
   ],
   "source": [
    "import numpyro\n",
    "import numpy as np\n",
    "import pandas as pd\n",
    "import jax.numpy as jnp\n",
    "\n",
    "import rt_from_frequency_dynamics as rf"
   ]
  },
  {
   "cell_type": "code",
   "execution_count": 2,
   "id": "accomplished-ownership",
   "metadata": {},
   "outputs": [],
   "source": [
    "data_name = \"clades-june-2025\"\n",
    "raw_cases = pd.read_csv(f\"../data/{data_name}/{data_name}_location-case-counts.tsv\", sep=\"\\t\")\n",
    "raw_seq = pd.read_csv(f\"../data/{data_name}/{data_name}_location-variant-sequence-counts.tsv\", sep=\"\\t\")"
   ]
  },
  {
   "cell_type": "code",
   "execution_count": 3,
   "id": "confirmed-creator",
   "metadata": {},
   "outputs": [],
   "source": [
    "# Locations to run\n",
    "locations = pd.unique(raw_seq[\"location\"])"
   ]
  },
  {
   "cell_type": "code",
   "execution_count": 4,
   "id": "expected-quarter",
   "metadata": {},
   "outputs": [],
   "source": [
    "# Defining Lineage Models\n",
    "seed_L = 14\n",
    "forecast_L = 7\n",
    "\n",
    "gen = rf.discretise_gamma(mn=3.1, std=1.2)\n",
    "\n",
    "delays = rf.pad_delays([rf.discretise_lognorm(mn=3.1, std=1.0)])\n",
    "\n",
    "LM_GARW = rf.RenewalModel(gen, delays, seed_L, forecast_L, k=8,\n",
    "                       RLik = rf.GARW(1e-2, 1e-3, prior_family=\"Normal\"),\n",
    "                       CLik = rf.ZINegBinomCases(0.05),\n",
    "                       SLik = rf.DirMultinomialSeq(50))"
   ]
  },
  {
   "cell_type": "code",
   "execution_count": 5,
   "id": "thousand-future",
   "metadata": {},
   "outputs": [],
   "source": [
    "# Params for fitting\n",
    "opt = numpyro.optim.Adam(step_size=4e-3)\n",
    "iters = 50_000\n",
    "num_samples = 1_000\n",
    "save = True\n",
    "load = False"
   ]
  },
  {
   "cell_type": "code",
   "execution_count": 6,
   "id": "demonstrated-lesbian",
   "metadata": {},
   "outputs": [],
   "source": [
    "# Paths for export\n",
    "path_base = f\"../estimates/{data_name}\"\n",
    "path_GARW = path_base + \"/GARW\"\n",
    "\n",
    "rf.make_model_directories(path_GARW)"
   ]
  },
  {
   "cell_type": "markdown",
   "id": "632335a3",
   "metadata": {},
   "source": [
    "# Running models and exporting results"
   ]
  },
  {
   "cell_type": "code",
   "execution_count": 7,
   "id": "2ba9be50",
   "metadata": {},
   "outputs": [
    {
     "name": "stdout",
     "output_type": "stream",
     "text": [
      "Location USA finished (1/1).\n"
     ]
    }
   ],
   "source": [
    "# Running GARW model\n",
    "MP_GARW = rf.fit_SVI_locations(raw_cases, raw_seq, locations, \n",
    "                             LM_GARW, opt, \n",
    "                             iters=iters, num_samples=num_samples, save=save, load=load, path=path_GARW)"
   ]
  },
  {
   "cell_type": "markdown",
   "id": "c3931fd5",
   "metadata": {},
   "source": [
    "## Loading results"
   ]
  },
  {
   "cell_type": "code",
   "execution_count": 8,
   "id": "118b4e1a",
   "metadata": {},
   "outputs": [],
   "source": [
    "# Loading past results\n",
    "def load_models(rc, rs, locations, RM, path=\".\", num_samples=1000):\n",
    "    MP = rf.MultiPosterior()\n",
    "    for i, loc in enumerate(locations):\n",
    "        LD = rf.get_location_VariantData(rc, rs, loc)\n",
    "        PH = rf.sample_loaded_posterior(LD, RM, num_samples=num_samples, path=path, name=loc)   \n",
    "        MP.add_posterior(PH)\n",
    "        print(f\"Location {loc} finished {i+1} / {len(locations)}\")\n",
    "    return MP"
   ]
  },
  {
   "cell_type": "code",
   "execution_count": 9,
   "id": "05dc84f7",
   "metadata": {},
   "outputs": [
    {
     "name": "stdout",
     "output_type": "stream",
     "text": [
      "Location USA finished 1 / 1\n"
     ]
    }
   ],
   "source": [
    "MP_GARW = load_models(raw_cases, raw_seq, locations, LM_GARW, path=path_GARW, num_samples=3000)"
   ]
  },
  {
   "cell_type": "code",
   "execution_count": 10,
   "id": "periodic-portal",
   "metadata": {},
   "outputs": [],
   "source": [
    "# Exporting growth info\n",
    "ps = [0.95, 0.8, 0.5] # Which credible intevals to save"
   ]
  },
  {
   "cell_type": "code",
   "execution_count": 11,
   "id": "7d7a5299",
   "metadata": {},
   "outputs": [],
   "source": [
    "# Export GARW\n",
    "R_GARW = rf.gather_R(MP_GARW, ps)\n",
    "r_GARW = rf.gather_little_r(MP_GARW, ps)\n",
    "I_GARW = rf.gather_I(MP_GARW, ps)\n",
    "freq_GARW = rf.gather_freq(MP_GARW, ps)\n",
    "\n",
    "R_GARW.to_csv(f\"{path_base}/{data_name}_Rt-combined-GARW.tsv\", encoding='utf-8', sep='\\t', index=False)\n",
    "r_GARW.to_csv(f\"{path_base}/{data_name}_little-r-combined-GARW.tsv\", encoding='utf-8', sep='\\t', index=False)\n",
    "I_GARW.to_csv(f\"{path_base}/{data_name}_I-combined-GARW.tsv\", encoding='utf-8', sep='\\t', index=False)\n",
    "freq_GARW.to_csv(f\"{path_base}/{data_name}_freq-combined-GARW.tsv\", encoding='utf-8', sep='\\t', index=False)"
   ]
  },
  {
   "cell_type": "code",
   "execution_count": 12,
   "id": "f2d220ce",
   "metadata": {},
   "outputs": [],
   "source": [
    "# Export Forecasts\n",
    "R_GARW_f = rf.gather_R(MP_GARW, ps, forecast=True)\n",
    "r_GARW_f = rf.gather_little_r(MP_GARW, ps, forecast=True)\n",
    "I_GARW_f = rf.gather_I(MP_GARW, ps, forecast=True)\n",
    "freq_GARW_f = rf.gather_freq(MP_GARW, ps, forecast=True)\n",
    "\n",
    "R_GARW_f.to_csv(f\"{path_base}/{data_name}_Rt-combined-forecast-GARW.tsv\", encoding='utf-8', sep='\\t', index=False)\n",
    "r_GARW_f.to_csv(f\"{path_base}/{data_name}_little-r-combined-forecast-GARW.tsv\", encoding='utf-8', sep='\\t', index=False)\n",
    "I_GARW_f.to_csv(f\"{path_base}/{data_name}_I-combined-forecast-GARW.tsv\", encoding='utf-8', sep='\\t', index=False)\n",
    "freq_GARW_f.to_csv(f\"{path_base}/{data_name}_freq-combined-forecast-GARW.tsv\", encoding='utf-8', sep='\\t', index=False)"
   ]
  },
  {
   "cell_type": "code",
   "execution_count": null,
   "id": "velvet-sleeping",
   "metadata": {},
   "outputs": [],
   "source": []
  }
 ],
 "metadata": {
  "kernelspec": {
   "display_name": "Python 3 (ipykernel)",
   "language": "python",
   "name": "python3"
  },
  "language_info": {
   "codemirror_mode": {
    "name": "ipython",
    "version": 3
   },
   "file_extension": ".py",
   "mimetype": "text/x-python",
   "name": "python",
   "nbconvert_exporter": "python",
   "pygments_lexer": "ipython3",
   "version": "3.13.2"
  }
 },
 "nbformat": 4,
 "nbformat_minor": 5
}
