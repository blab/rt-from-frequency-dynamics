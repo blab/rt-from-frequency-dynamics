{
 "cells": [
  {
   "cell_type": "code",
   "execution_count": null,
   "id": "2f986d86",
   "metadata": {},
   "outputs": [],
   "source": [
    "import pandas as pd\n",
    "import matplotlib.pyplot as plt\n",
    "import jax.numpy as jnp"
   ]
  },
  {
   "cell_type": "code",
   "execution_count": null,
   "id": "d993a32a",
   "metadata": {},
   "outputs": [],
   "source": [
    "# Replacing state initials with names\n",
    "# Thanks: https://gist.github.com/JeffPaine/3083347\n",
    "abv_to_full = {\n",
    "    'AK': 'Alaska',\n",
    "    'AL': 'Alabama',\n",
    "    'AR': 'Arkansas',\n",
    "    'AZ': 'Arizona',\n",
    "    'CA': 'California',\n",
    "    'CO': 'Colorado',\n",
    "    'CT': 'Connecticut',\n",
    "    'DC': 'District of Columbia',\n",
    "    'DE': 'Delaware',\n",
    "    'FL': 'Florida',\n",
    "    'GA': 'Georgia',\n",
    "    'HI': 'Hawaii',\n",
    "    'IA': 'Iowa',\n",
    "    'ID': 'Idaho',\n",
    "    'IL': 'Illinois',\n",
    "    'IN': 'Indiana',\n",
    "    'KS': 'Kansas',\n",
    "    'KY': 'Kentucky',\n",
    "    'LA': 'Louisiana',\n",
    "    'MA': 'Massachusetts',\n",
    "    'MD': 'Maryland',\n",
    "    'ME': 'Maine',\n",
    "    'MI': 'Michigan',\n",
    "    'MN': 'Minnesota',\n",
    "    'MO': 'Missouri',\n",
    "    'MS': 'Mississippi',\n",
    "    'MT': 'Montana',\n",
    "    'NC': 'North Carolina',\n",
    "    'ND': 'North Dakota',\n",
    "    'NE': 'Nebraska',\n",
    "    'NH': 'New Hampshire',\n",
    "    'NJ': 'New Jersey',\n",
    "    'NM': 'New Mexico',\n",
    "    'NV': 'Nevada',\n",
    "    'NY': 'New York',\n",
    "    'OH': 'Ohio',\n",
    "    'OK': 'Oklahoma',\n",
    "    'OR': 'Oregon',\n",
    "    'PA': 'Pennsylvania',\n",
    "    'RI': 'Rhode Island',\n",
    "    'SC': 'South Carolina',\n",
    "    'SD': 'South Dakota',\n",
    "    'TN': 'Tennessee',\n",
    "    'TX': 'Texas',\n",
    "    'UT': 'Utah',\n",
    "    'VA': 'Virginia',\n",
    "    'VT': 'Vermont',\n",
    "    'WA': 'Washington',\n",
    "    'WI': 'Wisconsin',\n",
    "    'WV': 'West Virginia',\n",
    "    'WY': 'Wyoming'\n",
    "}\n",
    "\n",
    "\n"
   ]
  },
  {
   "cell_type": "code",
   "execution_count": null,
   "id": "9cbb5ed9",
   "metadata": {},
   "outputs": [],
   "source": [
    "#https://data.cdc.gov/Vaccinations/COVID-19-Vaccinations-in-the-United-States-Jurisdi/unsk-b7fc\n",
    "raw_vaccination = pd.read_csv(\"../../../Downloads/CDC-Vaccination.csv\")"
   ]
  },
  {
   "cell_type": "code",
   "execution_count": null,
   "id": "916e5578",
   "metadata": {},
   "outputs": [],
   "source": [
    "raw_vaccination"
   ]
  },
  {
   "cell_type": "code",
   "execution_count": null,
   "id": "31c5f888",
   "metadata": {},
   "outputs": [],
   "source": [
    "keep_cols = [\"Date\", \"Location\", \"Series_Complete_Pop_Pct\"]\n",
    "vaccination = raw_vaccination[keep_cols]\n",
    "vaccination = vaccination.rename(columns={\"Date\": \"date\", \"Location\":\"location\"})\n",
    "vaccination[\"date\"]=pd.to_datetime(vaccination.date)\n",
    "vaccination = vaccination.sort_values(\"date\")\n",
    "vaccination = vaccination.replace({\"location\":abv_to_full})"
   ]
  },
  {
   "cell_type": "code",
   "execution_count": null,
   "id": "1570bc26",
   "metadata": {},
   "outputs": [],
   "source": [
    "vaccination"
   ]
  },
  {
   "cell_type": "code",
   "execution_count": null,
   "id": "8d0e7124",
   "metadata": {},
   "outputs": [],
   "source": [
    "#https://data.cdc.gov/Case-Surveillance/United-States-COVID-19-Cases-and-Deaths-by-State-o/9mfq-cb36\n",
    "raw_cumcases = pd.read_csv(\"../../../Downloads/CDC-Cases-Deaths.csv\")"
   ]
  },
  {
   "cell_type": "code",
   "execution_count": null,
   "id": "54e69cda",
   "metadata": {},
   "outputs": [],
   "source": [
    "state_pop = pd.read_csv(\"../../../Downloads/state-population-sizes.tsv\", sep=\"\\t\", header=None)\n",
    "state_pop = state_pop.rename(columns={0: \"location\", 1: \"pop_size\"})"
   ]
  },
  {
   "cell_type": "code",
   "execution_count": null,
   "id": "c18be882",
   "metadata": {},
   "outputs": [],
   "source": [
    "keep_cols = [\"submission_date\", \"state\", \"tot_cases\"]\n",
    "cumcases = raw_cumcases[keep_cols]\n",
    "cumcases = cumcases.rename(columns={\"submission_date\": \"date\", \"state\":\"location\"})\n",
    "cumcases[\"date\"]=pd.to_datetime(cumcases.date)\n",
    "cumcases = cumcases.sort_values(\"date\")\n",
    "cumcases = cumcases.replace({\"location\":abv_to_full})\n",
    "cumcases = pd.merge(cumcases, state_pop, on=\"location\")\n",
    "cumcases[\"frac_cases\"] = cumcases[\"tot_cases\"] / cumcases[\"pop_size\"]"
   ]
  },
  {
   "cell_type": "code",
   "execution_count": null,
   "id": "6832a8e4",
   "metadata": {},
   "outputs": [],
   "source": [
    "df = pd.merge(vaccination, cumcases, on=['date',\"location\"])\n",
    "df['Series_Complete_Pop_Pct'] = df['Series_Complete_Pop_Pct'].fillna(0) / 100\n",
    "\n",
    "# Really want to normalize by population\n",
    "\n",
    "# Normalizing cases in each region\n",
    "#grouper = df.groupby('location')['tot_cases']                                                                             \n",
    "#maxes = grouper.transform('max')                                                                                   \n",
    "#mins = grouper.transform('min') \n",
    "\n",
    "#df = df.assign(rel_cases =(df.tot_cases - mins)/(maxes - mins))                                                       "
   ]
  },
  {
   "cell_type": "code",
   "execution_count": null,
   "id": "368f7f78",
   "metadata": {},
   "outputs": [],
   "source": [
    "plt.scatter(df.Series_Complete_Pop_Pct, df.frac_cases)"
   ]
  },
  {
   "cell_type": "code",
   "execution_count": null,
   "id": "440fa844",
   "metadata": {},
   "outputs": [],
   "source": [
    "df # Need median R column"
   ]
  },
  {
   "cell_type": "code",
   "execution_count": null,
   "id": "46ee9617",
   "metadata": {},
   "outputs": [],
   "source": [
    "R_df = pd.read_csv(\"../estimates/variants-us/variants-us_Rt-combined-GARW.tsv\", sep=\"\\t\")[[\"date\", \"location\", \"variant\", \"median_R\"]]\n",
    "R_df[\"date\"]=pd.to_datetime(R_df.date)\n",
    "\n",
    "freq_df = pd.read_csv(\"../estimates/variants-us/variants-us_freq-combined-GARW.tsv\", sep=\"\\t\")[[\"date\", \"location\", \"variant\", \"median_freq\"]]\n",
    "freq_df[\"date\"]=pd.to_datetime(freq_df.date)"
   ]
  },
  {
   "cell_type": "code",
   "execution_count": null,
   "id": "a84f938b",
   "metadata": {},
   "outputs": [],
   "source": [
    "merged_df = pd.merge(pd.merge(freq_df, R_df), df,  on=['date',\"location\"])\n",
    "merged_df = merged_df[merged_df.median_R < 10]\n",
    "merged_df = merged_df[merged_df.median_freq > 0.01]\n",
    "merged_df = merged_df[merged_df[\"Series_Complete_Pop_Pct\"] > 0]"
   ]
  },
  {
   "cell_type": "code",
   "execution_count": null,
   "id": "f5d08215",
   "metadata": {},
   "outputs": [],
   "source": [
    "merged_df.to_csv(\"regression_analysis_df.tsv\", sep=\"\\t\", index=False)"
   ]
  },
  {
   "cell_type": "code",
   "execution_count": null,
   "id": "bb5ae419",
   "metadata": {},
   "outputs": [],
   "source": [
    "grouped = merged_df[merged_df[\"Series_Complete_Pop_Pct\"] > 0].groupby('variant')\n",
    "\n",
    "ncols=3\n",
    "nrows = int(jnp.ceil(grouped.ngroups/ncols))\n",
    "\n",
    "fig, axes = plt.subplots(nrows=nrows, ncols=ncols, figsize=(12,4), sharey=True)\n",
    "for (key, ax) in zip(grouped.groups.keys(), axes.flatten()):\n",
    "    grouped.get_group(key).plot(ax=ax, kind=\"scatter\",x=\"Series_Complete_Pop_Pct\", y=\"median_R\")\n",
    "ax.legend()\n",
    "plt.show()"
   ]
  },
  {
   "cell_type": "code",
   "execution_count": null,
   "id": "717b9340",
   "metadata": {},
   "outputs": [],
   "source": [
    "grouped = merged_df[merged_df[\"Series_Complete_Pop_Pct\"] > 0].groupby('variant')\n",
    "\n",
    "ncols=3\n",
    "nrows = int(jnp.ceil(grouped.ngroups/ncols))\n",
    "\n",
    "fig, axes = plt.subplots(nrows=nrows, ncols=ncols, figsize=(12,4), sharey=True)\n",
    "for (key, ax) in zip(grouped.groups.keys(), axes.flatten()):\n",
    "    grouped.get_group(key).plot(ax=ax, kind=\"scatter\",x=\"frac_cases\", y=\"median_R\")\n",
    "ax.legend()\n",
    "plt.show()"
   ]
  },
  {
   "cell_type": "code",
   "execution_count": null,
   "id": "45347bd2",
   "metadata": {},
   "outputs": [],
   "source": [
    "import numpyro\n",
    "from numpyro.diagnostics import hpdi\n",
    "import numpyro.distributions as dist\n",
    "from numpyro import handlers\n",
    "from numpyro.infer import MCMC, NUTS\n",
    "from numpyro.infer import Predictive, SVI, Trace_ELBO\n",
    "import jax.numpy as jnp\n",
    "from jax import random, vmap\n",
    "from jax.nn import normalize"
   ]
  },
  {
   "cell_type": "code",
   "execution_count": null,
   "id": "1df6a772",
   "metadata": {},
   "outputs": [],
   "source": [
    "# Create data\n",
    "data = dict()\n",
    "\n",
    "# Convert state to dummy\n",
    "state, state_levels = pd.factorize(merged_df[\"location\"])\n",
    "data[\"state\"] = state\n",
    "data[\"N_state\"] = len(state_levels)\n",
    "\n",
    "variant, variant_levels = pd.factorize(merged_df[\"variant\"])\n",
    "data[\"variant\"] = variant\n",
    "data[\"N_variant\"] = len(variant_levels)\n",
    "\n",
    "# Get other columns\n",
    "data[\"vaccination\"] = jnp.array(merged_df[\"Series_Complete_Pop_Pct\"]) \n",
    "data[\"cases\"] = jnp.array(merged_df[\"frac_cases\"])\n",
    "data[\"R\"] = jnp.array(merged_df[\"median_R\"])"
   ]
  },
  {
   "cell_type": "code",
   "execution_count": null,
   "id": "8838b017",
   "metadata": {},
   "outputs": [],
   "source": [
    "def RegressionModel(vaccination, cases, state, variant, N_state, N_variant, R):\n",
    "    # State effects will be drawn from shared variant-specific prior\n",
    "    with numpyro.plate(\"pool_by_variant\", N_variant):\n",
    "        mu_vaccination = numpyro.sample(\"mu_vaccination\", dist.Normal(0.0, 1.0))\n",
    "        sigma_vaccination = numpyro.sample(\"sigma_vaccination\", dist.HalfNormal(1.0))\n",
    "    \n",
    "        mu_cases = numpyro.sample(\"mu_cases\", dist.Normal(0.0, 1.0))\n",
    "        sigma_cases = numpyro.sample(\"sigma_cases\", dist.HalfNormal(1.0))\n",
    "        \n",
    "        #mu_alpha = numpyro.sample(\"mu_alpha\", dist.Normal(0.0, 1.0))\n",
    "        #sigma_cases = numpyro.sample(\"sigma_alpha\", dist.HalfNormal(1.0))        \n",
    "        \n",
    "        # Draw state effects for each variant\n",
    "        with numpyro.plate(\"draw_by_state\", N_state):\n",
    "            beta_vaccination = numpyro.sample(\"beta_vaccination\", dist.Normal(mu_vaccination, sigma_vaccination))\n",
    "            beta_cases = numpyro.sample(\"beta_cases\", dist.Normal(mu_cases, sigma_cases))\n",
    "    \n",
    "            # Unpooled state and variant intercept\n",
    "            alpha = numpyro.sample(\"alpha\", dist.Normal(0.0,1.0)) \n",
    "\n",
    "    # Compute expectation by variant and state\n",
    "    EY = alpha[(state,variant)] + (beta_vaccination[(state,variant)]*vaccination) + (beta_cases[(state,variant)] * cases)   \n",
    "    sigma_Y = numpyro.sample(\"sigma_Y\", dist.HalfNormal(0.1))\n",
    "    Y = numpyro.sample(\"observed_R\", dist.LogNormal(EY, sigma_Y), obs = R)"
   ]
  },
  {
   "cell_type": "code",
   "execution_count": null,
   "id": "3447d1c6",
   "metadata": {},
   "outputs": [],
   "source": [
    "# Run model\n",
    "rng_key = random.PRNGKey(0)\n",
    "rng_key, rng_key_ = random.split(rng_key)\n",
    "\n",
    "# Run NUTS.\n",
    "kernel = NUTS(RegressionModel)\n",
    "num_warmup = 500\n",
    "num_samples = 500\n",
    "#mcmc = MCMC(kernel, num_warmup=num_warmup, num_samples=num_samples)\n",
    "#mcmc.run(rng_key_, **data)\n",
    "#mcmc.print_summary()\n",
    "#samples_1 = mcmc.get_samples()"
   ]
  },
  {
   "cell_type": "code",
   "execution_count": null,
   "id": "85fe71f4",
   "metadata": {},
   "outputs": [],
   "source": [
    "from numpyro.infer.autoguide import AutoMultivariateNormal\n",
    "\n",
    "\n",
    "# Run SVI\n",
    "optimizer = numpyro.optim.Adam(step_size=0.0005)\n",
    "guide = AutoMultivariateNormal(RegressionModel)\n",
    "svi = SVI(RegressionModel, guide, optimizer, loss=Trace_ELBO())\n",
    "\n",
    "svi_result = svi.run(random.PRNGKey(0), 10_000,**data)\n",
    "params = svi_result.params"
   ]
  },
  {
   "cell_type": "code",
   "execution_count": null,
   "id": "9a4756f9",
   "metadata": {},
   "outputs": [],
   "source": [
    "# get posterior samples\n",
    "\n",
    "predictive = Predictive(guide, params=params, num_samples=1000)\n",
    "\n",
    "samples = predictive(random.PRNGKey(1), data)"
   ]
  },
  {
   "cell_type": "code",
   "execution_count": null,
   "id": "f7dcdc2e",
   "metadata": {},
   "outputs": [],
   "source": [
    "samples[\"beta_vaccination\"].shape"
   ]
  },
  {
   "cell_type": "code",
   "execution_count": null,
   "id": "d161da7e",
   "metadata": {},
   "outputs": [],
   "source": [
    "jnp.median(samples[\"mu_vaccination\"], axis=0)\n",
    "#jnp.quantile(samples[\"beta_vaccination\"], jnp.array([0.25, 0.75]), axis=0)[:,:,8]"
   ]
  },
  {
   "cell_type": "code",
   "execution_count": null,
   "id": "ee24abe8",
   "metadata": {},
   "outputs": [],
   "source": [
    "# By variant plot vaccination effect\n",
    "\n",
    "# x-axis is variant, y-axis is magntude\n",
    "\n",
    "def plot_effect(beta, state_levels, variant_levels, colors, title=None):\n",
    "    fig = plt.figure(figsize=(14, 10))\n",
    "    \n",
    "    n_state = len(state_levels)\n",
    "    \n",
    "    # Sort level of confidence  \n",
    "    _lw = [1.5, 2.5, 3.5]\n",
    "    \n",
    "    # Top panel\n",
    "    ax = fig.add_subplot(1,1,1)\n",
    "    ax.axhline(y=0, lw=2,linestyle='dashed', color=\"k\")\n",
    "    \n",
    "    beta_med = jnp.median(beta, axis=0)\n",
    "    beta_q = jnp.quantile(beta, jnp.array([0.25, 0.75]), axis=0)\n",
    "    print(beta_q.shape)\n",
    "    for v, var in enumerate(variant_levels):\n",
    "        ax.scatter([v] * n_state, beta_med[:,v], \n",
    "                    color=colors[v],\n",
    "                    edgecolors=\"k\",\n",
    "                    s = 45,\n",
    "                    zorder = 3)\n",
    "        ax.fill_between([v] * n_state, beta_q[0, :, v], beta_q[1, :, v],\n",
    "                    #fmt = 'none',\n",
    "                    color = colors[v])\n",
    "                    #elinewidth = _lw[0])\n",
    "        \n",
    "    # Adding variant labels\n",
    "    ax.set_xticks(jnp.arange(0, len(variant_levels), 1))\n",
    "    ax.set_xticklabels([v.replace(\"_\", \" \") for v in variant_levels],  rotation=0)\n",
    "    \n",
    "    ax.set_ylabel(\"Effect size\")\n",
    "    \n",
    "    if title is not None:\n",
    "        ax.set_title(title)"
   ]
  },
  {
   "cell_type": "code",
   "execution_count": null,
   "id": "ed35eaff",
   "metadata": {},
   "outputs": [],
   "source": [
    "v_colors =[\"#2e5eaa\", \"#5adbff\",  \"#56e39f\",\"#b4c5e4\", \"#f03a47\",  \"#f5bb00\", \"#9e4244\",\"#9932CC\", \"#808080\"] \n",
    "v_names = ['Alpha', 'Beta', 'Delta', 'Epsilon', 'Gamma', 'Iota', 'Mu', 'Omicron', 'other']\n",
    "color_map = {v : c for c, v in zip(v_colors, v_names)}\n",
    "colors = [color_map[v] for v in variant_levels]\n"
   ]
  },
  {
   "cell_type": "code",
   "execution_count": null,
   "id": "03dd875a",
   "metadata": {
    "scrolled": false
   },
   "outputs": [],
   "source": [
    "plot_effect(samples[\"beta_vaccination\"], state_levels, variant_levels, colors, title=\"Vaccination\")"
   ]
  },
  {
   "cell_type": "code",
   "execution_count": null,
   "id": "9cde1d20",
   "metadata": {},
   "outputs": [],
   "source": [
    "plot_effect(samples[\"beta_cases\"], state_levels, variant_levels, colors, title=\"Fraction cummulative cases\")"
   ]
  },
  {
   "cell_type": "code",
   "execution_count": null,
   "id": "3fbacdb4",
   "metadata": {},
   "outputs": [],
   "source": []
  },
  {
   "cell_type": "code",
   "execution_count": null,
   "id": "215c6c2d",
   "metadata": {},
   "outputs": [],
   "source": [
    "merged_df"
   ]
  },
  {
   "cell_type": "code",
   "execution_count": null,
   "id": "8068c489",
   "metadata": {},
   "outputs": [],
   "source": []
  }
 ],
 "metadata": {
  "kernelspec": {
   "display_name": "Python 3 (ipykernel)",
   "language": "python",
   "name": "python3"
  },
  "language_info": {
   "codemirror_mode": {
    "name": "ipython",
    "version": 3
   },
   "file_extension": ".py",
   "mimetype": "text/x-python",
   "name": "python",
   "nbconvert_exporter": "python",
   "pygments_lexer": "ipython3",
   "version": "3.9.9"
  }
 },
 "nbformat": 4,
 "nbformat_minor": 5
}
