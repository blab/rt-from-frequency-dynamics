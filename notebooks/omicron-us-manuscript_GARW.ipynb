{
 "cells": [
  {
   "cell_type": "code",
   "execution_count": null,
   "id": "established-works",
   "metadata": {},
   "outputs": [],
   "source": [
    "import numpyro\n",
    "import numpy as np\n",
    "import pandas as pd\n",
    "import jax.numpy as jnp\n",
    "\n",
    "import rt_from_frequency_dynamics as rf"
   ]
  },
  {
   "cell_type": "code",
   "execution_count": null,
   "id": "accomplished-ownership",
   "metadata": {},
   "outputs": [],
   "source": [
    "data_name = \"omicron-us-manuscript\"\n",
    "raw_cases = pd.read_csv(f\"../data/{data_name}/{data_name}_location-case-counts.tsv\", sep=\"\\t\")\n",
    "raw_seq = pd.read_csv(f\"../data/{data_name}/{data_name}_location-variant-sequence-counts.tsv\", sep=\"\\t\")"
   ]
  },
  {
   "cell_type": "code",
   "execution_count": null,
   "id": "confirmed-creator",
   "metadata": {},
   "outputs": [],
   "source": [
    "# Locations to run\n",
    "locations = pd.unique(raw_seq[\"location\"])"
   ]
  },
  {
   "cell_type": "code",
   "execution_count": null,
   "id": "expected-quarter",
   "metadata": {},
   "outputs": [],
   "source": [
    "# Defining Lineage Models\n",
    "seed_L = 14\n",
    "forecast_L = 7\n",
    "\n",
    "# Get delays\n",
    "v_names = ['Delta', \n",
    "           'Omicron 21L', \n",
    "           'Omicron 21K', \n",
    "           'Omicron 22A', \n",
    "           'Omicron 22B', \n",
    "           'Omicron 22C', \n",
    "           'other']\n",
    "\n",
    "gen = rf.pad_delays(\n",
    "    [rf.discretise_gamma(mn=4.4, std=1.2), # Delta\n",
    "     rf.discretise_gamma(mn=3.1, std=1.2), # Omicron 21L\n",
    "     rf.discretise_gamma(mn=3.1, std=1.2), # Omicron 21K\n",
    "     rf.discretise_gamma(mn=3.1, std=1.2), # Omicron 22A\n",
    "     rf.discretise_gamma(mn=3.1, std=1.2), # Omicron 22B\n",
    "     rf.discretise_gamma(mn=3.1, std=1.2), # Omicron 22C\n",
    "     rf.discretise_gamma(mn=4.4, std=1.2)] # Other\n",
    "    )\n",
    "delays = rf.pad_delays([rf.discretise_lognorm(mn=3.1, std=1.0)])"
   ]
  },
  {
   "cell_type": "code",
   "execution_count": null,
   "id": "thousand-future",
   "metadata": {},
   "outputs": [],
   "source": [
    "# Params for fitting\n",
    "opt = numpyro.optim.Adam(step_size=4e-3)\n",
    "iters = 50_000\n",
    "num_samples = 3000\n",
    "save = False\n",
    "load = False"
   ]
  },
  {
   "cell_type": "code",
   "execution_count": null,
   "id": "demonstrated-lesbian",
   "metadata": {},
   "outputs": [],
   "source": [
    "# Paths for export\n",
    "path_base = f\"../estimates/{data_name}\"\n",
    "path_GARW = path_base + \"/GARW\"\n",
    "\n",
    "rf.make_model_directories(path_GARW)"
   ]
  },
  {
   "cell_type": "markdown",
   "id": "632335a3",
   "metadata": {},
   "source": [
    "# Running models and exporting results"
   ]
  },
  {
   "cell_type": "code",
   "execution_count": null,
   "id": "92eceb31",
   "metadata": {},
   "outputs": [],
   "source": [
    "LM_GARW = rf.RenewalModel(gen, delays, seed_L, forecast_L, k=10,\n",
    "                       RLik = rf.GARW(0.1, 0.01, prior_family=\"Normal\"),\n",
    "                       CLik = rf.ZINegBinomCases(0.05),\n",
    "                       SLik = rf.DirMultinomialSeq(100),\n",
    "                       v_names = v_names)"
   ]
  },
  {
   "cell_type": "code",
   "execution_count": null,
   "id": "2ba9be50",
   "metadata": {},
   "outputs": [],
   "source": [
    "# Running GARW model\n",
    "MP_GARW = rf.fit_SVI_locations(raw_cases, raw_seq, locations, \n",
    "                             LM_GARW, opt, \n",
    "                             iters=iters, num_samples=num_samples, save=save, load=load, path=path_GARW)"
   ]
  },
  {
   "cell_type": "markdown",
   "id": "c3931fd5",
   "metadata": {},
   "source": [
    "## Loading results"
   ]
  },
  {
   "cell_type": "code",
   "execution_count": null,
   "id": "118b4e1a",
   "metadata": {},
   "outputs": [],
   "source": [
    "# Loading past results\n",
    "def load_models(rc, rs, locations, RM, path=\".\", num_samples=1000):\n",
    "    MP = rf.MultiPosterior()\n",
    "    for i, loc in enumerate(locations):\n",
    "        LD = rf.get_location_VariantData(rc, rs, loc)\n",
    "        PH = rf.sample_loaded_posterior(LD, RM, num_samples=num_samples, path=path, name=loc)   \n",
    "        MP.add_posterior(PH)\n",
    "        print(f\"Location {loc} finished {i+1} / {len(locations)}\")\n",
    "    return MP"
   ]
  },
  {
   "cell_type": "code",
   "execution_count": null,
   "id": "05dc84f7",
   "metadata": {},
   "outputs": [],
   "source": [
    "MP_GARW = load_models(raw_cases, raw_seq, locations, LM_GARW, path=path_GARW, num_samples=3000)"
   ]
  },
  {
   "cell_type": "code",
   "execution_count": null,
   "id": "periodic-portal",
   "metadata": {},
   "outputs": [],
   "source": [
    "# Exporting growth info\n",
    "ps = [0.95, 0.8, 0.5] # Which credible intevals to save"
   ]
  },
  {
   "cell_type": "code",
   "execution_count": null,
   "id": "7d7a5299",
   "metadata": {},
   "outputs": [],
   "source": [
    "# Export GARW\n",
    "R_GARW = rf.gather_R(MP_GARW, ps)\n",
    "r_GARW = rf.gather_little_r(MP_GARW, ps)\n",
    "I_GARW = rf.gather_I(MP_GARW, ps)\n",
    "freq_GARW = rf.gather_freq(MP_GARW, ps)\n",
    "\n",
    "R_GARW.to_csv(f\"{path_base}/{data_name}_Rt-combined-GARW.tsv\", encoding='utf-8', sep='\\t', index=False)\n",
    "r_GARW.to_csv(f\"{path_base}/{data_name}_little-r-combined-GARW.tsv\", encoding='utf-8', sep='\\t', index=False)\n",
    "I_GARW.to_csv(f\"{path_base}/{data_name}_I-combined-GARW.tsv\", encoding='utf-8', sep='\\t', index=False)\n",
    "freq_GARW.to_csv(f\"{path_base}/{data_name}_freq-combined-GARW.tsv\", encoding='utf-8', sep='\\t', index=False)"
   ]
  },
  {
   "cell_type": "code",
   "execution_count": null,
   "id": "f2d220ce",
   "metadata": {},
   "outputs": [],
   "source": [
    "# Export Forecasts\n",
    "R_GARW_f = rf.gather_R(MP_GARW, ps, forecast=True)\n",
    "r_GARW_f = rf.gather_little_r(MP_GARW, ps, forecast=True)\n",
    "I_GARW_f = rf.gather_I(MP_GARW, ps, forecast=True)\n",
    "freq_GARW_f = rf.gather_freq(MP_GARW, ps, forecast=True)\n",
    "\n",
    "R_GARW_f.to_csv(f\"{path_base}/{data_name}_Rt-combined-forecast-GARW.tsv\", encoding='utf-8', sep='\\t', index=False)\n",
    "r_GARW_f.to_csv(f\"{path_base}/{data_name}_little-r-combined-forecast-GARW.tsv\", encoding='utf-8', sep='\\t', index=False)\n",
    "I_GARW_f.to_csv(f\"{path_base}/{data_name}_I-combined-forecast-GARW.tsv\", encoding='utf-8', sep='\\t', index=False)\n",
    "freq_GARW_f.to_csv(f\"{path_base}/{data_name}_freq-combined-forecast-GARW.tsv\", encoding='utf-8', sep='\\t', index=False)"
   ]
  },
  {
   "cell_type": "code",
   "execution_count": null,
   "id": "42ee7e2e",
   "metadata": {},
   "outputs": [],
   "source": [
    "ga_GARW = rf.gather_ga_time(MP_GARW, ps, rel_to=\"Omicron 21K\")\n",
    "ga_GARW.to_csv(f\"{path_base}/{data_name}_ga-combined-GARW.tsv\", encoding='utf-8', sep='\\t', index=False)"
   ]
  },
  {
   "cell_type": "markdown",
   "id": "ea4e9900",
   "metadata": {},
   "source": [
    "# Making figures"
   ]
  },
  {
   "cell_type": "code",
   "execution_count": null,
   "id": "several-rocket",
   "metadata": {},
   "outputs": [],
   "source": [
    "# Figures for export\n",
    "path_fig = path_base + \"/figures\"\n",
    "rf.make_path_if_absent(path_fig)"
   ]
  },
  {
   "cell_type": "code",
   "execution_count": null,
   "id": "dynamic-clause",
   "metadata": {},
   "outputs": [],
   "source": [
    "from rt_from_frequency_dynamics.plotfunctions import *\n",
    "ps = DefaultAes.ps\n",
    "alphas = DefaultAes.alphas\n",
    "v_colors = [\"#56e39f\", \"#89CFF0\", \"#C70039\",  \"#5567aa\", \"#c5d46f\", \"#aa34a4\", \"#808080\"]\n",
    "v_names = ['Delta', \n",
    "           'Omicron 21L', \n",
    "           'Omicron 21K', \n",
    "           'Omicron 22A', \n",
    "           'Omicron 22B', \n",
    "           'Omicron 22C', \n",
    "           'other']\n",
    "color_map = {v : c for c, v in zip(v_colors, v_names)}"
   ]
  },
  {
   "cell_type": "code",
   "execution_count": null,
   "id": "c7fe1407",
   "metadata": {},
   "outputs": [],
   "source": [
    "import matplotlib\n",
    "import matplotlib.pyplot as plt\n",
    "import matplotlib.transforms as mtransforms\n",
    "\n",
    "font = {'family' : 'Helvetica',\n",
    "        'weight' : 'light',\n",
    "        'size'   : 32}\n",
    "\n",
    "matplotlib.rc('font', **font)"
   ]
  },
  {
   "cell_type": "code",
   "execution_count": null,
   "id": "d60660ed",
   "metadata": {},
   "outputs": [],
   "source": [
    "# What to output?"
   ]
  },
  {
   "cell_type": "code",
   "execution_count": null,
   "id": "9f136198",
   "metadata": {},
   "outputs": [],
   "source": [
    "# Variant frequencies for each location from free R model\n",
    "def posterior_frequencies_by_country(MP, ps, alphas, color_map, forecast=False):\n",
    "    locations = list(MP.locator.keys())\n",
    "    n_locations = len(locations)\n",
    "        \n",
    "    size = 8\n",
    "    n_per_row = 3\n",
    "    \n",
    "    if n_locations % n_per_row == 0:\n",
    "        n_rows = n_locations // n_per_row\n",
    "    else:\n",
    "        n_rows = (n_locations // n_per_row) + 1\n",
    "    \n",
    "    fig = plt.figure(figsize=(1.5*n_per_row*size, n_rows*size))\n",
    "    gs = fig.add_gridspec(nrows=n_rows, ncols= n_per_row)\n",
    "    \n",
    "    ax_list = []\n",
    "    for i, loc in enumerate(locations):\n",
    "        this_col = i % n_per_row\n",
    "        this_row = i // n_per_row\n",
    "        ax = fig.add_subplot(gs[this_row, this_col])\n",
    "        dataset, LD = rf.unpack_model(MP, loc)\n",
    "        colors = [color_map[v] for v in LD.seq_names]\n",
    "        \n",
    "        rf.plot_posterior_frequency(ax, dataset, ps, alphas, colors, forecast=forecast)\n",
    "        rf.plot_observed_frequency(ax, LD, colors)\n",
    "        ax.set_title(loc)\n",
    "    \n",
    "        # Adding dates depends on whether we're forecasting\n",
    "        if forecast:\n",
    "            T_forecast = forecast_L\n",
    "            ax.axvline(x=len(LD.dates)-1, color='k', linestyle='--')\n",
    "            rf.add_dates_sep(ax, rf.expand_dates(LD.dates, T_forecast), sep=14)\n",
    "        else:\n",
    "            rf.add_dates_sep(ax, LD.dates, sep=14)\n",
    "            \n",
    "        if this_col == 0:\n",
    "            ax.set_ylabel(\"Variant frequency\")\n",
    "     \n",
    "    # Make legend\n",
    "    patches = [matplotlib.patches.Patch(color=c, label=l) for l, c in color_map.items()]\n",
    "    legend = fig.legend(patches, list(color_map.keys()), ncol=len(color_map.keys()), loc=\"lower center\")  \n",
    "    legend.get_frame().set_linewidth(2.)\n",
    "    legend.get_frame().set_edgecolor(\"k\")\n",
    "    fig.tight_layout()\n",
    "    fig.subplots_adjust(bottom = 0.1)\n",
    "    return fig"
   ]
  },
  {
   "cell_type": "code",
   "execution_count": null,
   "id": "9b17208f",
   "metadata": {
    "scrolled": true
   },
   "outputs": [],
   "source": [
    "fig_freq = posterior_frequencies_by_country(MP_GARW, ps, alphas, color_map, forecast=False)"
   ]
  },
  {
   "cell_type": "code",
   "execution_count": null,
   "id": "d8636b8e",
   "metadata": {},
   "outputs": [],
   "source": [
    "# Variant cases for each location from free R model\n",
    "def posterior_cases_by_country(MP, ps, alphas, color_map, forecast=False):\n",
    "    locations = list(MP.locator.keys())\n",
    "    n_locations = len(locations)\n",
    "        \n",
    "    size = 8\n",
    "    n_per_row = 3\n",
    "    \n",
    "    if n_locations % n_per_row == 0:\n",
    "        n_rows = n_locations // n_per_row\n",
    "    else:\n",
    "        n_rows = (n_locations // n_per_row) + 1\n",
    "    \n",
    "    fig = plt.figure(figsize=(1.9*n_per_row*size, n_rows*size))\n",
    "    gs = fig.add_gridspec(nrows=n_rows, ncols= n_per_row)\n",
    "    \n",
    "    ax_list = []\n",
    "    for i, loc in enumerate(locations):\n",
    "        this_col = i % n_per_row\n",
    "        this_row = i // n_per_row\n",
    "        ax = fig.add_subplot(gs[this_row, this_col])\n",
    "        dataset, LD = rf.unpack_model(MP, loc)\n",
    "        colors = [color_map[v] for v in LD.seq_names]\n",
    "        \n",
    "        rf.plot_posterior_I(ax, dataset, ps, alphas, colors, forecast=forecast)\n",
    "        #plot_posterior_EC(ax, dataset, ps, alphas, \"grey\", forecast=forecast)\n",
    "        rf.plot_cases(ax, LD)\n",
    "        ax.set_title(loc)\n",
    "        \n",
    "        \n",
    "        # Adding dates depends on whether we're forecasting\n",
    "        if forecast:\n",
    "            T_forecast = forecast_L\n",
    "            ax.axvline(x=len(LD.dates)-1, color='k', linestyle='--')\n",
    "            rf.add_dates_sep(ax, rf.expand_dates(LD.dates, T_forecast), sep=14)\n",
    "        else:\n",
    "            rf.add_dates_sep(ax, LD.dates, sep=14)\n",
    "            \n",
    "        if this_col == 0:\n",
    "            ax.set_ylabel(\"Variant cases\")\n",
    "     \n",
    "    # Make legend\n",
    "    patches = [matplotlib.patches.Patch(color=c, label=l) for l, c in color_map.items()]\n",
    "    legend = fig.legend(patches, list(color_map.keys()), ncol=len(color_map.keys()), loc=\"lower center\")  \n",
    "    legend.get_frame().set_linewidth(2.)\n",
    "    legend.get_frame().set_edgecolor(\"k\")\n",
    "    fig.tight_layout()\n",
    "    fig.subplots_adjust(bottom = 0.1)\n",
    "    return fig"
   ]
  },
  {
   "cell_type": "code",
   "execution_count": null,
   "id": "e01dfc9b",
   "metadata": {},
   "outputs": [],
   "source": [
    "fig_cases = posterior_cases_by_country(MP_GARW, ps, alphas, color_map, forecast=False)"
   ]
  },
  {
   "cell_type": "code",
   "execution_count": null,
   "id": "46c6c93b",
   "metadata": {},
   "outputs": [],
   "source": [
    "# Variant R for each location from free R model\n",
    "def posterior_R_by_country(MP, ps, alphas, color_map, forecast=False):\n",
    "    locations = list(MP.locator.keys())\n",
    "    n_locations = len(locations)\n",
    "        \n",
    "    size = 8\n",
    "    n_per_row = 3\n",
    "    \n",
    "    if n_locations % n_per_row == 0:\n",
    "        n_rows = n_locations // n_per_row\n",
    "    else:\n",
    "        n_rows = (n_locations // n_per_row) + 1\n",
    "    \n",
    "    fig = plt.figure(figsize=(1.9*n_per_row*size, n_rows*size))\n",
    "    gs = fig.add_gridspec(nrows=n_rows, ncols= n_per_row)\n",
    "    \n",
    "    ax_list = []\n",
    "    for i, loc in enumerate(locations):\n",
    "        this_col = i % n_per_row\n",
    "        this_row = i // n_per_row\n",
    "        ax = fig.add_subplot(gs[this_row, this_col])\n",
    "        dataset, LD = rf.unpack_model(MP, loc)\n",
    "        colors = [color_map[v] for v in LD.seq_names]\n",
    "        \n",
    "        rf.plot_R_censored(ax, dataset, ps, alphas, colors, thres=0.001, forecast=forecast)\n",
    "        ax.set_title(loc)\n",
    "        \n",
    "        \n",
    "        # Adding dates depends on whether we're forecasting\n",
    "        if forecast:\n",
    "            T_forecast = forecast_L\n",
    "            ax.axvline(x=len(LD.dates)-1, color='k', linestyle='--')\n",
    "            rf.add_dates_sep(ax, expand_dates(LD.dates, T_forecast), sep=14)\n",
    "        else:\n",
    "            rf.add_dates_sep(ax, LD.dates, sep=14)\n",
    "            \n",
    "        if this_col == 0:\n",
    "            ax.set_ylabel(\"Variant R\")\n",
    "     \n",
    "    # Make legend\n",
    "    patches = [matplotlib.patches.Patch(color=c, label=l) for l, c in color_map.items()]\n",
    "    legend = fig.legend(patches, list(color_map.keys()), ncol=len(color_map.keys()), loc=\"lower center\")  \n",
    "    legend.get_frame().set_linewidth(2.)\n",
    "    legend.get_frame().set_edgecolor(\"k\")\n",
    "    fig.tight_layout()\n",
    "    fig.subplots_adjust(bottom = 0.1)\n",
    "    return fig"
   ]
  },
  {
   "cell_type": "code",
   "execution_count": null,
   "id": "4623bf18",
   "metadata": {},
   "outputs": [],
   "source": [
    "fig_R = posterior_R_by_country(MP_GARW, ps, alphas, color_map, forecast=False)"
   ]
  },
  {
   "cell_type": "code",
   "execution_count": null,
   "id": "43ea272b",
   "metadata": {},
   "outputs": [],
   "source": [
    "# Variant frequencies for each location from free R model\n",
    "def posterior_epidemic_gr_by_country(MP, g, ps, alphas, color_map, forecast=False):\n",
    "    locations = list(MP.locator.keys())\n",
    "    n_locations = len(locations)\n",
    "        \n",
    "    size = 8\n",
    "    n_per_row = 3\n",
    "    \n",
    "    if n_locations % n_per_row == 0:\n",
    "        n_rows = n_locations // n_per_row\n",
    "    else:\n",
    "        n_rows = (n_locations // n_per_row) + 1\n",
    "    \n",
    "    fig = plt.figure(figsize=(1.9*n_per_row*size, n_rows*size))\n",
    "    gs = fig.add_gridspec(nrows=n_rows, ncols= n_per_row)\n",
    "    \n",
    "    ax_list = []\n",
    "    for i, loc in enumerate(locations):\n",
    "        this_col = i % n_per_row\n",
    "        this_row = i // n_per_row\n",
    "        ax = fig.add_subplot(gs[this_row, this_col])\n",
    "        dataset, LD = rf.unpack_model(MP, loc)\n",
    "        colors = [color_map[v] for v in LD.seq_names]\n",
    "        \n",
    "        rf.plot_little_r_censored(ax, dataset, ps, alphas, colors, thres=0.01, forecast=forecast)\n",
    "        ax.set_title(loc)\n",
    "        \n",
    "        \n",
    "        # Adding dates depends on whether we're forecasting\n",
    "        if forecast:\n",
    "            T_forecast = forecast_L\n",
    "            ax.axvline(x=len(LD.dates)-1, color='k', linestyle='--')\n",
    "            rf.add_dates_sep(ax, rf.expand_dates(LD.dates, T_forecast), sep=14)\n",
    "        else:\n",
    "            rf.add_dates_sep(ax, LD.dates, sep=14)\n",
    "            \n",
    "        if this_col == 0:\n",
    "            ax.set_ylabel(\"Epidemic Growth Rate\")\n",
    "     \n",
    "    # Make legend\n",
    "    patches = [matplotlib.patches.Patch(color=c, label=l) for l, c in color_map.items()]\n",
    "    legend = fig.legend(patches, list(color_map.keys()), ncol=len(color_map.keys()), loc=\"lower center\")  \n",
    "    legend.get_frame().set_linewidth(2.)\n",
    "    legend.get_frame().set_edgecolor(\"k\")\n",
    "    fig.tight_layout()\n",
    "    fig.subplots_adjust(bottom = 0.1)\n",
    "    return fig"
   ]
  },
  {
   "cell_type": "code",
   "execution_count": null,
   "id": "08351f17",
   "metadata": {},
   "outputs": [],
   "source": [
    "fig_little_r = posterior_epidemic_gr_by_country(MP_GARW, gen, ps, alphas, color_map, forecast=False)"
   ]
  },
  {
   "cell_type": "markdown",
   "id": "40d10494",
   "metadata": {},
   "source": [
    "\n",
    "# Saving figures\n"
   ]
  },
  {
   "cell_type": "code",
   "execution_count": null,
   "id": "a8a585fe",
   "metadata": {},
   "outputs": [],
   "source": [
    "model_names = [\"GARW\"]\n",
    "model_posterior = [MP_GARW]"
   ]
  },
  {
   "cell_type": "code",
   "execution_count": null,
   "id": "48da6807",
   "metadata": {},
   "outputs": [],
   "source": [
    "for mname, MP in zip(model_names, model_posterior):\n",
    "    fig_freq = posterior_frequencies_by_country(MP, ps, alphas, color_map, forecast=False);\n",
    "    fig_cases = posterior_cases_by_country(MP, ps, alphas, color_map, forecast=False);\n",
    "    fig_R = posterior_R_by_country(MP, ps, alphas, color_map, forecast=False);\n",
    "    fig_little_r = posterior_epidemic_gr_by_country(MP, gen, ps, alphas, color_map, forecast=False);\n",
    "    \n",
    "    # Export figures\n",
    "    fig_freq.savefig(f\"{path_fig}/{data_name}_frequency-estimates-{mname}.png\", facecolor=\"w\", bbox_inches='tight')\n",
    "    fig_cases.savefig(f\"{path_fig}/{data_name}_cases-estimates-{mname}.png\", facecolor=\"w\", bbox_inches='tight')\n",
    "    fig_R.savefig(f\"{path_fig}/{data_name}_R-estimates-{mname}.png\", facecolor=\"w\", bbox_inches='tight')\n",
    "    fig_little_r.savefig(f\"{path_fig}/{data_name}_little-r-estimates-{mname}.png\", facecolor=\"w\", bbox_inches='tight')"
   ]
  },
  {
   "cell_type": "code",
   "execution_count": null,
   "id": "28256fd8",
   "metadata": {},
   "outputs": [],
   "source": []
  },
  {
   "cell_type": "code",
   "execution_count": null,
   "id": "6c956cdb",
   "metadata": {},
   "outputs": [],
   "source": []
  }
 ],
 "metadata": {
  "kernelspec": {
   "display_name": "Python 3 (ipykernel)",
   "language": "python",
   "name": "python3"
  },
  "language_info": {
   "codemirror_mode": {
    "name": "ipython",
    "version": 3
   },
   "file_extension": ".py",
   "mimetype": "text/x-python",
   "name": "python",
   "nbconvert_exporter": "python",
   "pygments_lexer": "ipython3",
   "version": "3.9.13"
  }
 },
 "nbformat": 4,
 "nbformat_minor": 5
}
