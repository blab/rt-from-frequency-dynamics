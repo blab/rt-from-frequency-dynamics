{
 "cells": [
  {
   "cell_type": "code",
   "execution_count": 15,
   "id": "established-works",
   "metadata": {},
   "outputs": [],
   "source": [
    "import numpyro\n",
    "import pandas as pd\n",
    "import jax.numpy as jnp\n",
    "\n",
    "import rt_from_frequency_dynamics as rf\n",
    "from rt_from_frequency_dynamics import discretise_gamma\n",
    "from rt_from_frequency_dynamics import get_standard_delays\n",
    "from rt_from_frequency_dynamics import FreeGrowthModel, FixedGrowthModel\n",
    "\n",
    "from rt_from_frequency_dynamics import get_location_VariantData\n",
    "from rt_from_frequency_dynamics import fit_SVI, MultiPosterior\n",
    "from rt_from_frequency_dynamics import make_model_directories\n",
    "from rt_from_frequency_dynamics import gather_R"
   ]
  },
  {
   "cell_type": "code",
   "execution_count": 16,
   "id": "accomplished-ownership",
   "metadata": {},
   "outputs": [],
   "source": [
    "data_name = \"omicron-us\"\n",
    "raw_cases = pd.read_csv(f\"../data/{data_name}/{data_name}_location-case-counts.tsv\", sep=\"\\t\")\n",
    "raw_seq = pd.read_csv(f\"../data/{data_name}/{data_name}_location-variant-sequence-counts.tsv\", sep=\"\\t\")"
   ]
  },
  {
   "cell_type": "code",
   "execution_count": 18,
   "id": "overall-isaac",
   "metadata": {},
   "outputs": [],
   "source": [
    "# Defining Lineage Models\n",
    "seed_L = 14\n",
    "forecast_L = 7\n",
    "\n",
    "# Get delays\n",
    "v_names = ['Delta', 'Omicron', 'other']\n",
    "gen = rf.pad_delays(\n",
    "    [rf.discretise_gamma(mn=4.4, std=1.2), # Delta\n",
    "     rf.discretise_gamma(mn=3.1, std=1.2), # Omicron\n",
    "     rf.discretise_gamma(mn=4.4, std=1.2)] # Other\n",
    "    )\n",
    "\n",
    "delays = rf.pad_delays([rf.discretise_lognorm(mn=3.1, std=1.0)])\n",
    "\n",
    "GARW = rf.GARW(0.1, 0.1)\n",
    "FGA = rf.FixedGA(1.0)\n",
    "CLik = rf.ZINegBinomCases(0.05)\n",
    "SLik = rf.DirMultinomialSeq()\n",
    "            \n",
    "# Data will be constant between models\n",
    "LD = get_location_VariantData(raw_cases, raw_seq, \"Washington\")"
   ]
  },
  {
   "cell_type": "code",
   "execution_count": 19,
   "id": "federal-yugoslavia",
   "metadata": {},
   "outputs": [],
   "source": [
    "# Shared fitting params\n",
    "opt = numpyro.optim.Adam(step_size=1e-3)\n",
    "iters = 50_000\n",
    "num_samples = 3000\n",
    "save = True\n",
    "load = False"
   ]
  },
  {
   "cell_type": "markdown",
   "id": "8b84ed29",
   "metadata": {},
   "source": [
    "## Varying means of the generation time"
   ]
  },
  {
   "cell_type": "code",
   "execution_count": 20,
   "id": "offshore-chinese",
   "metadata": {},
   "outputs": [],
   "source": [
    "def fit_SVI_sensitivity_mean(LD, RLik, mns, opt, **fit_kwargs):\n",
    "    n_mns = len(mns)\n",
    "    MP = MultiPosterior()\n",
    "    for i, mn in enumerate(mns):\n",
    "        gen = rf.pad_delays(\n",
    "            [rf.discretise_gamma(mn=4.4, std=1.2), # Delta\n",
    "             rf.discretise_gamma(mn=mn, std=1.2), # Omicron\n",
    "             rf.discretise_gamma(mn=4.4, std=1.2)] # Other\n",
    "        )\n",
    "        LM = rf.RenewalModel(gen, delays, seed_L, forecast_L, k=10,\n",
    "                            RLik = RLik,\n",
    "                            CLik = CLik,\n",
    "                            SLik = SLik,\n",
    "                            v_names = v_names)\n",
    "        PH = fit_SVI(LD, LM, opt, name=f\"g_mean_{mn}\", **fit_kwargs)\n",
    "        MP.add_posterior(PH)\n",
    "        print(f'Finished ({i+1}/{n_mns}).')\n",
    "    return MP"
   ]
  },
  {
   "cell_type": "code",
   "execution_count": 21,
   "id": "64226aee",
   "metadata": {},
   "outputs": [],
   "source": [
    "# mns to loop over\n",
    "mns = jnp.arange(2.0, 6.01, 0.5)\n",
    "model_name_mean = \"omicron-us-sensitivity-means\"\n",
    "path_mean = f\"../estimates/{model_name_mean}\""
   ]
  },
  {
   "cell_type": "code",
   "execution_count": 23,
   "id": "f897b211",
   "metadata": {},
   "outputs": [
    {
     "name": "stdout",
     "output_type": "stream",
     "text": [
      "Finished (1/9).\n",
      "Finished (2/9).\n",
      "Finished (3/9).\n",
      "Finished (4/9).\n",
      "Finished (5/9).\n",
      "Finished (6/9).\n",
      "Finished (7/9).\n",
      "Finished (8/9).\n",
      "Finished (9/9).\n"
     ]
    }
   ],
   "source": [
    "# Free Model settings\n",
    "path_GARW = path_mean + \"/GARW\"\n",
    "make_model_directories(path_GARW)\n",
    "MP_GARW = fit_SVI_sensitivity_mean(LD, GARW, mns, opt, \n",
    "                                 iters=iters, num_samples=num_samples, save=save, load=load, path=path_GARW)"
   ]
  },
  {
   "cell_type": "code",
   "execution_count": 24,
   "id": "49a2d8c5",
   "metadata": {},
   "outputs": [
    {
     "name": "stdout",
     "output_type": "stream",
     "text": [
      "../estimates/omicron-us-sensitivity-means/fixed created.\n",
      "../estimates/omicron-us-sensitivity-means/fixed/models created.\n",
      "Finished (1/9).\n",
      "Finished (2/9).\n",
      "Finished (3/9).\n",
      "Finished (4/9).\n",
      "Finished (5/9).\n",
      "Finished (6/9).\n",
      "Finished (7/9).\n",
      "Finished (8/9).\n",
      "Finished (9/9).\n"
     ]
    }
   ],
   "source": [
    "# Fixed model settings\n",
    "path_fixed = path_mean + \"/fixed\"\n",
    "make_model_directories(path_fixed)\n",
    "MP_fixed = fit_SVI_sensitivity_mean(LD, FGA, mns, opt, \n",
    "                                 iters=iters, num_samples=num_samples, save=save, load=load, path=path_fixed)"
   ]
  },
  {
   "cell_type": "code",
   "execution_count": 26,
   "id": "200c48fd",
   "metadata": {},
   "outputs": [
    {
     "data": {
      "text/html": [
       "<div>\n",
       "<style scoped>\n",
       "    .dataframe tbody tr th:only-of-type {\n",
       "        vertical-align: middle;\n",
       "    }\n",
       "\n",
       "    .dataframe tbody tr th {\n",
       "        vertical-align: top;\n",
       "    }\n",
       "\n",
       "    .dataframe thead th {\n",
       "        text-align: right;\n",
       "    }\n",
       "</style>\n",
       "<table border=\"1\" class=\"dataframe\">\n",
       "  <thead>\n",
       "    <tr style=\"text-align: right;\">\n",
       "      <th></th>\n",
       "      <th>date</th>\n",
       "      <th>location</th>\n",
       "      <th>variant</th>\n",
       "      <th>median_R</th>\n",
       "      <th>median_freq</th>\n",
       "      <th>R_upper_95</th>\n",
       "      <th>R_lower_95</th>\n",
       "      <th>R_upper_80</th>\n",
       "      <th>R_lower_80</th>\n",
       "      <th>R_upper_50</th>\n",
       "      <th>R_lower_50</th>\n",
       "    </tr>\n",
       "  </thead>\n",
       "  <tbody>\n",
       "    <tr>\n",
       "      <th>0</th>\n",
       "      <td>2021-11-15</td>\n",
       "      <td>g_mean_2.0</td>\n",
       "      <td>Delta</td>\n",
       "      <td>0.585659</td>\n",
       "      <td>9.979598e-01</td>\n",
       "      <td>0.986828</td>\n",
       "      <td>0.2795903</td>\n",
       "      <td>0.8187542</td>\n",
       "      <td>0.36371708</td>\n",
       "      <td>0.6516364</td>\n",
       "      <td>0.4207992</td>\n",
       "    </tr>\n",
       "    <tr>\n",
       "      <th>1</th>\n",
       "      <td>2021-11-16</td>\n",
       "      <td>g_mean_2.0</td>\n",
       "      <td>Delta</td>\n",
       "      <td>0.603599</td>\n",
       "      <td>9.974052e-01</td>\n",
       "      <td>0.93598783</td>\n",
       "      <td>0.3706891</td>\n",
       "      <td>0.7760973</td>\n",
       "      <td>0.4146602</td>\n",
       "      <td>0.67109406</td>\n",
       "      <td>0.48543242</td>\n",
       "    </tr>\n",
       "    <tr>\n",
       "      <th>2</th>\n",
       "      <td>2021-11-17</td>\n",
       "      <td>g_mean_2.0</td>\n",
       "      <td>Delta</td>\n",
       "      <td>0.627997</td>\n",
       "      <td>9.966645e-01</td>\n",
       "      <td>0.87631667</td>\n",
       "      <td>0.42650717</td>\n",
       "      <td>0.76759183</td>\n",
       "      <td>0.47843435</td>\n",
       "      <td>0.6825261</td>\n",
       "      <td>0.53335714</td>\n",
       "    </tr>\n",
       "    <tr>\n",
       "      <th>3</th>\n",
       "      <td>2021-11-18</td>\n",
       "      <td>g_mean_2.0</td>\n",
       "      <td>Delta</td>\n",
       "      <td>0.655303</td>\n",
       "      <td>9.955301e-01</td>\n",
       "      <td>0.8650179</td>\n",
       "      <td>0.48425746</td>\n",
       "      <td>0.7738236</td>\n",
       "      <td>0.53520864</td>\n",
       "      <td>0.7159328</td>\n",
       "      <td>0.5925176</td>\n",
       "    </tr>\n",
       "    <tr>\n",
       "      <th>4</th>\n",
       "      <td>2021-11-19</td>\n",
       "      <td>g_mean_2.0</td>\n",
       "      <td>Delta</td>\n",
       "      <td>0.687580</td>\n",
       "      <td>9.948864e-01</td>\n",
       "      <td>0.8621847</td>\n",
       "      <td>0.52686834</td>\n",
       "      <td>0.7897701</td>\n",
       "      <td>0.5768864</td>\n",
       "      <td>0.7262682</td>\n",
       "      <td>0.6171513</td>\n",
       "    </tr>\n",
       "    <tr>\n",
       "      <th>...</th>\n",
       "      <td>...</td>\n",
       "      <td>...</td>\n",
       "      <td>...</td>\n",
       "      <td>...</td>\n",
       "      <td>...</td>\n",
       "      <td>...</td>\n",
       "      <td>...</td>\n",
       "      <td>...</td>\n",
       "      <td>...</td>\n",
       "      <td>...</td>\n",
       "      <td>...</td>\n",
       "    </tr>\n",
       "    <tr>\n",
       "      <th>400</th>\n",
       "      <td>2022-03-25</td>\n",
       "      <td>g_mean_6.0</td>\n",
       "      <td>other</td>\n",
       "      <td>0.437151</td>\n",
       "      <td>8.460582e-10</td>\n",
       "      <td>0.81218183</td>\n",
       "      <td>0.19134259</td>\n",
       "      <td>0.6283551</td>\n",
       "      <td>0.24888597</td>\n",
       "      <td>0.4942946</td>\n",
       "      <td>0.29789236</td>\n",
       "    </tr>\n",
       "    <tr>\n",
       "      <th>401</th>\n",
       "      <td>2022-03-26</td>\n",
       "      <td>g_mean_6.0</td>\n",
       "      <td>other</td>\n",
       "      <td>0.439132</td>\n",
       "      <td>7.372225e-10</td>\n",
       "      <td>0.83951926</td>\n",
       "      <td>0.18203819</td>\n",
       "      <td>0.64366174</td>\n",
       "      <td>0.24632107</td>\n",
       "      <td>0.4997559</td>\n",
       "      <td>0.29368827</td>\n",
       "    </tr>\n",
       "    <tr>\n",
       "      <th>402</th>\n",
       "      <td>2022-03-27</td>\n",
       "      <td>g_mean_6.0</td>\n",
       "      <td>other</td>\n",
       "      <td>0.442189</td>\n",
       "      <td>6.426140e-10</td>\n",
       "      <td>0.8681673</td>\n",
       "      <td>0.17187399</td>\n",
       "      <td>0.64594156</td>\n",
       "      <td>0.22799823</td>\n",
       "      <td>0.4799041</td>\n",
       "      <td>0.26428822</td>\n",
       "    </tr>\n",
       "    <tr>\n",
       "      <th>403</th>\n",
       "      <td>2022-03-28</td>\n",
       "      <td>g_mean_6.0</td>\n",
       "      <td>other</td>\n",
       "      <td>0.446725</td>\n",
       "      <td>5.500489e-10</td>\n",
       "      <td>0.8862831</td>\n",
       "      <td>0.1466332</td>\n",
       "      <td>0.6759152</td>\n",
       "      <td>0.23107922</td>\n",
       "      <td>0.4938985</td>\n",
       "      <td>0.2678355</td>\n",
       "    </tr>\n",
       "    <tr>\n",
       "      <th>404</th>\n",
       "      <td>2022-03-29</td>\n",
       "      <td>g_mean_6.0</td>\n",
       "      <td>other</td>\n",
       "      <td>0.448778</td>\n",
       "      <td>4.664992e-10</td>\n",
       "      <td>0.9269543</td>\n",
       "      <td>0.14408371</td>\n",
       "      <td>0.6836606</td>\n",
       "      <td>0.20989794</td>\n",
       "      <td>0.51368576</td>\n",
       "      <td>0.27481502</td>\n",
       "    </tr>\n",
       "  </tbody>\n",
       "</table>\n",
       "<p>3645 rows × 11 columns</p>\n",
       "</div>"
      ],
      "text/plain": [
       "          date    location variant  median_R   median_freq  R_upper_95  \\\n",
       "0   2021-11-15  g_mean_2.0   Delta  0.585659  9.979598e-01    0.986828   \n",
       "1   2021-11-16  g_mean_2.0   Delta  0.603599  9.974052e-01  0.93598783   \n",
       "2   2021-11-17  g_mean_2.0   Delta  0.627997  9.966645e-01  0.87631667   \n",
       "3   2021-11-18  g_mean_2.0   Delta  0.655303  9.955301e-01   0.8650179   \n",
       "4   2021-11-19  g_mean_2.0   Delta  0.687580  9.948864e-01   0.8621847   \n",
       "..         ...         ...     ...       ...           ...         ...   \n",
       "400 2022-03-25  g_mean_6.0   other  0.437151  8.460582e-10  0.81218183   \n",
       "401 2022-03-26  g_mean_6.0   other  0.439132  7.372225e-10  0.83951926   \n",
       "402 2022-03-27  g_mean_6.0   other  0.442189  6.426140e-10   0.8681673   \n",
       "403 2022-03-28  g_mean_6.0   other  0.446725  5.500489e-10   0.8862831   \n",
       "404 2022-03-29  g_mean_6.0   other  0.448778  4.664992e-10   0.9269543   \n",
       "\n",
       "     R_lower_95  R_upper_80  R_lower_80  R_upper_50  R_lower_50  \n",
       "0     0.2795903   0.8187542  0.36371708   0.6516364   0.4207992  \n",
       "1     0.3706891   0.7760973   0.4146602  0.67109406  0.48543242  \n",
       "2    0.42650717  0.76759183  0.47843435   0.6825261  0.53335714  \n",
       "3    0.48425746   0.7738236  0.53520864   0.7159328   0.5925176  \n",
       "4    0.52686834   0.7897701   0.5768864   0.7262682   0.6171513  \n",
       "..          ...         ...         ...         ...         ...  \n",
       "400  0.19134259   0.6283551  0.24888597   0.4942946  0.29789236  \n",
       "401  0.18203819  0.64366174  0.24632107   0.4997559  0.29368827  \n",
       "402  0.17187399  0.64594156  0.22799823   0.4799041  0.26428822  \n",
       "403   0.1466332   0.6759152  0.23107922   0.4938985   0.2678355  \n",
       "404  0.14408371   0.6836606  0.20989794  0.51368576  0.27481502  \n",
       "\n",
       "[3645 rows x 11 columns]"
      ]
     },
     "execution_count": 26,
     "metadata": {},
     "output_type": "execute_result"
    }
   ],
   "source": [
    "# Exporting growth info\n",
    "ps = [0.95, 0.8, 0.5] # Which credible intevals to save"
   ]
  },
  {
   "cell_type": "code",
   "execution_count": 27,
   "id": "d0dfc29c",
   "metadata": {},
   "outputs": [],
   "source": [
    "R_GARW = rf.gather_R(MP_GARW, ps)\n",
    "\n",
    "# Save files\n",
    "R_GARW.to_csv(f\"{path_mean}/{model_name_mean}_Rt-combined-GARW.tsv\",  encoding='utf-8', sep='\\t', index=False)"
   ]
  },
  {
   "cell_type": "code",
   "execution_count": 28,
   "id": "a26a621e",
   "metadata": {},
   "outputs": [],
   "source": [
    "R_fixed =  rf.gather_R(MP_fixed, ps)\n",
    "ga_fixed = rf.gather_ga(MP_fixed, ps)\n",
    "\n",
    "# Save files\n",
    "R_fixed.to_csv(f\"{path_mean}/{model_name_mean}_Rt-combined-fixed.tsv\",  encoding='utf-8', sep='\\t', index=False)\n",
    "ga_fixed.to_csv(f\"{path_mean}/{model_name_mean}_ga-combined-fixed.tsv\",  encoding='utf-8', sep='\\t', index=False)"
   ]
  },
  {
   "cell_type": "markdown",
   "id": "3264f03f",
   "metadata": {},
   "source": [
    "#  Varying standard deviation of the generation time"
   ]
  },
  {
   "cell_type": "code",
   "execution_count": 29,
   "id": "f5864a7a",
   "metadata": {},
   "outputs": [],
   "source": [
    "def fit_SVI_sensitivity_sd(LD, RLik, sds, opt, **fit_kwargs):\n",
    "    n_sd = len(sds)\n",
    "    MP = MultiPosterior()\n",
    "    for i, sd in enumerate(sds):\n",
    "        gen = rf.pad_delays(\n",
    "            [rf.discretise_gamma(mn=4.4, std=1.2), # Delta\n",
    "             rf.discretise_gamma(mn=3.1, std=sd), # Omicron\n",
    "             rf.discretise_gamma(mn=4.4, std=1.2)] # Other\n",
    "        )\n",
    "        LM = rf.RenewalModel(gen, delays, seed_L, forecast_L, k=10,\n",
    "                            RLik = RLik,\n",
    "                            CLik = CLik,\n",
    "                            SLik = SLik,\n",
    "                            v_names = v_names)\n",
    "        PH = fit_SVI(LD, LM, opt, name=f\"g_sd_{sd}\", **fit_kwargs)\n",
    "        MP.add_posterior(PH)\n",
    "        print(f'Finished ({i+1}/{n_sd}).')\n",
    "    return MP"
   ]
  },
  {
   "cell_type": "code",
   "execution_count": 30,
   "id": "c622dd91",
   "metadata": {},
   "outputs": [],
   "source": [
    "# sds to loop over\n",
    "sds = jnp.arange(1.0, 6.01, 0.5)"
   ]
  },
  {
   "cell_type": "code",
   "execution_count": 33,
   "id": "5c986bb8",
   "metadata": {},
   "outputs": [],
   "source": [
    "model_name_sd = \"omicron-us-sensitivity-sd\"\n",
    "path_sd = f\"../estimates/{model_name_sd}\""
   ]
  },
  {
   "cell_type": "code",
   "execution_count": 34,
   "id": "97150b42",
   "metadata": {},
   "outputs": [
    {
     "name": "stdout",
     "output_type": "stream",
     "text": [
      "../estimates/omicron-us-sensitivity-sd/GARW created.\n",
      "../estimates/omicron-us-sensitivity-sd/GARW/models created.\n",
      "Finished (1/11).\n",
      "Finished (2/11).\n",
      "Finished (3/11).\n",
      "Finished (4/11).\n",
      "Finished (5/11).\n",
      "Finished (6/11).\n",
      "Finished (7/11).\n",
      "Finished (8/11).\n",
      "Finished (9/11).\n",
      "Finished (10/11).\n",
      "Finished (11/11).\n"
     ]
    }
   ],
   "source": [
    "# Free Model settings\n",
    "path_GARW = path_sd + \"/GARW\"\n",
    "make_model_directories(path_GARW)\n",
    "MP_GARW= fit_SVI_sensitivity_sd(LD, GARW, sds, opt, \n",
    "                                iters=iters, num_samples=num_samples, save=save, load=load, path=path_GARW)"
   ]
  },
  {
   "cell_type": "code",
   "execution_count": 35,
   "id": "f23cb736",
   "metadata": {},
   "outputs": [
    {
     "name": "stdout",
     "output_type": "stream",
     "text": [
      "../estimates/omicron-us-sensitivity-sd/fixed created.\n",
      "../estimates/omicron-us-sensitivity-sd/fixed/models created.\n",
      "Finished (1/11).\n",
      "Finished (2/11).\n",
      "Finished (3/11).\n",
      "Finished (4/11).\n",
      "Finished (5/11).\n",
      "Finished (6/11).\n",
      "Finished (7/11).\n",
      "Finished (8/11).\n",
      "Finished (9/11).\n",
      "Finished (10/11).\n",
      "Finished (11/11).\n"
     ]
    }
   ],
   "source": [
    "# Fixed model settings\n",
    "path_fixed = path_sd + \"/fixed\"\n",
    "make_model_directories(path_fixed)\n",
    "MP_fixed = fit_SVI_sensitivity_sd(LD, FGA, sds, opt, \n",
    "                                 iters=iters, num_samples=num_samples, save=save, load=load, path=path_fixed)"
   ]
  },
  {
   "cell_type": "code",
   "execution_count": 37,
   "id": "626ac08d",
   "metadata": {},
   "outputs": [],
   "source": [
    "# Exporting growth info\n",
    "ps = [0.95, 0.8, 0.5] # Which credible intevals to save"
   ]
  },
  {
   "cell_type": "code",
   "execution_count": 38,
   "id": "c0e83e21",
   "metadata": {},
   "outputs": [],
   "source": [
    "# Export R for GARW\n",
    "\n",
    "R_GARW = rf.gather_R(MP_GARW, ps)\n",
    "\n",
    "# Save files\n",
    "R_GARW.to_csv(f\"{path_sd}/{model_name_sd}_Rt-combined-GARW.tsv\",  encoding='utf-8', sep='\\t', index=False)"
   ]
  },
  {
   "cell_type": "code",
   "execution_count": 39,
   "id": "e4160d15",
   "metadata": {},
   "outputs": [],
   "source": [
    "# Export R and ga for FGA\n",
    "\n",
    "R_fixed =  rf.gather_R(MP_fixed, ps)\n",
    "ga_fixed = rf.gather_ga(MP_fixed, ps)\n",
    "\n",
    "# Save files\n",
    "R_fixed.to_csv(f\"{path_sd}/{model_name_sd}_Rt-combined-fixed.tsv\",  encoding='utf-8', sep='\\t', index=False)\n",
    "ga_fixed.to_csv(f\"{path_sd}/{model_name_sd}_ga-combined-fixed.tsv\",  encoding='utf-8', sep='\\t', index=False)"
   ]
  },
  {
   "cell_type": "code",
   "execution_count": null,
   "id": "724ac010",
   "metadata": {},
   "outputs": [],
   "source": []
  }
 ],
 "metadata": {
  "kernelspec": {
   "display_name": "Python 3 (ipykernel)",
   "language": "python",
   "name": "python3"
  },
  "language_info": {
   "codemirror_mode": {
    "name": "ipython",
    "version": 3
   },
   "file_extension": ".py",
   "mimetype": "text/x-python",
   "name": "python",
   "nbconvert_exporter": "python",
   "pygments_lexer": "ipython3",
   "version": "3.9.9"
  }
 },
 "nbformat": 4,
 "nbformat_minor": 5
}
