{
 "cells": [
  {
   "cell_type": "code",
   "execution_count": 4,
   "id": "silent-trinidad",
   "metadata": {},
   "outputs": [],
   "source": [
    "using CmdStan, Distributions, Dates, Plots, Plots.PlotMeasures\n",
    "using DataFrames, CSV, Query"
   ]
  },
  {
   "cell_type": "code",
   "execution_count": 5,
   "id": "chief-memorial",
   "metadata": {},
   "outputs": [
    {
     "data": {
      "text/plain": [
       "\"/Users/marlinfiggins/cmdstan/\""
      ]
     },
     "execution_count": 5,
     "metadata": {},
     "output_type": "execute_result"
    }
   ],
   "source": [
    "ENV[\"JULIA_CMDSTAN_HOME\"]=\"/Users/marlinfiggins/cmdstan/\"\n",
    "CmdStan.set_cmdstan_home!(ENV[\"JULIA_CMDSTAN_HOME\"])"
   ]
  },
  {
   "cell_type": "code",
   "execution_count": 6,
   "id": "pending-lewis",
   "metadata": {},
   "outputs": [
    {
     "data": {
      "text/plain": [
       "\"09_23_21\""
      ]
     },
     "execution_count": 6,
     "metadata": {},
     "output_type": "execute_result"
    }
   ],
   "source": [
    "run_date = \"today\""
   ]
  },
  {
   "cell_type": "code",
   "execution_count": 7,
   "id": "imposed-imagination",
   "metadata": {},
   "outputs": [],
   "source": [
    "# What is proper way to load module?\n",
    "include(\"../src/BayesTS/BayesTS.jl\")\n",
    "using .BayesTS"
   ]
  },
  {
   "cell_type": "code",
   "execution_count": 8,
   "id": "average-african",
   "metadata": {},
   "outputs": [
    {
     "data": {
      "text/plain": [
       "add_other_parms (generic function with 2 methods)"
      ]
     },
     "execution_count": 8,
     "metadata": {},
     "output_type": "execute_result"
    }
   ],
   "source": [
    "# Load helper functions \n",
    "include(\"../src/BayesTShelpers.jl\")\n",
    "include(\"../src/DataHelpers.jl\")\n",
    "include(\"../src/InferenceHelpers.jl\")\n",
    "include(\"../src/lifetimes.jl\")"
   ]
  },
  {
   "cell_type": "markdown",
   "id": "weekly-prerequisite",
   "metadata": {},
   "source": [
    "# Load Data"
   ]
  },
  {
   "cell_type": "code",
   "execution_count": 16,
   "id": "residential-madness",
   "metadata": {},
   "outputs": [
    {
     "data": {
      "text/html": [
       "<div class=\"data-frame\"><p>9,982 rows × 12 columns (omitted printing of 6 columns)</p><table class=\"data-frame\"><thead><tr><th></th><th>state</th><th>date</th><th>cases</th><th>sequences_total</th><th>sequences_other</th><th>sequences_B.1.1.7</th></tr><tr><th></th><th title=\"String\">String</th><th title=\"Date\">Date</th><th title=\"Int64\">Int64</th><th title=\"Int64\">Int64</th><th title=\"Int64\">Int64</th><th title=\"Int64\">Int64</th></tr></thead><tbody><tr><th>1</th><td>Alabama</td><td>2021-01-28</td><td>2340</td><td>0</td><td>0</td><td>0</td></tr><tr><th>2</th><td>Alabama</td><td>2021-01-29</td><td>1967</td><td>5</td><td>5</td><td>0</td></tr><tr><th>3</th><td>Alabama</td><td>2021-01-30</td><td>1253</td><td>0</td><td>0</td><td>0</td></tr><tr><th>4</th><td>Alabama</td><td>2021-01-31</td><td>1228</td><td>1</td><td>1</td><td>0</td></tr><tr><th>5</th><td>Alabama</td><td>2021-02-01</td><td>2476</td><td>15</td><td>13</td><td>1</td></tr><tr><th>6</th><td>Alabama</td><td>2021-02-02</td><td>1997</td><td>17</td><td>17</td><td>0</td></tr><tr><th>7</th><td>Alabama</td><td>2021-02-03</td><td>1742</td><td>1</td><td>0</td><td>1</td></tr><tr><th>8</th><td>Alabama</td><td>2021-02-04</td><td>1649</td><td>2</td><td>2</td><td>0</td></tr><tr><th>9</th><td>Alabama</td><td>2021-02-05</td><td>1582</td><td>39</td><td>37</td><td>1</td></tr><tr><th>10</th><td>Alabama</td><td>2021-02-06</td><td>979</td><td>27</td><td>26</td><td>1</td></tr><tr><th>11</th><td>Alabama</td><td>2021-02-07</td><td>922</td><td>1</td><td>0</td><td>1</td></tr><tr><th>12</th><td>Alabama</td><td>2021-02-08</td><td>1707</td><td>5</td><td>4</td><td>1</td></tr><tr><th>13</th><td>Alabama</td><td>2021-02-09</td><td>1472</td><td>29</td><td>28</td><td>0</td></tr><tr><th>14</th><td>Alabama</td><td>2021-02-10</td><td>1358</td><td>26</td><td>25</td><td>0</td></tr><tr><th>15</th><td>Alabama</td><td>2021-02-11</td><td>1181</td><td>11</td><td>10</td><td>1</td></tr><tr><th>16</th><td>Alabama</td><td>2021-02-12</td><td>1100</td><td>2</td><td>1</td><td>1</td></tr><tr><th>17</th><td>Alabama</td><td>2021-02-13</td><td>754</td><td>2</td><td>2</td><td>0</td></tr><tr><th>18</th><td>Alabama</td><td>2021-02-14</td><td>645</td><td>1</td><td>0</td><td>0</td></tr><tr><th>19</th><td>Alabama</td><td>2021-02-15</td><td>1003</td><td>14</td><td>14</td><td>0</td></tr><tr><th>20</th><td>Alabama</td><td>2021-02-16</td><td>702</td><td>8</td><td>6</td><td>2</td></tr><tr><th>21</th><td>Alabama</td><td>2021-02-17</td><td>1110</td><td>5</td><td>5</td><td>0</td></tr><tr><th>22</th><td>Alabama</td><td>2021-02-18</td><td>898</td><td>0</td><td>0</td><td>0</td></tr><tr><th>23</th><td>Alabama</td><td>2021-02-19</td><td>796</td><td>2</td><td>1</td><td>1</td></tr><tr><th>24</th><td>Alabama</td><td>2021-02-20</td><td>607</td><td>2</td><td>2</td><td>0</td></tr><tr><th>25</th><td>Alabama</td><td>2021-02-21</td><td>578</td><td>0</td><td>0</td><td>0</td></tr><tr><th>26</th><td>Alabama</td><td>2021-02-22</td><td>1038</td><td>16</td><td>13</td><td>1</td></tr><tr><th>27</th><td>Alabama</td><td>2021-02-23</td><td>870</td><td>22</td><td>16</td><td>5</td></tr><tr><th>28</th><td>Alabama</td><td>2021-02-24</td><td>997</td><td>28</td><td>18</td><td>10</td></tr><tr><th>29</th><td>Alabama</td><td>2021-02-25</td><td>770</td><td>22</td><td>17</td><td>3</td></tr><tr><th>30</th><td>Alabama</td><td>2021-02-26</td><td>670</td><td>15</td><td>12</td><td>3</td></tr><tr><th>&vellip;</th><td>&vellip;</td><td>&vellip;</td><td>&vellip;</td><td>&vellip;</td><td>&vellip;</td><td>&vellip;</td></tr></tbody></table></div>"
      ],
      "text/latex": [
       "\\begin{tabular}{r|ccccccc}\n",
       "\t& state & date & cases & sequences\\_total & sequences\\_other & sequences\\_B.1.1.7 & \\\\\n",
       "\t\\hline\n",
       "\t& String & Date & Int64 & Int64 & Int64 & Int64 & \\\\\n",
       "\t\\hline\n",
       "\t1 & Alabama & 2021-01-28 & 2340 & 0 & 0 & 0 & $\\dots$ \\\\\n",
       "\t2 & Alabama & 2021-01-29 & 1967 & 5 & 5 & 0 & $\\dots$ \\\\\n",
       "\t3 & Alabama & 2021-01-30 & 1253 & 0 & 0 & 0 & $\\dots$ \\\\\n",
       "\t4 & Alabama & 2021-01-31 & 1228 & 1 & 1 & 0 & $\\dots$ \\\\\n",
       "\t5 & Alabama & 2021-02-01 & 2476 & 15 & 13 & 1 & $\\dots$ \\\\\n",
       "\t6 & Alabama & 2021-02-02 & 1997 & 17 & 17 & 0 & $\\dots$ \\\\\n",
       "\t7 & Alabama & 2021-02-03 & 1742 & 1 & 0 & 1 & $\\dots$ \\\\\n",
       "\t8 & Alabama & 2021-02-04 & 1649 & 2 & 2 & 0 & $\\dots$ \\\\\n",
       "\t9 & Alabama & 2021-02-05 & 1582 & 39 & 37 & 1 & $\\dots$ \\\\\n",
       "\t10 & Alabama & 2021-02-06 & 979 & 27 & 26 & 1 & $\\dots$ \\\\\n",
       "\t11 & Alabama & 2021-02-07 & 922 & 1 & 0 & 1 & $\\dots$ \\\\\n",
       "\t12 & Alabama & 2021-02-08 & 1707 & 5 & 4 & 1 & $\\dots$ \\\\\n",
       "\t13 & Alabama & 2021-02-09 & 1472 & 29 & 28 & 0 & $\\dots$ \\\\\n",
       "\t14 & Alabama & 2021-02-10 & 1358 & 26 & 25 & 0 & $\\dots$ \\\\\n",
       "\t15 & Alabama & 2021-02-11 & 1181 & 11 & 10 & 1 & $\\dots$ \\\\\n",
       "\t16 & Alabama & 2021-02-12 & 1100 & 2 & 1 & 1 & $\\dots$ \\\\\n",
       "\t17 & Alabama & 2021-02-13 & 754 & 2 & 2 & 0 & $\\dots$ \\\\\n",
       "\t18 & Alabama & 2021-02-14 & 645 & 1 & 0 & 0 & $\\dots$ \\\\\n",
       "\t19 & Alabama & 2021-02-15 & 1003 & 14 & 14 & 0 & $\\dots$ \\\\\n",
       "\t20 & Alabama & 2021-02-16 & 702 & 8 & 6 & 2 & $\\dots$ \\\\\n",
       "\t21 & Alabama & 2021-02-17 & 1110 & 5 & 5 & 0 & $\\dots$ \\\\\n",
       "\t22 & Alabama & 2021-02-18 & 898 & 0 & 0 & 0 & $\\dots$ \\\\\n",
       "\t23 & Alabama & 2021-02-19 & 796 & 2 & 1 & 1 & $\\dots$ \\\\\n",
       "\t24 & Alabama & 2021-02-20 & 607 & 2 & 2 & 0 & $\\dots$ \\\\\n",
       "\t25 & Alabama & 2021-02-21 & 578 & 0 & 0 & 0 & $\\dots$ \\\\\n",
       "\t26 & Alabama & 2021-02-22 & 1038 & 16 & 13 & 1 & $\\dots$ \\\\\n",
       "\t27 & Alabama & 2021-02-23 & 870 & 22 & 16 & 5 & $\\dots$ \\\\\n",
       "\t28 & Alabama & 2021-02-24 & 997 & 28 & 18 & 10 & $\\dots$ \\\\\n",
       "\t29 & Alabama & 2021-02-25 & 770 & 22 & 17 & 3 & $\\dots$ \\\\\n",
       "\t30 & Alabama & 2021-02-26 & 670 & 15 & 12 & 3 & $\\dots$ \\\\\n",
       "\t$\\dots$ & $\\dots$ & $\\dots$ & $\\dots$ & $\\dots$ & $\\dots$ & $\\dots$ &  \\\\\n",
       "\\end{tabular}\n"
      ],
      "text/plain": [
       "\u001b[1m9982×12 DataFrame\u001b[0m\n",
       "\u001b[1m  Row \u001b[0m│\u001b[1m state   \u001b[0m\u001b[1m date       \u001b[0m\u001b[1m cases \u001b[0m\u001b[1m sequences_total \u001b[0m\u001b[1m sequences_other \u001b[0m\u001b[1m sequence\u001b[0m ⋯\n",
       "\u001b[1m      \u001b[0m│\u001b[90m String  \u001b[0m\u001b[90m Date       \u001b[0m\u001b[90m Int64 \u001b[0m\u001b[90m Int64           \u001b[0m\u001b[90m Int64           \u001b[0m\u001b[90m Int64   \u001b[0m ⋯\n",
       "──────┼─────────────────────────────────────────────────────────────────────────\n",
       "    1 │ Alabama  2021-01-28   2340                0                0           ⋯\n",
       "    2 │ Alabama  2021-01-29   1967                5                5\n",
       "    3 │ Alabama  2021-01-30   1253                0                0\n",
       "    4 │ Alabama  2021-01-31   1228                1                1\n",
       "    5 │ Alabama  2021-02-01   2476               15               13           ⋯\n",
       "    6 │ Alabama  2021-02-02   1997               17               17\n",
       "    7 │ Alabama  2021-02-03   1742                1                0\n",
       "    8 │ Alabama  2021-02-04   1649                2                2\n",
       "    9 │ Alabama  2021-02-05   1582               39               37           ⋯\n",
       "   10 │ Alabama  2021-02-06    979               27               26\n",
       "   11 │ Alabama  2021-02-07    922                1                0\n",
       "  ⋮   │    ⋮         ⋮         ⋮           ⋮                ⋮                  ⋱\n",
       " 9973 │ Wyoming  2021-08-23    299               62                0\n",
       " 9974 │ Wyoming  2021-08-24    507               53                0           ⋯\n",
       " 9975 │ Wyoming  2021-08-25    459               60                1\n",
       " 9976 │ Wyoming  2021-08-26    467               82                0\n",
       " 9977 │ Wyoming  2021-08-27    472               44                0\n",
       " 9978 │ Wyoming  2021-08-28    429               27                0           ⋯\n",
       " 9979 │ Wyoming  2021-08-29    429               42               15\n",
       " 9980 │ Wyoming  2021-08-30    431               66               14\n",
       " 9981 │ Wyoming  2021-08-31    380               53                0\n",
       " 9982 │ Wyoming  2021-09-01    871               43                0           ⋯\n",
       "\u001b[36m                                                 7 columns and 9961 rows omitted\u001b[0m"
      ]
     },
     "execution_count": 16,
     "metadata": {},
     "output_type": "execute_result"
    }
   ],
   "source": [
    "df = DataFrame(CSV.File(\"../data/raw/cases-lineage-sequence-counts-2021-09-23.tsv\"))"
   ]
  },
  {
   "cell_type": "markdown",
   "id": "boring-california",
   "metadata": {},
   "source": [
    "# Model set up"
   ]
  },
  {
   "cell_type": "code",
   "execution_count": 17,
   "id": "metric-yorkshire",
   "metadata": {},
   "outputs": [
    {
     "data": {
      "text/plain": [
       "20-element Vector{Float64}:\n",
       " 0.15422107788295136\n",
       " 0.5979776824957601\n",
       " 0.8\n",
       " 0.7462640695453\n",
       " 0.6021072988929602\n",
       " 0.45527929483634866\n",
       " 0.33419359901772533\n",
       " 0.24227494594996882\n",
       " 0.175034123856333\n",
       " 0.12664182163034848\n",
       " 0.09201514722705773\n",
       " 0.06723952335640869\n",
       " 0.049455997273909\n",
       " 0.0366271997771212\n",
       " 0.02731671924777422\n",
       " 0.020515169042784314\n",
       " 0.015512579078432101\n",
       " 0.011807873345391351\n",
       " 0.009045677113215203\n",
       " 0.006972500059309538"
      ]
     },
     "execution_count": 17,
     "metadata": {},
     "output_type": "execute_result"
    }
   ],
   "source": [
    "g = generation_time(20, 5.0, 0.3)\n",
    "onset = onset_time(20, 4.5, 0.6, 0.8)"
   ]
  },
  {
   "cell_type": "code",
   "execution_count": 18,
   "id": "conditional-mineral",
   "metadata": {},
   "outputs": [
    {
     "data": {
      "text/plain": [
       "0"
      ]
     },
     "execution_count": 18,
     "metadata": {},
     "output_type": "execute_result"
    }
   ],
   "source": [
    "num_SoI = size(filter(row -> row.state == \"Washington\", df), 1)\n",
    "seed_L = 14\n",
    "forecast_L = 0"
   ]
  },
  {
   "cell_type": "code",
   "execution_count": 19,
   "id": "worth-landscape",
   "metadata": {},
   "outputs": [
    {
     "data": {
      "text/plain": [
       "1-element Vector{Vector{String}}:\n",
       " [\"LAS\"]"
      ]
     },
     "execution_count": 19,
     "metadata": {},
     "output_type": "execute_result"
    }
   ],
   "source": [
    "# Choose Basis Model\n",
    "model = SplineTrend(20,  num_SoI, 4)\n",
    "prior_model = [[\"LAS\"]]"
   ]
  },
  {
   "cell_type": "code",
   "execution_count": 20,
   "id": "jewish-devil",
   "metadata": {},
   "outputs": [
    {
     "data": {
      "text/plain": [
       "Dict{Any, Any} with 46 entries:\n",
       "  \"Colorado\"       => Dict{String, Any}(\"seq_labels\"=>SubString{String}[\"B.1.1.…\n",
       "  \"Texas\"          => Dict{String, Any}(\"seq_labels\"=>SubString{String}[\"B.1.1.…\n",
       "  \"Alabama\"        => Dict{String, Any}(\"seq_labels\"=>SubString{String}[\"B.1.1.…\n",
       "  \"Vermont\"        => Dict{String, Any}(\"seq_labels\"=>SubString{String}[\"B.1.1.…\n",
       "  \"Missouri\"       => Dict{String, Any}(\"seq_labels\"=>SubString{String}[\"B.1.1.…\n",
       "  \"Wyoming\"        => Dict{String, Any}(\"seq_labels\"=>SubString{String}[\"B.1.1.…\n",
       "  \"California\"     => Dict{String, Any}(\"seq_labels\"=>SubString{String}[\"B.1.1.…\n",
       "  \"Maine\"          => Dict{String, Any}(\"seq_labels\"=>SubString{String}[\"B.1.1.…\n",
       "  \"New_Mexico\"     => Dict{String, Any}(\"seq_labels\"=>SubString{String}[\"B.1.1.…\n",
       "  \"Tennessee\"      => Dict{String, Any}(\"seq_labels\"=>SubString{String}[\"B.1.1.…\n",
       "  \"Nevada\"         => Dict{String, Any}(\"seq_labels\"=>SubString{String}[\"B.1.1.…\n",
       "  \"Kentucky\"       => Dict{String, Any}(\"seq_labels\"=>SubString{String}[\"B.1.1.…\n",
       "  \"Indiana\"        => Dict{String, Any}(\"seq_labels\"=>SubString{String}[\"B.1.1.…\n",
       "  \"Nebraska\"       => Dict{String, Any}(\"seq_labels\"=>SubString{String}[\"B.1.1.…\n",
       "  \"North_Dakota\"   => Dict{String, Any}(\"seq_labels\"=>SubString{String}[\"B.1.1.…\n",
       "  \"West_Virginia\"  => Dict{String, Any}(\"seq_labels\"=>SubString{String}[\"B.1.1.…\n",
       "  \"Arizona\"        => Dict{String, Any}(\"seq_labels\"=>SubString{String}[\"B.1.1.…\n",
       "  \"Connecticut\"    => Dict{String, Any}(\"seq_labels\"=>SubString{String}[\"B.1.1.…\n",
       "  \"Illinois\"       => Dict{String, Any}(\"seq_labels\"=>SubString{String}[\"B.1.1.…\n",
       "  \"Maryland\"       => Dict{String, Any}(\"seq_labels\"=>SubString{String}[\"B.1.1.…\n",
       "  \"South_Carolina\" => Dict{String, Any}(\"seq_labels\"=>SubString{String}[\"B.1.1.…\n",
       "  \"Kansas\"         => Dict{String, Any}(\"seq_labels\"=>SubString{String}[\"B.1.1.…\n",
       "  \"Arkansas\"       => Dict{String, Any}(\"seq_labels\"=>SubString{String}[\"B.1.1.…\n",
       "  \"Minnesota\"      => Dict{String, Any}(\"seq_labels\"=>SubString{String}[\"B.1.1.…\n",
       "  \"Wisconsin\"      => Dict{String, Any}(\"seq_labels\"=>SubString{String}[\"B.1.1.…\n",
       "  ⋮                => ⋮"
      ]
     },
     "execution_count": 20,
     "metadata": {},
     "output_type": "execute_result"
    }
   ],
   "source": [
    "states_dict = process_all_states(\"../src/stan_models/Rt_Structured_lineage.stan\", df, \n",
    "    g, onset, \n",
    "    seed_L, forecast_L, \n",
    "    model; priors = prior_model, \n",
    "    model_name = \"test\")"
   ]
  },
  {
   "cell_type": "markdown",
   "id": "interior-press",
   "metadata": {},
   "source": [
    "# Run stan models and export parameters"
   ]
  },
  {
   "cell_type": "code",
   "execution_count": 21,
   "id": "guided-tunisia",
   "metadata": {},
   "outputs": [
    {
     "data": {
      "text/plain": [
       "Any[]"
      ]
     },
     "execution_count": 21,
     "metadata": {},
     "output_type": "execute_result"
    }
   ],
   "source": [
    "# Get Rt by state\n",
    "lQuants = [0.25 0.1 0.025]\n",
    "uQuants = [0.75 0.9 0.975]\n",
    "\n",
    "df_list = []"
   ]
  },
  {
   "cell_type": "code",
   "execution_count": null,
   "id": "sufficient-chambers",
   "metadata": {},
   "outputs": [],
   "source": [
    "states_to_run = sort(collect(keys(states_dict)))\n",
    "#states_to_run = [\"California\", \"Texas\"]\n",
    "# Run states and export Rt\n",
    "for state in states_to_run\n",
    "    run_stan_model!(state, states_dict)\n",
    "    state_rt = get_Rt_by_state(state, states_dict)\n",
    "    CSV.write(\"../data/sims/results/$(run_date)/inferred_lineage_rts_$(state)_$(run_date).csv\", state_rt)\n",
    "    print(\"Saved state $(state) dataframe\")\n",
    "    push!(df_list, state_rt)\n",
    "end"
   ]
  },
  {
   "cell_type": "code",
   "execution_count": null,
   "id": "gentle-durham",
   "metadata": {
    "scrolled": true
   },
   "outputs": [],
   "source": [
    "# Export all states Rt as dataframe\n",
    "final_df = vcat(df_list...)"
   ]
  },
  {
   "cell_type": "code",
   "execution_count": null,
   "id": "sharing-platform",
   "metadata": {},
   "outputs": [],
   "source": [
    "# Uncomment to re-run broken states\n",
    "#final_df = DataFrame(CSV.File(\"../data/sims/results/09_23_21/inferred_lineage_rts_09_23_2021.csv\"))\n",
    "#final_df = filter(row -> !(row.state in states_to_run), final_df)\n",
    "#final_df = vcat(df_list..., final_df)"
   ]
  },
  {
   "cell_type": "code",
   "execution_count": null,
   "id": "inclusive-ranch",
   "metadata": {},
   "outputs": [],
   "source": [
    "CSV.write(\"../data/sims/results/$(run_date)/inferred_lineage_rts_$(run_date).csv\", final_df)\n",
    "CSV.write(\"../data/sims/results/$(run_date)/inferred_lineage_rts_$(run_date).tsv\", delim =\"\\t\", final_df)"
   ]
  },
  {
   "cell_type": "code",
   "execution_count": null,
   "id": "republican-dance",
   "metadata": {},
   "outputs": [],
   "source": [
    "growth_dfs = [get_growth_advantages(SoI, states_dict) for SoI in states_to_run]\n",
    "final_growth_df = vcat(growth_dfs...)"
   ]
  },
  {
   "cell_type": "code",
   "execution_count": null,
   "id": "excess-handle",
   "metadata": {},
   "outputs": [],
   "source": [
    "CSV.write(\"../data/sims/results/$(run_date)/inferred_lineage_growth_advantage_$(run_date).csv\", final_growth_df)\n",
    "CSV.write(\"../data/sims/results/$(run_date)/inferred_lineage_growth_advantage_$(run_date).tsv\", delim =\"\\t\", final_growth_df)"
   ]
  }
 ],
 "metadata": {
  "kernelspec": {
   "display_name": "Julia 8 Threads 1.6.0",
   "language": "julia",
   "name": "julia-8-threads-1.6"
  },
  "language_info": {
   "file_extension": ".jl",
   "mimetype": "application/julia",
   "name": "julia",
   "version": "1.6.0"
  }
 },
 "nbformat": 4,
 "nbformat_minor": 5
}
