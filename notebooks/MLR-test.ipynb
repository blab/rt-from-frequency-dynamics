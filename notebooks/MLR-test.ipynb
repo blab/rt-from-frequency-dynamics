{
 "cells": [
  {
   "cell_type": "code",
   "execution_count": null,
   "id": "established-works",
   "metadata": {},
   "outputs": [],
   "source": [
    "import numpyro\n",
    "import numpy as np\n",
    "import pandas as pd\n",
    "from jax.nn import softmax\n",
    "import jax.numpy as jnp\n",
    "\n",
    "import rt_from_frequency_dynamics as rf"
   ]
  },
  {
   "cell_type": "code",
   "execution_count": null,
   "id": "accomplished-ownership",
   "metadata": {},
   "outputs": [],
   "source": [
    "data_name = \"omicron-us-split\"\n",
    "raw_seq = pd.read_csv(f\"../data/{data_name}/{data_name}_location-variant-sequence-counts.tsv\", sep=\"\\t\")"
   ]
  },
  {
   "cell_type": "code",
   "execution_count": null,
   "id": "b63c1f45",
   "metadata": {},
   "outputs": [],
   "source": [
    "raw_seq"
   ]
  },
  {
   "cell_type": "code",
   "execution_count": null,
   "id": "confirmed-creator",
   "metadata": {},
   "outputs": [],
   "source": [
    "# Locations to run\n",
    "#locations = pd.unique(raw_seq[\"location\"])\n",
    "locations = [\"Washington\"]"
   ]
  },
  {
   "cell_type": "code",
   "execution_count": null,
   "id": "expected-quarter",
   "metadata": {},
   "outputs": [],
   "source": [
    "# Defining Lineage Models\n",
    "tau = 5.2 # Generation time\n",
    "LM_MLR = rf.MultinomialLogisticRegression(tau)"
   ]
  },
  {
   "cell_type": "code",
   "execution_count": null,
   "id": "thousand-future",
   "metadata": {},
   "outputs": [],
   "source": [
    "# Params for fitting\n",
    "opt = numpyro.optim.Adam(step_size=1e-2)\n",
    "iters = 100_000\n",
    "num_samples = 3000\n",
    "save = False\n",
    "load = False"
   ]
  },
  {
   "cell_type": "markdown",
   "id": "632335a3",
   "metadata": {},
   "source": [
    "# Running models and exporting results"
   ]
  },
  {
   "cell_type": "code",
   "execution_count": null,
   "id": "190ece17",
   "metadata": {},
   "outputs": [],
   "source": [
    "def get_location_MLRData(rs, loc):\n",
    "    rs_l = rs[rs.location==loc].copy()\n",
    "    return rf.MLRData(rs_l)"
   ]
  },
  {
   "cell_type": "code",
   "execution_count": null,
   "id": "dc21fe5f",
   "metadata": {},
   "outputs": [],
   "source": [
    "def fit_SVI_locations(rs, locations, LM, opt, **fit_kwargs):\n",
    "    n_locations = len(locations)\n",
    "    MP = rf.MultiPosterior()\n",
    "    for i, loc in enumerate(locations):\n",
    "        VD = get_location_MLRData(rs, loc)\n",
    "        PH = rf.fit_SVI(VD, LM, opt, name=loc, **fit_kwargs)\n",
    "        MP.add_posterior(PH)\n",
    "        print(f'Location {loc} finished ({i+1}/{n_locations}).')\n",
    "    return MP"
   ]
  },
  {
   "cell_type": "code",
   "execution_count": null,
   "id": "2ba9be50",
   "metadata": {},
   "outputs": [],
   "source": [
    "# Running GARW model\n",
    "MP_MLR = fit_SVI_locations(raw_seq, locations, \n",
    "                             LM_MLR, opt, \n",
    "                             iters=iters, num_samples=num_samples, save=save, load=load)"
   ]
  },
  {
   "cell_type": "markdown",
   "id": "91b69b65",
   "metadata": {},
   "source": [
    "# Making forecasts"
   ]
  },
  {
   "cell_type": "code",
   "execution_count": null,
   "id": "2f6b844d",
   "metadata": {},
   "outputs": [],
   "source": [
    "def posterior_frequency(dataset, X):\n",
    "    \"\"\"\n",
    "    Use posterior beta to get posterior frequenicies based on matrix X.\n",
    "    \"\"\"\n",
    "    beta = jnp.array(dataset.posterior[\"beta\"])[1]\n",
    "    logits = jnp.dot(X, beta) # Logit frequencies by variant\n",
    "    return softmax(logits, axis=-1)"
   ]
  },
  {
   "cell_type": "code",
   "execution_count": null,
   "id": "4c4dad44",
   "metadata": {},
   "outputs": [],
   "source": [
    "PH = MP_MLR.get(\"Washington\") # Unpack posterior for Washington\n",
    "VD = PH.data\n",
    "last_T = len(VD.dates) # Get end of fitting period\n",
    "forecast_L = 14 # How far ahead to forecast\n",
    "\n",
    "# Creating feature matrices\n",
    "X = LM_MLR.make_ols_feature(start=0, stop=last_T) \n",
    "X_forecast = LM_MLR.make_ols_feature(start=last_T, stop=last_T + forecast_L)\n",
    "\n",
    "# Computing posterior frequencies\n",
    "freq = posterior_frequency(PH.dataset, X)\n",
    "freq_forecast = posterior_frequency(PH.dataset, X_forecast)"
   ]
  },
  {
   "cell_type": "markdown",
   "id": "ea4e9900",
   "metadata": {},
   "source": [
    "# Making figures"
   ]
  },
  {
   "cell_type": "code",
   "execution_count": null,
   "id": "dynamic-clause",
   "metadata": {},
   "outputs": [],
   "source": [
    "from rt_from_frequency_dynamics.plotfunctions import *\n",
    "ps = DefaultAes.ps\n",
    "alphas = DefaultAes.alphas\n",
    "\n",
    "v_colors = [\"#56e39f\", \"#89CFF0\", \"#C70039\", \"#808080\"]\n",
    "v_names = ['Delta', 'Omicron 21L', 'Omicron 21K', 'other']\n",
    "\n",
    "color_map = {v : c for c, v in zip(v_colors, v_names)}"
   ]
  },
  {
   "cell_type": "code",
   "execution_count": null,
   "id": "c7fe1407",
   "metadata": {},
   "outputs": [],
   "source": [
    "import matplotlib\n",
    "import matplotlib.pyplot as plt\n",
    "import matplotlib.transforms as mtransforms\n",
    "\n",
    "font = {'family' : 'Helvetica',\n",
    "        'weight' : 'light',\n",
    "        'size'   : 32}\n",
    "\n",
    "matplotlib.rc('font', **font)"
   ]
  },
  {
   "cell_type": "code",
   "execution_count": null,
   "id": "72209eee",
   "metadata": {},
   "outputs": [],
   "source": [
    "def plot_MLR_frequencies(ax, t, freq, ps, alphas, colors):\n",
    "    \n",
    "    # Compute quantiles\n",
    "    V = []\n",
    "    for p in ps:\n",
    "        up = 1/2 + p/2\n",
    "        lp = 1/2 - p/2\n",
    "        Q = jnp.quantile(freq, jnp.array([lp,up]), axis=1)\n",
    "        V.append(Q)\n",
    "    med = jnp.median(freq, axis=1) # Compute median\n",
    "    \n",
    "    T, N_variant = med.shape\n",
    "    # Make figure\n",
    "    for variant in range(N_variant):\n",
    "        for i in range(len(ps)):\n",
    "            ax.fill_between(t, V[i][0, :, variant], V[i][1, :, variant],\n",
    "                            color=colors[variant], alpha=alphas[i])\n",
    "        ax.plot(t, med[:, variant],\n",
    "                color=colors[variant])"
   ]
  },
  {
   "cell_type": "code",
   "execution_count": null,
   "id": "53d668ca",
   "metadata": {},
   "outputs": [],
   "source": [
    "fig = plt.figure(figsize=(16, 10))\n",
    "gs = fig.add_gridspec(nrows=1, ncols=1)\n",
    "ax = fig.add_subplot(gs[0,0])\n",
    "\n",
    "colors = [color_map[v] for v in VD.seq_names] # Mapping colors to observed variants\n",
    "\n",
    "# Plot predicted frequencies\n",
    "plot_MLR_frequencies(ax, X[:,-1], freq, ps, alphas, colors)\n",
    "plot_MLR_frequencies(ax, X_forecast[:,-1], freq_forecast, ps, alphas, colors)\n",
    "\n",
    "rf.plot_observed_frequency(ax, VD, colors) # Plot observed frequencies\n",
    "\n",
    "ax.axvline(x=len(VD.dates)-1, color='k', linestyle='--') # Adding forecast cut off\n",
    "rf.add_dates_sep(ax, rf.expand_dates(VD.dates, forecast_L), sep=20) # Adding dates\n",
    "ax.set_ylabel(\"Variant frequency\") # Making ylabel\n",
    "\n",
    "\n",
    "# Make legend\n",
    "patches = [matplotlib.patches.Patch(color=c, label=l) for l, c in color_map.items()]\n",
    "legend = fig.legend(patches, list(color_map.keys()), ncol=len(color_map.keys()), loc=\"lower center\")  \n",
    "legend.get_frame().set_linewidth(2.)\n",
    "legend.get_frame().set_edgecolor(\"k\")\n",
    "fig.tight_layout()\n",
    "fig.subplots_adjust(bottom = 0.2)"
   ]
  },
  {
   "cell_type": "code",
   "execution_count": null,
   "id": "5ec9663c",
   "metadata": {},
   "outputs": [],
   "source": []
  }
 ],
 "metadata": {
  "kernelspec": {
   "display_name": "Python 3 (ipykernel)",
   "language": "python",
   "name": "python3"
  },
  "language_info": {
   "codemirror_mode": {
    "name": "ipython",
    "version": 3
   },
   "file_extension": ".py",
   "mimetype": "text/x-python",
   "name": "python",
   "nbconvert_exporter": "python",
   "pygments_lexer": "ipython3",
   "version": "3.9.9"
  }
 },
 "nbformat": 4,
 "nbformat_minor": 5
}
