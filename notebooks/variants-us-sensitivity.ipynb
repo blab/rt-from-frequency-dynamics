{
 "cells": [
  {
   "cell_type": "code",
   "execution_count": 1,
   "id": "established-works",
   "metadata": {},
   "outputs": [
    {
     "name": "stderr",
     "output_type": "stream",
     "text": [
      "/Users/marlinfiggins/Library/Caches/pypoetry/virtualenvs/rt-from-frequency-dynamics-bhy0OiqS-py3.9/lib/python3.9/site-packages/jax/experimental/optimizers.py:28: FutureWarning: jax.experimental.optimizers is deprecated, import jax.example_libraries.optimizers instead\n",
      "  warnings.warn('jax.experimental.optimizers is deprecated, '\n",
      "/Users/marlinfiggins/Library/Caches/pypoetry/virtualenvs/rt-from-frequency-dynamics-bhy0OiqS-py3.9/lib/python3.9/site-packages/jax/experimental/stax.py:28: FutureWarning: jax.experimental.stax is deprecated, import jax.example_libraries.stax instead\n",
      "  warnings.warn('jax.experimental.stax is deprecated, '\n"
     ]
    }
   ],
   "source": [
    "import numpyro\n",
    "import pandas as pd\n",
    "import jax.numpy as jnp\n",
    "\n",
    "from rt_from_frequency_dynamics import discretise_gamma\n",
    "from rt_from_frequency_dynamics import get_standard_delays\n",
    "from rt_from_frequency_dynamics import FreeGrowthModel, FixedGrowthModel\n",
    "\n",
    "from rt_from_frequency_dynamics import get_location_LineageData\n",
    "from rt_from_frequency_dynamics import fit_SVI, MultiPosterior\n",
    "from rt_from_frequency_dynamics import make_model_directories\n",
    "from rt_from_frequency_dynamics import gather_free_Rt, gather_fixed_Rt"
   ]
  },
  {
   "cell_type": "code",
   "execution_count": 2,
   "id": "accomplished-ownership",
   "metadata": {},
   "outputs": [],
   "source": [
    "data_name = \"variants-us\"\n",
    "raw_cases = pd.read_csv(f\"../data/{data_name}_location-case-counts.tsv\", sep=\"\\t\")\n",
    "raw_seq = pd.read_csv(f\"../data/{data_name}_location-variant-sequence-counts.tsv\", sep=\"\\t\")"
   ]
  },
  {
   "cell_type": "code",
   "execution_count": 3,
   "id": "overall-isaac",
   "metadata": {},
   "outputs": [],
   "source": [
    "# Defining Fixed parameters\n",
    "seed_L = 7\n",
    "forecast_L = 0   \n",
    "_, delays = get_standard_delays()\n",
    "\n",
    "\n",
    "# Data will be constant between models\n",
    "LD = get_location_LineageData(raw_cases, raw_seq, \"Washington\")"
   ]
  },
  {
   "cell_type": "code",
   "execution_count": 4,
   "id": "federal-yugoslavia",
   "metadata": {},
   "outputs": [],
   "source": [
    "# Shared fitting params\n",
    "opt = numpyro.optim.Adam(step_size=1.0e-2)\n",
    "iters = 50_000\n",
    "num_samples = 3000\n",
    "save = True\n",
    "load = False"
   ]
  },
  {
   "cell_type": "markdown",
   "id": "8b84ed29",
   "metadata": {},
   "source": [
    "## Varying means of the generation time"
   ]
  },
  {
   "cell_type": "code",
   "execution_count": 5,
   "id": "offshore-chinese",
   "metadata": {},
   "outputs": [],
   "source": [
    "def fit_SVI_sensitivity_mean(LD, modelclass, mns, opt, **fit_kwargs):\n",
    "    n_mns = len(mns)\n",
    "    MP = MultiPosterior()\n",
    "    for i, mn in enumerate(mns):\n",
    "        g = discretise_gamma(mn=mn, std=1.72)\n",
    "        LM = modelclass(g, delays, seed_L, forecast_L)\n",
    "        PH = fit_SVI(LD, LM, opt, name=f\"g_mean_{mn}\", **fit_kwargs)\n",
    "        MP.add_posterior(PH)\n",
    "        print(f'Finished ({i+1}/{n_mns}).')\n",
    "    return MP"
   ]
  },
  {
   "cell_type": "code",
   "execution_count": 6,
   "id": "64226aee",
   "metadata": {},
   "outputs": [],
   "source": [
    "# mns to loop over\n",
    "mns = jnp.arange(2.0, 6.01, 0.5)\n",
    "model_name_mean = \"variants-us-sensitivity-means\"\n",
    "path_mean = f\"../estimates/{model_name_mean}\""
   ]
  },
  {
   "cell_type": "code",
   "execution_count": 7,
   "id": "f897b211",
   "metadata": {},
   "outputs": [
    {
     "name": "stdout",
     "output_type": "stream",
     "text": [
      "Finished (1/9).\n",
      "Finished (2/9).\n",
      "Finished (3/9).\n",
      "Finished (4/9).\n",
      "Finished (5/9).\n",
      "Finished (6/9).\n",
      "Finished (7/9).\n",
      "Finished (8/9).\n",
      "Finished (9/9).\n"
     ]
    }
   ],
   "source": [
    "# Free Model settings\n",
    "path_free = path_mean + \"/free\"\n",
    "make_model_directories(path_free)\n",
    "MP_free = fit_SVI_sensitivity_mean(LD, FreeGrowthModel, mns, opt, \n",
    "                                 iters=iters, num_samples=num_samples, save=save, load=load, path=path_free)"
   ]
  },
  {
   "cell_type": "code",
   "execution_count": 8,
   "id": "49a2d8c5",
   "metadata": {},
   "outputs": [
    {
     "name": "stdout",
     "output_type": "stream",
     "text": [
      "Finished (1/9).\n",
      "Finished (2/9).\n",
      "Finished (3/9).\n",
      "Finished (4/9).\n",
      "Finished (5/9).\n",
      "Finished (6/9).\n",
      "Finished (7/9).\n",
      "Finished (8/9).\n",
      "Finished (9/9).\n"
     ]
    }
   ],
   "source": [
    "# Fixed model settings\n",
    "path_fixed = path_mean + \"/fixed\"\n",
    "make_model_directories(path_fixed)\n",
    "MP_fixed = fit_SVI_sensitivity_mean(LD, FixedGrowthModel, mns, opt, \n",
    "                                 iters=iters, num_samples=num_samples, save=save, load=load, path=path_fixed)"
   ]
  },
  {
   "cell_type": "code",
   "execution_count": 9,
   "id": "200c48fd",
   "metadata": {},
   "outputs": [],
   "source": [
    "# Exporting growth info\n",
    "ps = [0.95, 0.8, 0.5] # Which credible intevals to save"
   ]
  },
  {
   "cell_type": "code",
   "execution_count": 10,
   "id": "d0dfc29c",
   "metadata": {},
   "outputs": [],
   "source": [
    "R_free = gather_free_Rt(MP_free, ps, path=path_mean, name=model_name_mean)"
   ]
  },
  {
   "cell_type": "code",
   "execution_count": 11,
   "id": "a26a621e",
   "metadata": {},
   "outputs": [],
   "source": [
    "R_fixed, ga_fixed = gather_fixed_Rt(MP_fixed, ps, path=path_mean, name=model_name_mean)"
   ]
  },
  {
   "cell_type": "markdown",
   "id": "3264f03f",
   "metadata": {},
   "source": [
    "#  Varying standard deviation of the generation time"
   ]
  },
  {
   "cell_type": "code",
   "execution_count": 12,
   "id": "f5864a7a",
   "metadata": {},
   "outputs": [],
   "source": [
    "def fit_SVI_sensitivity_sd(LD, modelclass, sds, opt, **fit_kwargs):\n",
    "    n_sd = len(sds)\n",
    "    MP = MultiPosterior()\n",
    "    for i, sd in enumerate(sds):\n",
    "        g = discretise_gamma(mn=5.2, std=sd)\n",
    "        LM = modelclass(g, delays, seed_L, forecast_L)\n",
    "        PH = fit_SVI(LD, LM, opt, name=f\"g_sd_{sd}\", **fit_kwargs)\n",
    "        MP.add_posterior(PH)\n",
    "        print(f'Finished ({i+1}/{n_sd}).')\n",
    "    return MP"
   ]
  },
  {
   "cell_type": "code",
   "execution_count": 13,
   "id": "c622dd91",
   "metadata": {},
   "outputs": [],
   "source": [
    "# sds to loop over\n",
    "sds = jnp.arange(1.0, 6.01, 0.5)"
   ]
  },
  {
   "cell_type": "code",
   "execution_count": 14,
   "id": "5c986bb8",
   "metadata": {},
   "outputs": [
    {
     "name": "stdout",
     "output_type": "stream",
     "text": [
      "Finished (1/11).\n",
      "Finished (2/11).\n",
      "Finished (3/11).\n",
      "Finished (4/11).\n",
      "Finished (5/11).\n",
      "Finished (6/11).\n",
      "Finished (7/11).\n",
      "Finished (8/11).\n",
      "Finished (9/11).\n",
      "Finished (10/11).\n",
      "Finished (11/11).\n",
      "Finished (1/11).\n",
      "Finished (2/11).\n",
      "Finished (3/11).\n",
      "Finished (4/11).\n",
      "Finished (5/11).\n",
      "Finished (6/11).\n",
      "Finished (7/11).\n",
      "Finished (8/11).\n",
      "Finished (9/11).\n",
      "Finished (10/11).\n",
      "Finished (11/11).\n"
     ]
    }
   ],
   "source": [
    "model_name_sd = \"variants-us-sensitivity-sd\"\n",
    "path_sd = f\"../estimates/{model_name_sd}\"\n",
    "\n",
    "# Free Model settings\n",
    "path_free = path_sd + \"/free\"\n",
    "make_model_directories(path_free)\n",
    "MP_free = fit_SVI_sensitivity_sd(LD, FreeGrowthModel, sds, opt, \n",
    "                                iters=iters, num_samples=num_samples, save=save, load=load, path=path_free)\n",
    "\n",
    "# Fixed model settings\n",
    "path_fixed = path_sd + \"/fixed\"\n",
    "make_model_directories(path_fixed)\n",
    "MP_fixed = fit_SVI_sensitivity_sd(LD, FixedGrowthModel, sds, opt, \n",
    "                                 iters=iters, num_samples=num_samples, save=save, load=load, path=path_fixed)\n",
    "\n",
    "# Exporting growth info\n",
    "ps = [0.95, 0.8, 0.5] # Which credible intevals to save\n",
    "R_free = gather_free_Rt(MP_free, ps, path=path_sd, name=model_name_sd)\n",
    "R_fixed, ga_fixed = gather_fixed_Rt(MP_fixed, ps, path=path_sd, name=model_name_sd)"
   ]
  }
 ],
 "metadata": {
  "kernelspec": {
   "display_name": "Python 3 (ipykernel)",
   "language": "python",
   "name": "python3"
  },
  "language_info": {
   "codemirror_mode": {
    "name": "ipython",
    "version": 3
   },
   "file_extension": ".py",
   "mimetype": "text/x-python",
   "name": "python",
   "nbconvert_exporter": "python",
   "pygments_lexer": "ipython3",
   "version": "3.9.9"
  }
 },
 "nbformat": 4,
 "nbformat_minor": 5
}
