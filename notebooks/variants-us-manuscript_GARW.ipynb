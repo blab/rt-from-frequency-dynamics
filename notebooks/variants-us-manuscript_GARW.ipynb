{
 "cells": [
  {
   "cell_type": "code",
   "execution_count": null,
   "id": "established-works",
   "metadata": {},
   "outputs": [],
   "source": [
    "import numpyro\n",
    "import numpy as np\n",
    "import pandas as pd\n",
    "import jax.numpy as jnp\n",
    "\n",
    "import rt_from_frequency_dynamics as rf"
   ]
  },
  {
   "cell_type": "code",
   "execution_count": null,
   "id": "accomplished-ownership",
   "metadata": {},
   "outputs": [],
   "source": [
    "data_name = \"variants-us\"\n",
    "raw_cases = pd.read_csv(f\"../data/{data_name}/{data_name}_location-case-counts.tsv\", sep=\"\\t\")\n",
    "raw_seq = pd.read_csv(f\"../data/{data_name}/{data_name}_location-variant-sequence-counts.tsv\", sep=\"\\t\")"
   ]
  },
  {
   "cell_type": "code",
   "execution_count": null,
   "id": "confirmed-creator",
   "metadata": {},
   "outputs": [],
   "source": [
    "# Locations to run\n",
    "locations = pd.unique(raw_seq[\"location\"])"
   ]
  },
  {
   "cell_type": "code",
   "execution_count": null,
   "id": "f950cb49",
   "metadata": {},
   "outputs": [],
   "source": [
    "(raw_seq\n",
    " [raw_seq.variant==\"Omicron\"] \n",
    " .groupby(\"location\")[\"date\"] \n",
    " .min()) # First date of Omicron observation"
   ]
  },
  {
   "cell_type": "code",
   "execution_count": null,
   "id": "ce8567e4",
   "metadata": {},
   "outputs": [],
   "source": [
    "(raw_seq\n",
    " [raw_seq.location==\"Washington\"] \n",
    " .groupby(\"variant\")[\"date\"] \n",
    " .min()) # First date of Omicron observation"
   ]
  },
  {
   "cell_type": "code",
   "execution_count": null,
   "id": "5931df6d",
   "metadata": {},
   "outputs": [],
   "source": [
    "(raw_seq\n",
    " [raw_seq.location==\"Tennessee\"] \n",
    " .groupby(\"variant\")[\"date\"] \n",
    " .min()) # First date of Omicron observation"
   ]
  },
  {
   "cell_type": "code",
   "execution_count": null,
   "id": "de8d2329",
   "metadata": {},
   "outputs": [],
   "source": [
    "(raw_seq\n",
    " [(raw_seq.location==\"Washington\") & (raw_seq.variant == \"Alpha\")]\n",
    ")"
   ]
  },
  {
   "cell_type": "code",
   "execution_count": null,
   "id": "expected-quarter",
   "metadata": {},
   "outputs": [],
   "source": [
    "# Defining Lineage Models\n",
    "seed_L = 14\n",
    "forecast_L = 0\n",
    "\n",
    "# Get delays\n",
    "v_names = ['Alpha', 'Beta', 'Delta', 'Epsilon', 'Gamma', 'Iota', 'Mu', 'Omicron', 'other']\n",
    "\n",
    "gen = rf.pad_delays(\n",
    "    [rf.discretise_gamma(mn=5.2, std=1.2), # Alpha\n",
    "     rf.discretise_gamma(mn=5.2, std=1.2), # Beta\n",
    "     rf.discretise_gamma(mn=3.6, std=1.2), # Delta\n",
    "     rf.discretise_gamma(mn=5.2, std=1.2), # Epsilon\n",
    "     rf.discretise_gamma(mn=5.2, std=1.2), # Gamma\n",
    "     rf.discretise_gamma(mn=5.2, std=1.2), # Iota\n",
    "     rf.discretise_gamma(mn=5.2, std=1.2), # Mu\n",
    "     rf.discretise_gamma(mn=3.2, std=1.2), # Omicron\n",
    "     rf.discretise_gamma(mn=5.2, std=1.2)] # Other\n",
    "    )\n",
    "\n",
    "delays = rf.pad_delays([rf.discretise_lognorm(mn=3.1, std=1.0)])\n",
    "\n",
    "k_GARW = 20 # Number of spline basis elements\n",
    "\n",
    "# Pick likelihoods\n",
    "## R Likelihoods\n",
    "GARW = rf.GARW(0.1, 0.01, prior_family=\"Normal\")\n",
    "\n",
    "CLik = rf.ZINegBinomCases(0.05) # Case likelihood\n",
    "SLik = rf.DirMultinomialSeq(100) # Sequence count likelihood\n",
    "\n",
    "# Defining models\n",
    "LM_GARW = rf.RenewalModel(gen, delays, seed_L, forecast_L, k=k_GARW, RLik = GARW, CLik = CLik, SLik = SLik,  v_names = v_names)"
   ]
  },
  {
   "cell_type": "code",
   "execution_count": null,
   "id": "thousand-future",
   "metadata": {},
   "outputs": [],
   "source": [
    "# Params for fitting\n",
    "opt = numpyro.optim.Adam(step_size=4e-4)\n",
    "\n",
    "iters = 60_000\n",
    "num_samples = 1000\n",
    "save = True\n",
    "load = False"
   ]
  },
  {
   "cell_type": "code",
   "execution_count": null,
   "id": "demonstrated-lesbian",
   "metadata": {},
   "outputs": [],
   "source": [
    "# Paths for export\n",
    "path_base = f\"../estimates/{data_name}\"\n",
    "path_GARW = path_base + \"/GARW\"\n",
    "\n",
    "rf.make_model_directories(path_GARW)"
   ]
  },
  {
   "cell_type": "markdown",
   "id": "632335a3",
   "metadata": {},
   "source": [
    "# Running models and exporting results"
   ]
  },
  {
   "cell_type": "code",
   "execution_count": null,
   "id": "94fc70e4",
   "metadata": {},
   "outputs": [],
   "source": [
    "# Running GARW model\n",
    "MP_GARW = rf.fit_SVI_locations(raw_cases, raw_seq, locations, \n",
    "                             LM_GARW, opt, \n",
    "                             iters=iters, num_samples=num_samples, save=save, load=load, path=path_GARW)"
   ]
  },
  {
   "cell_type": "code",
   "execution_count": null,
   "id": "4f743dee",
   "metadata": {},
   "outputs": [],
   "source": [
    "import matplotlib.pyplot as plt\n",
    "\n",
    "\n",
    "fig = plt.figure(figsize=(12.5, 7.5))\n",
    "gs = fig.add_gridspec(nrows=1, ncols= 1)\n",
    "ax = fig.add_subplot(gs[0, 0])\n",
    "\n",
    "for country in MP_GARW.locator.keys():\n",
    "    loss = MP_GARW.get(country).dataset[\"loss\"]\n",
    "    ax.plot(loss, label=country)\n",
    "    \n",
    "ax.set_yscale(\"log\")\n",
    "ax.set_xlabel(\"Iterations\")\n",
    "ax.set_ylabel(\"Loss\")\n",
    "ax.set_title(\"GARW\")\n",
    "ax.legend()"
   ]
  },
  {
   "cell_type": "markdown",
   "id": "c3931fd5",
   "metadata": {},
   "source": [
    "## Loading results"
   ]
  },
  {
   "cell_type": "code",
   "execution_count": null,
   "id": "118b4e1a",
   "metadata": {},
   "outputs": [],
   "source": [
    "# Loading past results\n",
    "def load_models(rc, rs, locations, RM, path=\".\", num_samples=1000):\n",
    "    g, delays = rf.get_standard_delays()\n",
    "    MP = rf.MultiPosterior()\n",
    "    for i, loc in enumerate(locations):\n",
    "        LD =rf.get_location_VariantData(rc, rs, loc)\n",
    "        PH = rf.sample_loaded_posterior(LD, RM, num_samples=num_samples, path=path, name=loc)   \n",
    "        MP.add_posterior(PH)\n",
    "        print(f\"Location {loc} finished {i+1} / {len(locations)}\")\n",
    "    return MP"
   ]
  },
  {
   "cell_type": "code",
   "execution_count": null,
   "id": "726fa478",
   "metadata": {
    "scrolled": true
   },
   "outputs": [],
   "source": [
    "MP_GARW = load_models(raw_cases, raw_seq, locations, LM_GARW, path=path_GARW, num_samples=3000)"
   ]
  },
  {
   "cell_type": "code",
   "execution_count": null,
   "id": "periodic-portal",
   "metadata": {},
   "outputs": [],
   "source": [
    "# Exporting growth info\n",
    "ps = [0.95, 0.8, 0.5] # Which credible intevals to save"
   ]
  },
  {
   "cell_type": "code",
   "execution_count": null,
   "id": "2c9e27a0",
   "metadata": {},
   "outputs": [],
   "source": [
    "# Export GARW\n",
    "R_GARW = rf.gather_R(MP_GARW, ps)\n",
    "r_GARW = rf.gather_little_r(MP_GARW, ps)\n",
    "I_GARW = rf.gather_I(MP_GARW, ps)\n",
    "freq_GARW = rf.gather_freq(MP_GARW, ps)\n",
    "\n",
    "R_GARW.to_csv(f\"{path_base}/{data_name}_Rt-combined-GARW.tsv\", encoding='utf-8', sep='\\t', index=False)\n",
    "r_GARW.to_csv(f\"{path_base}/{data_name}_little-r-combined-GARW.tsv\", encoding='utf-8', sep='\\t', index=False)\n",
    "I_GARW.to_csv(f\"{path_base}/{data_name}_I-combined-GARW.tsv\", encoding='utf-8', sep='\\t', index=False)\n",
    "freq_GARW.to_csv(f\"{path_base}/{data_name}_freq-combined-GARW.tsv\", encoding='utf-8', sep='\\t', index=False)"
   ]
  },
  {
   "cell_type": "code",
   "execution_count": null,
   "id": "adb7ddc1",
   "metadata": {},
   "outputs": [],
   "source": [
    "# Export growth advantages\n",
    "ga_GARW = rf.gather_ga_time(MP_GARW, ps)\n",
    "ga_GARW.to_csv(f\"{path_base}/{data_name}_ga-combined-GARW.tsv\",  encoding='utf-8', sep='\\t', index=False)"
   ]
  },
  {
   "cell_type": "code",
   "execution_count": null,
   "id": "several-rocket",
   "metadata": {},
   "outputs": [],
   "source": [
    "# Figures for export\n",
    "path_fig = path_base + \"/figures\"\n",
    "rf.make_path_if_absent(path_fig)"
   ]
  },
  {
   "cell_type": "code",
   "execution_count": null,
   "id": "dynamic-clause",
   "metadata": {},
   "outputs": [],
   "source": [
    "from rt_from_frequency_dynamics.plotfunctions import *\n",
    "ps = DefaultAes.ps\n",
    "ps = [0.8]\n",
    "alphas = DefaultAes.alphas\n",
    "\n",
    "v_colors =[\"#2e5eaa\", \"#5adbff\",  \"#56e39f\",\"#b4c5e4\", \"#f03a47\",  \"#f5bb00\", \"#9e4244\",\"#9932CC\", \"#808080\"] \n",
    "v_names = ['Alpha', 'Beta', 'Delta', 'Epsilon', 'Gamma', 'Iota', 'Mu', 'Omicron', 'other']\n",
    "color_map = {v : c for c, v in zip(v_colors, v_names)}"
   ]
  },
  {
   "cell_type": "code",
   "execution_count": null,
   "id": "c7fe1407",
   "metadata": {},
   "outputs": [],
   "source": [
    "import matplotlib\n",
    "import matplotlib.pyplot as plt\n",
    "import matplotlib.transforms as mtransforms\n",
    "\n",
    "font = {'family' : 'Helvetica',\n",
    "        'weight' : 'light',\n",
    "        'size'   : 32}\n",
    "\n",
    "matplotlib.rc('font', **font)"
   ]
  },
  {
   "cell_type": "code",
   "execution_count": null,
   "id": "d60660ed",
   "metadata": {},
   "outputs": [],
   "source": [
    "# Quick posterior checks"
   ]
  },
  {
   "cell_type": "code",
   "execution_count": null,
   "id": "9f136198",
   "metadata": {},
   "outputs": [],
   "source": [
    "# Variant frequencies for each location from free R model\n",
    "def posterior_frequencies_by_country(MP, ps, alphas, color_map, forecast=False):\n",
    "    locations = list(MP.locator.keys())\n",
    "    n_locations = len(locations)\n",
    "        \n",
    "    size = 10\n",
    "    n_per_row = 5\n",
    "    \n",
    "    if n_locations % n_per_row == 0:\n",
    "        n_rows = n_locations // n_per_row\n",
    "    else:\n",
    "        n_rows = (n_locations // n_per_row) + 1\n",
    "    \n",
    "    fig = plt.figure(figsize=(1.5*n_per_row*size, n_rows*size))\n",
    "    gs = fig.add_gridspec(nrows=n_rows, ncols= n_per_row)\n",
    "    \n",
    "    ax_list = []\n",
    "    for i, loc in enumerate(locations):\n",
    "        this_col = i % n_per_row\n",
    "        this_row = i // n_per_row\n",
    "        ax = fig.add_subplot(gs[this_row, this_col])\n",
    "        dataset, LD = rf.unpack_model(MP, loc)\n",
    "        colors = [color_map[v] for v in LD.seq_names]\n",
    "        \n",
    "        rf.plot_posterior_frequency(ax, dataset, ps, alphas, colors, forecast=forecast)\n",
    "        rf.plot_observed_frequency(ax, LD, colors)\n",
    "        ax.set_title(loc)\n",
    "    \n",
    "        # Adding dates depends on whether we're forecasting\n",
    "        if forecast:\n",
    "            T_forecast = forecast_L\n",
    "            ax.axvline(x=len(LD.dates)-1, color='k', linestyle='--')\n",
    "            rf.add_dates_sep(ax, rf.expand_dates(LD.dates, T_forecast), sep=30)\n",
    "        else:\n",
    "            rf.add_dates(ax, LD.dates, sep=1)\n",
    "            \n",
    "        if this_col == 0:\n",
    "            ax.set_ylabel(\"Variant frequency\")\n",
    "     \n",
    "    # Make legend\n",
    "    patches = [matplotlib.patches.Patch(color=c, label=l) for l, c in color_map.items()]\n",
    "    legend = fig.legend(patches, list(color_map.keys()), ncol=len(color_map.keys()), loc=\"lower center\")  \n",
    "    legend.get_frame().set_linewidth(2.)\n",
    "    legend.get_frame().set_edgecolor(\"k\")\n",
    "    fig.tight_layout()\n",
    "    fig.subplots_adjust(bottom = 0.1)\n",
    "    return fig"
   ]
  },
  {
   "cell_type": "code",
   "execution_count": null,
   "id": "9b17208f",
   "metadata": {
    "scrolled": true
   },
   "outputs": [],
   "source": [
    "fig_freq = posterior_frequencies_by_country(MP_GARW, ps, alphas, color_map, forecast=False)"
   ]
  },
  {
   "cell_type": "code",
   "execution_count": null,
   "id": "d8636b8e",
   "metadata": {},
   "outputs": [],
   "source": [
    "# Variant cases for each location from free R model\n",
    "def posterior_cases_by_country(MP, ps, alphas, color_map, forecast=False):\n",
    "    locations = list(MP.locator.keys())\n",
    "    n_locations = len(locations)\n",
    "        \n",
    "    size = 10\n",
    "    n_per_row = 5\n",
    "    \n",
    "    if n_locations % n_per_row == 0:\n",
    "        n_rows = n_locations // n_per_row\n",
    "    else:\n",
    "        n_rows = (n_locations // n_per_row) + 1\n",
    "    \n",
    "    fig = plt.figure(figsize=(1.9*n_per_row*size, n_rows*size))\n",
    "    gs = fig.add_gridspec(nrows=n_rows, ncols= n_per_row)\n",
    "    \n",
    "    ax_list = []\n",
    "    for i, loc in enumerate(locations):\n",
    "        this_col = i % n_per_row\n",
    "        this_row = i // n_per_row\n",
    "        ax = fig.add_subplot(gs[this_row, this_col])\n",
    "        dataset, LD = rf.unpack_model(MP, loc)\n",
    "        colors = [color_map[v] for v in LD.seq_names]\n",
    "        \n",
    "        rf.plot_posterior_I(ax, dataset, ps, alphas, colors, forecast=forecast)\n",
    "        rf.plot_cases(ax, LD)\n",
    "        ax.set_title(loc)\n",
    "        \n",
    "        \n",
    "        # Adding dates depends on whether we're forecasting\n",
    "        if forecast:\n",
    "            T_forecast = forecast_L\n",
    "            ax.axvline(x=len(LD.dates)-1, color='k', linestyle='--')\n",
    "            rf.add_dates_sep(ax, rf.expand_dates(LD.dates, T_forecast), sep=30)\n",
    "        else:\n",
    "            rf.add_dates(ax, LD.dates, sep=1)\n",
    "            \n",
    "        if this_col == 0:\n",
    "            ax.set_ylabel(\"Variant cases\")\n",
    "     \n",
    "    # Make legend\n",
    "    patches = [matplotlib.patches.Patch(color=c, label=l) for l, c in color_map.items()]\n",
    "    legend = fig.legend(patches, list(color_map.keys()), ncol=len(color_map.keys()), loc=\"lower center\")  \n",
    "    legend.get_frame().set_linewidth(2.)\n",
    "    legend.get_frame().set_edgecolor(\"k\")\n",
    "    fig.tight_layout()\n",
    "    fig.subplots_adjust(bottom = 0.1)\n",
    "    return fig"
   ]
  },
  {
   "cell_type": "code",
   "execution_count": null,
   "id": "e01dfc9b",
   "metadata": {
    "scrolled": false
   },
   "outputs": [],
   "source": [
    "fig_cases = posterior_cases_by_country(MP_GARW, ps, alphas, color_map, forecast=False)"
   ]
  },
  {
   "cell_type": "code",
   "execution_count": null,
   "id": "46c6c93b",
   "metadata": {},
   "outputs": [],
   "source": [
    "# Variant R for each location from free R model\n",
    "def posterior_R_by_country(MP, ps, alphas, color_map, forecast=False):\n",
    "    locations = list(MP.locator.keys())\n",
    "    n_locations = len(locations)\n",
    "        \n",
    "    size = 4\n",
    "    n_per_row = 5\n",
    "    \n",
    "    if n_locations % n_per_row == 0:\n",
    "        n_rows = n_locations // n_per_row\n",
    "    else:\n",
    "        n_rows = (n_locations // n_per_row) + 1\n",
    "    \n",
    "    fig = plt.figure(figsize=(1.9*n_per_row*size, n_rows*size))\n",
    "    gs = fig.add_gridspec(nrows=n_rows, ncols= n_per_row)\n",
    "    \n",
    "    ax_list = []\n",
    "    for i, loc in enumerate(locations):\n",
    "        this_col = i % n_per_row\n",
    "        this_row = i // n_per_row\n",
    "        ax = fig.add_subplot(gs[this_row, this_col])\n",
    "        dataset, LD = rf.unpack_model(MP, loc)\n",
    "        colors = [color_map[v] for v in LD.seq_names]\n",
    "        \n",
    "        rf.plot_R_censored(ax, dataset, ps, alphas, colors, thres=0.001, forecast=forecast)\n",
    "        ax.set_title(loc)\n",
    "        \n",
    "        \n",
    "        # Adding dates depends on whether we're forecasting\n",
    "        if forecast:\n",
    "            T_forecast = forecast_L\n",
    "            ax.axvline(x=len(LD.dates)-1, color='k', linestyle='--')\n",
    "            rf.add_dates_sep(ax, expand_dates(LD.dates, T_forecast), sep=14)\n",
    "        else:\n",
    "            rf.add_dates(ax, LD.dates, sep=1)\n",
    "            \n",
    "        if this_col == 0:\n",
    "            ax.set_ylabel(\"Variant R\")\n",
    "     \n",
    "    # Make legend\n",
    "    patches = [matplotlib.patches.Patch(color=c, label=l) for l, c in color_map.items()]\n",
    "    legend = fig.legend(patches, list(color_map.keys()), ncol=len(color_map.keys()), loc=\"lower center\")  \n",
    "    legend.get_frame().set_linewidth(2.)\n",
    "    legend.get_frame().set_edgecolor(\"k\")\n",
    "    fig.tight_layout()\n",
    "    fig.subplots_adjust(bottom = 0.1)\n",
    "    return fig"
   ]
  },
  {
   "cell_type": "code",
   "execution_count": null,
   "id": "4623bf18",
   "metadata": {},
   "outputs": [],
   "source": [
    "fig_R = posterior_R_by_country(MP_GARW, ps, alphas, color_map)"
   ]
  },
  {
   "cell_type": "code",
   "execution_count": null,
   "id": "43ea272b",
   "metadata": {},
   "outputs": [],
   "source": [
    "# Variant frequencies for each location from free R model\n",
    "def posterior_epidemic_gr_by_country(MP, g, ps, alphas, color_map, forecast=False):\n",
    "    locations = list(MP.locator.keys())\n",
    "    n_locations = len(locations)\n",
    "        \n",
    "        \n",
    "    size = 4\n",
    "    n_per_row = 5\n",
    "    \n",
    "    if n_locations % n_per_row == 0:\n",
    "        n_rows = n_locations // n_per_row\n",
    "    else:\n",
    "        n_rows = (n_locations // n_per_row) + 1\n",
    "    \n",
    "    fig = plt.figure(figsize=(1.9*n_per_row*size, n_rows*size))\n",
    "    gs = fig.add_gridspec(nrows=n_rows, ncols= n_per_row)\n",
    "    \n",
    "    ax_list = []\n",
    "    for i, loc in enumerate(locations):\n",
    "        this_col = i % n_per_row\n",
    "        this_row = i // n_per_row\n",
    "        ax = fig.add_subplot(gs[this_row, this_col])\n",
    "        dataset, LD = rf.unpack_model(MP, loc)\n",
    "        colors = [color_map[v] for v in LD.seq_names]\n",
    "        \n",
    "        rf.plot_little_r_censored(ax, dataset, ps, alphas, colors, thres=0.02, forecast=forecast)\n",
    "        ax.set_title(loc)\n",
    "        \n",
    "        \n",
    "        # Adding dates depends on whether we're forecasting\n",
    "        if forecast:\n",
    "            T_forecast = forecast_L\n",
    "            ax.axvline(x=len(LD.dates)-1, color='k', linestyle='--')\n",
    "            rf.add_dates_sep(ax, rf.expand_dates(LD.dates, T_forecast), sep=14)\n",
    "        else:\n",
    "            rf.add_dates(ax, LD.dates, sep=1)\n",
    "            \n",
    "        if this_col == 0:\n",
    "            ax.set_ylabel(\"Epidemic Growth Rate\")\n",
    "     \n",
    "    # Make legend\n",
    "    patches = [matplotlib.patches.Patch(color=c, label=l) for l, c in color_map.items()]\n",
    "    legend = fig.legend(patches, list(color_map.keys()), ncol=len(color_map.keys()), loc=\"lower center\")  \n",
    "    legend.get_frame().set_linewidth(2.)\n",
    "    legend.get_frame().set_edgecolor(\"k\")\n",
    "    fig.tight_layout()\n",
    "    fig.subplots_adjust(bottom = 0.1)\n",
    "    return fig"
   ]
  },
  {
   "cell_type": "code",
   "execution_count": null,
   "id": "08351f17",
   "metadata": {},
   "outputs": [],
   "source": [
    "fig_little_r = posterior_epidemic_gr_by_country(MP_GARW, gen, ps, alphas, color_map)"
   ]
  },
  {
   "cell_type": "code",
   "execution_count": null,
   "id": "7127d518",
   "metadata": {},
   "outputs": [],
   "source": []
  }
 ],
 "metadata": {
  "kernelspec": {
   "display_name": "Python 3 (ipykernel)",
   "language": "python",
   "name": "python3"
  },
  "language_info": {
   "codemirror_mode": {
    "name": "ipython",
    "version": 3
   },
   "file_extension": ".py",
   "mimetype": "text/x-python",
   "name": "python",
   "nbconvert_exporter": "python",
   "pygments_lexer": "ipython3",
   "version": "3.9.13"
  }
 },
 "nbformat": 4,
 "nbformat_minor": 5
}
