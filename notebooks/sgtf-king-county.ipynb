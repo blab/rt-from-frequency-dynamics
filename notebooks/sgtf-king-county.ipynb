{
 "cells": [
  {
   "cell_type": "code",
   "execution_count": null,
   "id": "established-works",
   "metadata": {},
   "outputs": [],
   "source": [
    "import numpyro\n",
    "import numpy as np\n",
    "import pandas as pd\n",
    "import jax.numpy as jnp\n",
    "\n",
    "from rt_from_frequency_dynamics import discretise_gamma, discretise_lognorm, pad_delays\n",
    "from rt_from_frequency_dynamics import get_standard_delays\n",
    "from rt_from_frequency_dynamics import FreeGrowthModel, FixedGrowthModel, GARandomWalkModel\n",
    "\n",
    "from rt_from_frequency_dynamics import get_location_LineageData\n",
    "from rt_from_frequency_dynamics import fit_SVI_locations, MultiPosterior\n",
    "from rt_from_frequency_dynamics import sample_loaded_posterior\n",
    "from rt_from_frequency_dynamics import unpack_model\n",
    "from rt_from_frequency_dynamics import make_path_if_absent, make_model_directories\n",
    "from rt_from_frequency_dynamics import gather_R, gather_little_r, gather_ga, gather_ga_time, gather_I"
   ]
  },
  {
   "cell_type": "code",
   "execution_count": null,
   "id": "accomplished-ownership",
   "metadata": {},
   "outputs": [],
   "source": [
    "data_name = \"sgtf-king-county\"\n",
    "raw_cases = pd.read_csv(f\"../data/{data_name}_location-case-counts.tsv\", sep=\"\\t\")\n",
    "raw_seq = pd.read_csv(f\"../data/{data_name}_location-variant-sequence-counts.tsv\", sep=\"\\t\")"
   ]
  },
  {
   "cell_type": "code",
   "execution_count": null,
   "id": "confirmed-creator",
   "metadata": {},
   "outputs": [],
   "source": [
    "# Locations to run\n",
    "locations = pd.unique(raw_seq[\"location\"])"
   ]
  },
  {
   "cell_type": "code",
   "execution_count": null,
   "id": "expected-quarter",
   "metadata": {},
   "outputs": [],
   "source": [
    "# Defining Lineage Models\n",
    "seed_L = 14\n",
    "forecast_L = 7\n",
    "\n",
    "# Get delays\n",
    "gen = discretise_gamma(mn=5.2, std=1.72)\n",
    "delays = [discretise_lognorm(mn=6.9, std=2.0)]\n",
    "delays = pad_delays(delays)\n",
    "    \n",
    "#LM_free = FreeGrowthModel(gen, delays, seed_L, forecast_L)\n",
    "#LM_fixed = FixedGrowthModel(gen, delays, seed_L, forecast_L)\n",
    "LM_GARW = GARandomWalkModel(gen, delays, seed_L, forecast_L)"
   ]
  },
  {
   "cell_type": "code",
   "execution_count": null,
   "id": "thousand-future",
   "metadata": {},
   "outputs": [],
   "source": [
    "# Params for fitting\n",
    "opt = numpyro.optim.Adam(step_size=1e-2)\n",
    "iters = 300_000\n",
    "num_samples = 3000\n",
    "save = True\n",
    "load = False"
   ]
  },
  {
   "cell_type": "code",
   "execution_count": null,
   "id": "demonstrated-lesbian",
   "metadata": {},
   "outputs": [],
   "source": [
    "# Paths for export\n",
    "path_base = f\"../estimates/{data_name}\"\n",
    "#path_free = path_base + \"/free\"\n",
    "#path_fixed = path_base + \"/fixed\"\n",
    "path_GARW = path_base + \"/GARW\"\n",
    "\n",
    "#make_model_directories(path_free)\n",
    "#make_model_directories(path_fixed)\n",
    "make_model_directories(path_GARW)"
   ]
  },
  {
   "cell_type": "markdown",
   "id": "632335a3",
   "metadata": {},
   "source": [
    "# Running models and exporting results"
   ]
  },
  {
   "cell_type": "code",
   "execution_count": null,
   "id": "recovered-lounge",
   "metadata": {},
   "outputs": [],
   "source": [
    "# Running free model\n",
    "#MP_free = fit_SVI_locations(raw_cases, raw_seq, locations, \n",
    "#                            LM_free, opt, \n",
    "#                            iters=iters, num_samples=num_samples, save=save, load=load, path=path_free)   "
   ]
  },
  {
   "cell_type": "code",
   "execution_count": null,
   "id": "understanding-technology",
   "metadata": {},
   "outputs": [],
   "source": [
    "# Running fixed model\n",
    "#MP_fixed = fit_SVI_locations(raw_cases, raw_seq, locations, \n",
    "#                             LM_fixed, opt, \n",
    "#                             iters=iters, num_samples=num_samples, save=save, load=load, path=path_fixed)"
   ]
  },
  {
   "cell_type": "code",
   "execution_count": null,
   "id": "086b364b",
   "metadata": {},
   "outputs": [],
   "source": [
    "# Running GARW model\n",
    "MP_GARW = fit_SVI_locations(raw_cases, raw_seq, locations, \n",
    "                             LM_GARW, opt, \n",
    "                             iters=iters, num_samples=num_samples, save=save, load=load, path=path_GARW)"
   ]
  },
  {
   "cell_type": "markdown",
   "id": "c3931fd5",
   "metadata": {},
   "source": [
    "## Loading results"
   ]
  },
  {
   "cell_type": "code",
   "execution_count": null,
   "id": "118b4e1a",
   "metadata": {},
   "outputs": [],
   "source": [
    "# Loading past results\n",
    "def load_models(rc, rs, locations, model_type, path=\".\", num_samples=1000):\n",
    "    g, delays = get_standard_delays()\n",
    "    LM = model_type(g, delays, seed_L, forecast_L)\n",
    "    MP = MultiPosterior()\n",
    "    for i, loc in enumerate(locations):\n",
    "        LD = get_location_LineageData(rc, rs, loc)\n",
    "        PH = sample_loaded_posterior(LD, LM, num_samples=num_samples, path=path, name=loc)   \n",
    "        MP.add_posterior(PH)\n",
    "        print(f\"Location {loc} finished {i+1} / {len(locations)}\")\n",
    "    return MP"
   ]
  },
  {
   "cell_type": "code",
   "execution_count": null,
   "id": "726fa478",
   "metadata": {},
   "outputs": [],
   "source": [
    "#MP_free = load_models(raw_cases, raw_seq, locations, FreeGrowthModel, path=path_free, num_samples=3000)\n",
    "#MP_fixed = load_models(raw_cases, raw_seq, locations, FixedGrowthModel, path=path_fixed, num_samples=3000)"
   ]
  },
  {
   "cell_type": "code",
   "execution_count": null,
   "id": "bb3c39b1",
   "metadata": {},
   "outputs": [],
   "source": [
    "MP_GARW = load_models(raw_cases, raw_seq, locations, GARandomWalkModel, path=path_GARW, num_samples=3000)"
   ]
  },
  {
   "cell_type": "code",
   "execution_count": null,
   "id": "periodic-portal",
   "metadata": {},
   "outputs": [],
   "source": [
    "# Exporting growth info\n",
    "ps = [0.95, 0.8, 0.5] # Which credible intevals to save"
   ]
  },
  {
   "cell_type": "code",
   "execution_count": null,
   "id": "a0c96a34",
   "metadata": {},
   "outputs": [],
   "source": [
    "# Export free model\n",
    "#R_free = gather_R(MP_free, ps)\n",
    "#r_free = gather_little_r(MP_free, ps, gen)\n",
    "#I_free = gather_I(MP_free, ps)\n",
    "\n",
    "#R_free.to_csv(f\"{path_base}/{data_name}_Rt-combined-free.tsv\", encoding='utf-8', sep='\\t', index=False)\n",
    "#r_free.to_csv(f\"{path_base}/{data_name}_little-r-combined-free.tsv\", encoding='utf-8', sep='\\t', index=False)\n",
    "#I_free.to_csv(f\"{path_base}/{data_name}_I-combined-free.tsv\", encoding='utf-8', sep='\\t', index=False)"
   ]
  },
  {
   "cell_type": "code",
   "execution_count": null,
   "id": "51f7431a",
   "metadata": {},
   "outputs": [],
   "source": [
    "# Export fixed model\n",
    "#R_fixed = gather_R(MP_fixed, ps)\n",
    "#r_fixed = gather_little_r(MP_fixed, ps, gen)\n",
    "#ga_fixed = gather_ga(MP_fixed, ps)\n",
    "#I_fixed = gather_I(MP_fixed, ps)\n",
    "\n",
    "#R_fixed.to_csv(f\"{path_base}/{data_name}_Rt-combined-fixed.tsv\", encoding='utf-8', sep='\\t', index=False)\n",
    "#r_fixed.to_csv(f\"{path_base}/{data_name}_little-r-combined-fixed.tsv\", encoding='utf-8', sep='\\t', index=False)\n",
    "#ga_fixed.to_csv(f\"{path_base}/{data_name}_ga-combined-fixed.tsv\", encoding='utf-8', sep='\\t', index=False)\n",
    "#I_fixed.to_csv(f\"{path_base}/{data_name}_I-combined-fixed.tsv\", encoding='utf-8', sep='\\t', index=False)"
   ]
  },
  {
   "cell_type": "code",
   "execution_count": null,
   "id": "842929d3",
   "metadata": {},
   "outputs": [],
   "source": [
    "# Export GARW model\n",
    "R_GARW = gather_R(MP_GARW, ps)\n",
    "r_GARW = gather_little_r(MP_GARW, ps, gen)\n",
    "I_GARW = gather_I(MP_GARW, ps)\n",
    "ga_GARW = gather_ga_time(MP_GARW, ps, rel_to = \"probable Delta\")\n",
    "\n",
    "R_GARW.to_csv(f\"{path_base}/{data_name}_Rt-combined-GARW.tsv\", encoding='utf-8', sep='\\t', index=False)\n",
    "r_GARW.to_csv(f\"{path_base}/{data_name}_little-r-combined-GARW.tsv\", encoding='utf-8', sep='\\t', index=False)\n",
    "I_GARW.to_csv(f\"{path_base}/{data_name}_I-combined-GARW.tsv\", encoding='utf-8', sep='\\t', index=False)\n",
    "ga_GARW.to_csv(f\"{path_base}/{data_name}_ga-combined-GARW.tsv\", encoding='utf-8', sep='\\t', index=False)"
   ]
  },
  {
   "cell_type": "markdown",
   "id": "ea4e9900",
   "metadata": {},
   "source": [
    "# Making figures"
   ]
  },
  {
   "cell_type": "code",
   "execution_count": null,
   "id": "several-rocket",
   "metadata": {},
   "outputs": [],
   "source": [
    "# Figures for export\n",
    "path_fig = path_base + \"/figures\"\n",
    "make_path_if_absent(path_fig)"
   ]
  },
  {
   "cell_type": "code",
   "execution_count": null,
   "id": "dynamic-clause",
   "metadata": {},
   "outputs": [],
   "source": [
    "from rt_from_frequency_dynamics.plotfunctions import *\n",
    "ps = DefaultAes.ps\n",
    "alphas = DefaultAes.alphas\n",
    "v_colors = [\"#9932CC\", \"#808080\"]\n",
    "v_names = ['probable Omicron', 'probable Delta']\n",
    "color_map = {v : c for c, v in zip(v_colors, v_names)}"
   ]
  },
  {
   "cell_type": "code",
   "execution_count": null,
   "id": "c7fe1407",
   "metadata": {},
   "outputs": [],
   "source": [
    "import matplotlib.pyplot as plt\n",
    "import matplotlib.transforms as mtransforms\n",
    "\n",
    "font = {'family' : 'Helvetica',\n",
    "        'weight' : 'light',\n",
    "        'size'   : 32}\n",
    "\n",
    "matplotlib.rc('font', **font)"
   ]
  },
  {
   "cell_type": "code",
   "execution_count": null,
   "id": "d60660ed",
   "metadata": {},
   "outputs": [],
   "source": [
    "# What to output?"
   ]
  },
  {
   "cell_type": "code",
   "execution_count": null,
   "id": "9f136198",
   "metadata": {},
   "outputs": [],
   "source": [
    "# Variant frequencies for each location from free R model\n",
    "def posterior_frequencies_by_country(MP, ps, alphas, color_map, forecast=False):\n",
    "    locations = list(MP.locator.keys())\n",
    "    n_locations = len(locations)\n",
    "\n",
    "    fig = plt.figure(figsize=(30, 10))\n",
    "    gs = fig.add_gridspec(nrows=1, ncols=n_locations)\n",
    "    \n",
    "    ax_list = []\n",
    "    for i, loc in enumerate(locations):\n",
    "        ax = fig.add_subplot(gs[0,i])\n",
    "        dataset, LD = unpack_model(MP, loc)\n",
    "        colors = [color_map[v] for v in LD.seq_names]\n",
    "        \n",
    "        plot_posterior_frequency(ax, dataset, ps, alphas, colors, forecast=forecast)\n",
    "        plot_observed_frequency_size(ax, LD, colors, lambda N: 1.5*N)\n",
    "        ax.set_title(loc)\n",
    "        if i == 0:\n",
    "            ax.set_ylabel(\"Variant frequency\")\n",
    "        \n",
    "        # Adding dates depends on whether we're forecasting\n",
    "        if forecast:\n",
    "            T_forecast = len(dataset.posterior.freq_forecast_dim_0)\n",
    "            ax.axvline(x=len(LD.dates)-1, color='k', linestyle='--')\n",
    "            add_dates_sep(ax, expand_dates(LD.dates, T_forecast), sep=5)\n",
    "        else:\n",
    "            add_dates_sep(ax, LD.dates, sep=7)\n",
    "\n",
    "\n",
    "     \n",
    "    # Make legend\n",
    "    patches = [matplotlib.patches.Patch(color=c, label=l) for l, c in color_map.items()]\n",
    "    legend = fig.legend(patches, list(color_map.keys()), ncol=len(color_map.keys()), loc=\"lower center\")  \n",
    "    legend.get_frame().set_linewidth(2.)\n",
    "    legend.get_frame().set_edgecolor(\"k\")\n",
    "    fig.tight_layout()\n",
    "    fig.subplots_adjust(bottom = 0.2)\n",
    "    return fig"
   ]
  },
  {
   "cell_type": "code",
   "execution_count": null,
   "id": "9b17208f",
   "metadata": {
    "scrolled": true
   },
   "outputs": [],
   "source": [
    "fig_freq = posterior_frequencies_by_country(MP_GARW, ps, alphas, color_map, forecast=True)"
   ]
  },
  {
   "cell_type": "code",
   "execution_count": null,
   "id": "9144d00a",
   "metadata": {},
   "outputs": [],
   "source": [
    "# Case counts partitioned by variant\n",
    "# Effective reproductive number estimates by country\n",
    "def posterior_cases_R_by_country(MP, ps, alphas, color_map, forecast=False):\n",
    "    locations = list(MP.locator.keys())\n",
    "    n_locations = len(locations)\n",
    "\n",
    "    fig = plt.figure(figsize=(30, 15))\n",
    "    gs = fig.add_gridspec(nrows=2, ncols=n_locations,  height_ratios=[2.,2.])\n",
    "\n",
    "    ax_list_cases = []\n",
    "    ax_list_R = []\n",
    "    for i, loc in enumerate(locations):\n",
    "        # Create axes\n",
    "        if i == 0:\n",
    "            ax_cases = fig.add_subplot(gs[0,i])\n",
    "            ax_R = fig.add_subplot(gs[1,i])\n",
    "        else:\n",
    "            ax_cases = fig.add_subplot(gs[0,i])\n",
    "            ax_R = fig.add_subplot(gs[1,i], sharey = ax_list_R[0])\n",
    "            \n",
    "        dataset, LD = unpack_model(MP, loc)\n",
    "        colors = [color_map[v] for v in LD.seq_names]\n",
    "        \n",
    "        # Plot cases and posterior lineage I\n",
    "        plot_cases(ax_cases, LD)\n",
    "        plot_posterior_I(ax_cases, dataset, ps, alphas, colors, forecast=forecast)\n",
    "        add_dates_sep(ax_cases, LD.dates, sep=7)\n",
    "        ax_cases.set_title(loc)\n",
    "\n",
    "        # Plot posterior R valuse\n",
    "        plot_R_censored(ax_R, dataset, ps, alphas, colors, thres=0.01, forecast=forecast)\n",
    "        add_dates_sep(ax_R, LD.dates, sep=7)\n",
    "        ax_R.set_ylim((0,7.))\n",
    "        \n",
    "        if i == 0:\n",
    "            ax_cases.set_ylabel(\"Variant cases\")\n",
    "            ax_R.set_ylabel(\"Variant Rt\")\n",
    "            \n",
    "        ax_list_cases.append(ax_cases)\n",
    "        ax_list_R.append(ax_R)\n",
    "        \n",
    "    patches = [matplotlib.patches.Patch(color=c, label=l) for l, c in color_map.items()]\n",
    "    legend = fig.legend(patches, list(color_map.keys()), ncol=len(color_map.keys()), loc=\"lower center\")  \n",
    "    legend.get_frame().set_linewidth(2.)\n",
    "    legend.get_frame().set_edgecolor(\"k\")\n",
    "    fig.tight_layout()\n",
    "    fig.subplots_adjust(bottom = 0.2) \n",
    "    return fig"
   ]
  },
  {
   "cell_type": "code",
   "execution_count": null,
   "id": "5de8768e",
   "metadata": {},
   "outputs": [],
   "source": [
    "fig_case_R = posterior_cases_R_by_country(MP_GARW, ps[:-1], alphas, color_map, forecast=False);"
   ]
  },
  {
   "cell_type": "markdown",
   "id": "de1b0617",
   "metadata": {},
   "source": [
    "# Growth rates by variant by country"
   ]
  },
  {
   "cell_type": "code",
   "execution_count": null,
   "id": "79c98778",
   "metadata": {},
   "outputs": [],
   "source": [
    "def posterior_cases_epidemic_gr_by_country(MP, g, ps, alphas, color_map, forecast=False):\n",
    "    locations = list(MP.locator.keys())\n",
    "    n_locations = len(locations)\n",
    "\n",
    "    fig = plt.figure(figsize=(30, 15))\n",
    "    gs = fig.add_gridspec(nrows=2, ncols=n_locations,  height_ratios=[2.,1.5])\n",
    "\n",
    "    ax_list_cases = []\n",
    "    ax_list_r = []\n",
    "    for i, loc in enumerate(locations):\n",
    "        # Create axes\n",
    "        if i == 0:\n",
    "            ax_cases = fig.add_subplot(gs[0,i])\n",
    "            ax_r = fig.add_subplot(gs[1,i])\n",
    "        else:\n",
    "            ax_cases = fig.add_subplot(gs[0,i])\n",
    "            ax_r = fig.add_subplot(gs[1,i], sharey = ax_list_r[0])\n",
    "            \n",
    "        dataset, LD = unpack_model(MP, loc)\n",
    "        colors = [color_map[v] for v in LD.seq_names]\n",
    "        \n",
    "        # Plot cases and posterior lineage I\n",
    "        plot_cases(ax_cases, LD)\n",
    "        plot_posterior_I(ax_cases, dataset, ps, alphas, colors, forecast=forecast)\n",
    "        add_dates_sep(ax_cases, LD.dates, sep=7)\n",
    "        ax_cases.set_title(loc)\n",
    "\n",
    "        # Plot posterior little r values\n",
    "        plot_little_r_censored(ax_r, dataset, g, ps, alphas, colors, thres=0.001, forecast=forecast)\n",
    "        add_dates_sep(ax_r, LD.dates, sep=7)\n",
    "        \n",
    "        \n",
    "        if i == 0:\n",
    "            ax_cases.set_ylabel(\"Variant cases\")\n",
    "            ax_r.set_ylabel(\"Epidemic growth rate\")\n",
    "            \n",
    "        ax_list_cases.append(ax_cases)\n",
    "        ax_list_r.append(ax_r)\n",
    "\n",
    "    patches = [matplotlib.patches.Patch(color=c, label=l) for l, c in color_map.items()]\n",
    "    legend = fig.legend(patches, list(color_map.keys()), ncol=len(color_map.keys()), loc=\"lower center\")  \n",
    "    legend.get_frame().set_linewidth(2.)\n",
    "    legend.get_frame().set_edgecolor(\"k\")\n",
    "    fig.tight_layout()\n",
    "    fig.subplots_adjust(bottom = 0.2) \n",
    "    return fig"
   ]
  },
  {
   "cell_type": "code",
   "execution_count": null,
   "id": "de6ced56",
   "metadata": {},
   "outputs": [],
   "source": [
    "fig_case_r = posterior_cases_epidemic_gr_by_country(MP_GARW, gen, ps, alphas, color_map, forecast=False);"
   ]
  },
  {
   "cell_type": "markdown",
   "id": "40d10494",
   "metadata": {},
   "source": [
    "# Saving figures\n"
   ]
  },
  {
   "cell_type": "code",
   "execution_count": null,
   "id": "8a27961d",
   "metadata": {},
   "outputs": [],
   "source": [
    "model_names = [\"GARW\"]\n",
    "model_posterior = [MP_GARW]"
   ]
  },
  {
   "cell_type": "code",
   "execution_count": null,
   "id": "e2383da1",
   "metadata": {},
   "outputs": [],
   "source": [
    "for mname, MP in zip(model_names, model_posterior):\n",
    "    fig_freq = posterior_frequencies_by_country(MP, ps, alphas, color_map);\n",
    "    fig_case_R = posterior_cases_R_by_country(MP, ps, alphas, color_map);\n",
    "    fig_case_r = posterior_cases_epidemic_gr_by_country(MP, gen, ps, alphas, color_map);\n",
    "    \n",
    "    # Export figures\n",
    "    fig_freq.savefig(f\"{path_fig}/{data_name}_frequency-estimates-{mname}.png\", facecolor=\"w\", bbox_inches='tight')\n",
    "    fig_case_R.savefig(f\"{path_fig}/{data_name}_cases-R-estimates-{mname}.png\", facecolor=\"w\", bbox_inches='tight')\n",
    "    fig_case_r.savefig(f\"{path_fig}/{data_name}_cases-little-r-estimates-{mname}.png\", facecolor=\"w\", bbox_inches='tight')"
   ]
  },
  {
   "cell_type": "markdown",
   "id": "3bb84938",
   "metadata": {},
   "source": [
    "# Growth advantages by variant by country"
   ]
  },
  {
   "cell_type": "code",
   "execution_count": null,
   "id": "17b613d0",
   "metadata": {},
   "outputs": [],
   "source": [
    "ga_df = pd.read_csv(f\"{path_base}/{data_name}_ga-combined-fixed.tsv\", sep = \"\\t\")"
   ]
  },
  {
   "cell_type": "code",
   "execution_count": null,
   "id": "624691e9",
   "metadata": {},
   "outputs": [],
   "source": [
    "def figure_growth_advantage(ga_df, ps, alphas, color_map):\n",
    "    fig = plt.figure(figsize=(28, 20))\n",
    "  \n",
    "    variants = pd.unique(ga_df.variant)\n",
    "    colors = [color_map[v] for v in variants]\n",
    "    locations = pd.unique(ga_df.location)\n",
    "    location_map = {l: i for i, l in enumerate(locations)}\n",
    "\n",
    "    \n",
    "    # Sort level of confidence  \n",
    "    _lw = [1.5, 2.5, 3.5]\n",
    "    \n",
    "    # Top panel\n",
    "    ax1 = fig.add_subplot(2,1,2)\n",
    "    ax1.axhline(y=1, lw=2,linestyle='dashed', color=\"k\")\n",
    "\n",
    "    for v, var in enumerate(variants):\n",
    "        this_lineage = ga_df[ga_df.variant == var]\n",
    "        location_num = this_lineage[\"location\"].map(location_map)\n",
    "        ax1.scatter(location_num, this_lineage.median_ga.values, \n",
    "                    color=colors[v],\n",
    "                    edgecolors=\"k\",\n",
    "                    s = 80,\n",
    "                    zorder = 3)\n",
    "        \n",
    "        # Plot error bars for each level of credibility\n",
    "        for i, p in enumerate(ps):\n",
    "            _p = int(p * 100)\n",
    "            l_err = this_lineage.median_ga.values - this_lineage[f\"ga_lower_{_p}\"].values\n",
    "            r_err = this_lineage[f\"ga_upper_{_p}\"].values - this_lineage.median_ga.values \n",
    "            ax1.errorbar(location_num, this_lineage.median_ga.values, \n",
    "                         yerr=[l_err, r_err], \n",
    "                          fmt = 'none',\n",
    "                         color = colors[v], elinewidth = _lw[i])\n",
    "        \n",
    "    \n",
    "    # Adding state labels\n",
    "    ax1.set_xticks(np.arange(0, len(locations), 1))\n",
    "    ax1.set_xticklabels([l.replace(\"_\", \" \") for l in locations],  rotation =90)\n",
    "    \n",
    "    # Adding axis label\n",
    "    ax1.set_ylabel(\"Growth Advantage\")\n",
    "    \n",
    "    return fig"
   ]
  },
  {
   "cell_type": "code",
   "execution_count": null,
   "id": "b8340ab1",
   "metadata": {},
   "outputs": [],
   "source": [
    "figure_growth_advantage(ga_df, ps, alphas, color_map);"
   ]
  }
 ],
 "metadata": {
  "kernelspec": {
   "display_name": "Python 3 (ipykernel)",
   "language": "python",
   "name": "python3"
  },
  "language_info": {
   "codemirror_mode": {
    "name": "ipython",
    "version": 3
   },
   "file_extension": ".py",
   "mimetype": "text/x-python",
   "name": "python",
   "nbconvert_exporter": "python",
   "pygments_lexer": "ipython3",
   "version": "3.9.9"
  }
 },
 "nbformat": 4,
 "nbformat_minor": 5
}
