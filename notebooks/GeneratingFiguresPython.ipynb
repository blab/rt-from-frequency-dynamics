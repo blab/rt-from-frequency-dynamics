{
 "cells": [
  {
   "cell_type": "code",
   "execution_count": null,
   "id": "fewer-reporter",
   "metadata": {},
   "outputs": [],
   "source": [
    "import pandas as pd\n",
    "import matplotlib.pyplot as plt\n",
    "import numpy as np\n",
    "import numpyro\n",
    "from jax import random\n",
    "plt.rcParams[\"figure.figsize\"] = (10,8)"
   ]
  },
  {
   "cell_type": "code",
   "execution_count": null,
   "id": "sophisticated-japanese",
   "metadata": {},
   "outputs": [],
   "source": [
    "import rt_from_frequency_dynamics as rf"
   ]
  },
  {
   "cell_type": "markdown",
   "id": "b3990ebe",
   "metadata": {},
   "source": [
    "# Load data"
   ]
  },
  {
   "cell_type": "code",
   "execution_count": null,
   "id": "color-brass",
   "metadata": {},
   "outputs": [],
   "source": [
    "data_name = \"variants-us\"\n",
    "raw_cases = pd.read_csv(f\"../data/{data_name}/{data_name}_location-case-counts.tsv\", sep=\"\\t\")\n",
    "raw_seq = pd.read_csv(f\"../data/{data_name}/{data_name}_location-variant-sequence-counts.tsv\", sep=\"\\t\")"
   ]
  },
  {
   "cell_type": "markdown",
   "id": "acting-hawaii",
   "metadata": {},
   "source": [
    "# Load US States (SVI)"
   ]
  },
  {
   "cell_type": "code",
   "execution_count": null,
   "id": "exciting-organic",
   "metadata": {},
   "outputs": [],
   "source": [
    "locations =  [\"Washington\", \"California\", \"New York\", \"Michigan\", \"Florida\"]\n",
    "optimizer = numpyro.optim.Adam(step_size=1e-3)\n",
    "num_samples = 3000"
   ]
  },
  {
   "cell_type": "code",
   "execution_count": null,
   "id": "ef1f671d",
   "metadata": {},
   "outputs": [],
   "source": [
    "seed_L = 14\n",
    "forecast_L = 0\n",
    "\n",
    "# Get delays\n",
    "v_names = ['Alpha', 'Beta', 'Delta', 'Epsilon', 'Gamma', 'Iota', 'Mu', 'Omicron', 'other']\n",
    "\n",
    "gen = rf.pad_delays(\n",
    "    [rf.discretise_gamma(mn=4.4, std=1.2), # Alpha\n",
    "     rf.discretise_gamma(mn=4.4, std=1.2), # Beta\n",
    "     rf.discretise_gamma(mn=4.4, std=1.2), # Delta\n",
    "     rf.discretise_gamma(mn=4.4, std=1.2), # Epsilon\n",
    "     rf.discretise_gamma(mn=4.4, std=1.2), # Gamma\n",
    "     rf.discretise_gamma(mn=4.4, std=1.2), # Iota\n",
    "     rf.discretise_gamma(mn=4.4, std=1.2), # Mu\n",
    "     rf.discretise_gamma(mn=3.1, std=1.2), # Omicron\n",
    "     rf.discretise_gamma(mn=4.4, std=1.2)] # Other\n",
    "    )\n",
    "\n",
    "delays = rf.pad_delays([rf.discretise_lognorm(mn=3.1, std=1.0)])\n",
    "\n",
    "k = 25 # Number of spline basis elements\n",
    "\n",
    "# Pick likelihoods\n",
    "## R Likelihoods\n",
    "GARW = rf.GARW(0.05, 0.05)\n",
    "FreeGrowth = rf.FreeGrowth()\n",
    "FGA = rf.FixedGA()\n",
    "\n",
    "CLik = rf.ZINegBinomCases(0.02) # Case likelihood\n",
    "SLik = rf.DirMultinomialSeq(100) # Sequence count likelihood\n",
    "\n",
    "LM_fixed = rf.RenewalModel(gen, delays, seed_L, forecast_L, k=k, RLik = FGA, CLik = CLik, SLik = SLik,  v_names = v_names)\n",
    "LM_GARW = rf.RenewalModel(gen, delays, seed_L, forecast_L, k=k, RLik = GARW, CLik = CLik, SLik = SLik,  v_names = v_names)"
   ]
  },
  {
   "cell_type": "code",
   "execution_count": null,
   "id": "b3ca7c77",
   "metadata": {},
   "outputs": [],
   "source": [
    "# Loading past results\n",
    "def load_models(rc, rs, locations, RM, path=\".\", num_samples=1000):\n",
    "    MP = rf.MultiPosterior()\n",
    "    for i, loc in enumerate(locations):\n",
    "        LD = rf.get_location_VariantData(rc, rs, loc)\n",
    "        PH = rf.sample_loaded_posterior(LD, RM, num_samples=num_samples, path=path, name=loc)   \n",
    "        MP.add_posterior(PH)\n",
    "        print(f\"Location {loc} finished {i+1} / {len(locations)}\")\n",
    "    return MP"
   ]
  },
  {
   "cell_type": "code",
   "execution_count": null,
   "id": "3b6c1e2f",
   "metadata": {},
   "outputs": [],
   "source": [
    "path_base = f\"../estimates/{data_name}\"\n",
    "\n",
    "path_free = path_base + \"/free\"\n",
    "path_fixed = path_base + \"/fixed\"\n",
    "path_GARW = path_base + \"/GARW\""
   ]
  },
  {
   "cell_type": "code",
   "execution_count": null,
   "id": "0f412a58",
   "metadata": {},
   "outputs": [],
   "source": [
    "#MP_free = load_models(raw_cases, raw_seq, locations, rf.FreeGrowthModel, path=path_free, num_samples=1000)"
   ]
  },
  {
   "cell_type": "code",
   "execution_count": null,
   "id": "0255306c",
   "metadata": {},
   "outputs": [],
   "source": [
    "MP_fixed = load_models(raw_cases, raw_seq, locations, LM_fixed, path=path_fixed, num_samples=1000)"
   ]
  },
  {
   "cell_type": "code",
   "execution_count": null,
   "id": "57deab07",
   "metadata": {},
   "outputs": [],
   "source": [
    "MP_GARW = load_models(raw_cases, raw_seq, locations, LM_GARW, path=path_GARW, num_samples=1500)"
   ]
  },
  {
   "cell_type": "markdown",
   "id": "937bf672",
   "metadata": {},
   "source": [
    "## Making plots"
   ]
  },
  {
   "cell_type": "code",
   "execution_count": null,
   "id": "understood-lesson",
   "metadata": {},
   "outputs": [],
   "source": [
    "import matplotlib\n",
    "import matplotlib.transforms as mtransforms\n",
    "\n",
    "font = {'family' : 'Helvetica',\n",
    "        'weight' : 'light',\n",
    "        'size'   : 32}\n",
    "\n",
    "matplotlib.rc('font', **font)"
   ]
  },
  {
   "cell_type": "code",
   "execution_count": null,
   "id": "4ac219f0",
   "metadata": {},
   "outputs": [],
   "source": [
    "from rt_from_frequency_dynamics.plotfunctions import *\n",
    "ps = DefaultAes.ps\n",
    "alphas = DefaultAes.alphas\n",
    "v_colors =[\"#2e5eaa\", \"#5adbff\",  \"#56e39f\",\"#b4c5e4\", \"#f03a47\",  \"#f5bb00\", \"#9e4244\",\"#9932CC\", \"#808080\"] \n",
    "v_names = ['Alpha', 'Beta', 'Delta', 'Epsilon', 'Gamma', 'Iota', 'Mu', 'Omicron', 'other']\n",
    "color_map = {v : c for c, v in zip(v_colors, v_names)}"
   ]
  },
  {
   "cell_type": "code",
   "execution_count": null,
   "id": "dying-channel",
   "metadata": {},
   "outputs": [],
   "source": [
    "def unpack_model(MP, loc):\n",
    "    posterior = MP.get(loc)\n",
    "    return posterior.dataset, posterior.data"
   ]
  },
  {
   "cell_type": "markdown",
   "id": "582e5edc",
   "metadata": {},
   "source": [
    "## Plotting free Rt"
   ]
  },
  {
   "cell_type": "code",
   "execution_count": null,
   "id": "improved-formation",
   "metadata": {},
   "outputs": [],
   "source": [
    "\n",
    "def figure_free_rt(dataset, LD, ps, alphas, colors):\n",
    "    fig = plt.figure(figsize=(30, 24))\n",
    "    gs = fig.add_gridspec(nrows=4, ncols=6, height_ratios=[2.,1.5, 1.0,1.0])\n",
    "    single_color = \"#3A3B3C\"\n",
    "    # Top left\n",
    "    ax1 = fig.add_subplot(gs[0, :3])\n",
    "    rf.plot_cases(ax1, LD)\n",
    "    rf.plot_posterior_smooth_EC(ax1, dataset, ps, alphas, single_color)\n",
    "    ax1.set_ylabel(\"Posterior smoothed cases\") \n",
    "    \n",
    "    # Top right\n",
    "    ax2 = fig.add_subplot(gs[0, 3:], sharey=ax1)\n",
    "    rf.plot_cases(ax2, LD)\n",
    "    rf.plot_posterior_I(ax2, dataset, ps, alphas, colors)\n",
    "    plt.setp(ax2.get_yticklabels(), visible=False)\n",
    "\n",
    "    # middle left\n",
    "    ax3 = fig.add_subplot(gs[1,:3], sharex=ax1)\n",
    "    rf.plot_posterior_average_R(ax3, dataset, ps, alphas, single_color)\n",
    "    rf.add_dates(ax3, LD.dates)\n",
    "    ax3.set_ylabel(r\"$R_{t}$\") \n",
    "\n",
    "    \n",
    "    # middle right\n",
    "    ax4 = fig.add_subplot(gs[1, 3:], sharex=ax2, sharey=ax3)\n",
    "    rf.plot_R_censored(ax4, dataset, ps, alphas, colors, thres=0.001)\n",
    "    rf.add_dates(ax4, LD.dates)\n",
    "    plt.setp(ax4.get_yticklabels(), visible=False)\n",
    "\n",
    "    #  Bottom left\n",
    "    ax5a = fig.add_subplot(gs[2, 0:2])\n",
    "    rf.plot_total_by_obs_frequency(ax5a, LD, LD.seq_counts.sum(axis=1), colors)\n",
    "\n",
    "    ax5b = fig.add_subplot(gs[3, 0:2], sharex=ax5a)\n",
    "    rf.plot_total_by_obs_frequency(ax5b, LD, jnp.full(LD.cases.shape[-1], fill_value=1), colors)\n",
    "    rf.add_dates(ax5b, LD.dates, sep=2)\n",
    "\n",
    "    # Bottom middle\n",
    "    ax6 = fig.add_subplot(gs[2:, 2:4])\n",
    "    rf.plot_posterior_frequency(ax6, dataset, ps, alphas, colors)\n",
    "    rf.plot_observed_frequency_size(ax6, LD, colors, lambda n: 2.5*jnp.sqrt(n))\n",
    "    rf.add_dates(ax6, LD.dates, sep=2)\n",
    "    ax6.set_ylabel(\"Posterior variant frequencies\")\n",
    "    \n",
    "    # Bottom right\n",
    "    ax7 = fig.add_subplot(gs[2:, 4:6], sharey=ax1)\n",
    "    rf.plot_total_by_median_frequency(ax7, dataset, LD, LD.cases, colors)\n",
    "    rf.add_dates(ax7, LD.dates, sep=2)\n",
    "    ax7.set_ylabel(\"Median variant cases\") \n",
    " \n",
    "    # Add labels\n",
    "    axs = [ax1, ax2, ax5a]\n",
    "    labels = [\"(a)\", \"(b)\", \"(c)\"]\n",
    "    \n",
    "    for label, ax in zip(labels, axs):\n",
    "        trans = mtransforms.ScaledTranslation(-42/72, 14/72, fig.dpi_scale_trans)\n",
    "        ax.text(0.0, 1.0, label, transform=ax.transAxes + trans,\n",
    "            fontsize='large', va='bottom', fontfamily='serif')\n",
    "            \n",
    "    # Putting down color legend\n",
    "    patches = [matplotlib.patches.Patch(color=c, label=l) for l, c in zip(LD.seq_names, colors)]\n",
    "    legend = fig.legend(patches, LD.seq_names, ncol=len(LD.seq_names), loc=\"lower center\")  \n",
    "    legend.get_frame().set_linewidth(2.)\n",
    "    legend.get_frame().set_edgecolor(\"k\")\n",
    "    fig.tight_layout()\n",
    "    fig.subplots_adjust(bottom = 0.1) \n",
    "    return fig"
   ]
  },
  {
   "cell_type": "code",
   "execution_count": null,
   "id": "reported-liability",
   "metadata": {},
   "outputs": [],
   "source": [
    "dataset, LD = unpack_model(MP_GARW, \"Washington\")\n",
    "colors = [color_map[v] for v in LD.seq_names]"
   ]
  },
  {
   "cell_type": "code",
   "execution_count": null,
   "id": "split-arthur",
   "metadata": {},
   "outputs": [],
   "source": [
    "fig_1 = figure_free_rt(dataset, LD, ps, alphas, colors)"
   ]
  },
  {
   "cell_type": "code",
   "execution_count": null,
   "id": "6b92d923",
   "metadata": {},
   "outputs": [],
   "source": [
    "fig_free_rt_locs = [\"Washington\", \"California\", \"New York\", \"Michigan\", \"Florida\"]"
   ]
  },
  {
   "cell_type": "code",
   "execution_count": null,
   "id": "fd0e24b0",
   "metadata": {},
   "outputs": [],
   "source": [
    "for loc in fig_free_rt_locs:\n",
    "    dataset, LD = unpack_model(MP_GARW, loc)\n",
    "    colors = [color_map[v] for v in LD.seq_names]\n",
    "    fig_fg_loc = figure_free_rt(dataset, LD, ps, alphas, colors)\n",
    "    _loc = loc.replace(\" \", \"-\")\n",
    "    fig_fg_loc.savefig(f\"../manuscript/figs/GARW_rt_{_loc}.png\", facecolor=\"w\", bbox_inches='tight')"
   ]
  },
  {
   "cell_type": "markdown",
   "id": "ed1b96ba",
   "metadata": {},
   "source": [
    "## Plotting growth advantage"
   ]
  },
  {
   "cell_type": "code",
   "execution_count": null,
   "id": "exciting-builder",
   "metadata": {},
   "outputs": [],
   "source": [
    "def figure_fixed_growth(dataset, LD, ps, alphas, colors):\n",
    "    # Figure 2\n",
    "    fig = plt.figure(figsize=(30, 20))\n",
    "    gs = fig.add_gridspec(nrows=4, ncols=2) #, height_ratios=[2.,1.5, 1.0,1.0])\n",
    "    single_color = \"#3A3B3C\"\n",
    "\n",
    "    # Top left\n",
    "    ax1 = fig.add_subplot(gs[:2,0])\n",
    "    plot_cases(ax1, LD)\n",
    "    plot_posterior_smooth_EC(ax1, dataset, ps, alphas, single_color)\n",
    "    ax1.set_ylabel(\"Posterior smoothed cases\")\n",
    "    \n",
    "    # Top right\n",
    "    ax2 = fig.add_subplot(gs[:2,1], sharey=ax1)\n",
    "    plot_cases(ax2, LD)\n",
    "    plot_posterior_I(ax2, dataset, ps, alphas, colors)\n",
    "    plt.setp(ax2.get_yticklabels(), visible=False)\n",
    "\n",
    "    # Bottom left\n",
    "    ax3 = fig.add_subplot(gs[2:,0], sharex=ax1)\n",
    "    plot_posterior_frequency(ax3, dataset, ps, alphas, colors)\n",
    "    plot_observed_frequency_size(ax3, LD, colors, lambda n: 2.5*jnp.sqrt(n))\n",
    "    add_dates(ax3, LD.dates)\n",
    "    ax3.set_ylabel(\"Posterior lineage frequencies\")\n",
    "\n",
    "    # Bottom right 1\n",
    "    ax4 = fig.add_subplot(gs[2,1], sharex=ax2)\n",
    "    plot_R_censored(ax4, dataset, ps, alphas, colors, thres=0.005)\n",
    "    add_dates(ax4, LD.dates)\n",
    "    ax4.set_ylabel(r\"$R_{t}$\")\n",
    "\n",
    "    # Bottom right 1\n",
    "    ax5 = fig.add_subplot(gs[3,1])\n",
    "    plot_growth_advantage(ax5, dataset, LD, ps, alphas, colors)\n",
    "    ax5.set_ylabel(\"Growth Advantage\")\n",
    "\n",
    "    axs = [ax1, ax2, ax3, ax4, ax5]\n",
    "    labels = [\"(a)\", \"(b)\", \"(c)\", \"(d)\", \"(e)\"]\n",
    "    \n",
    "    for label, ax in zip(labels, axs):\n",
    "        trans = mtransforms.ScaledTranslation(-32/72, 8/72, fig.dpi_scale_trans)\n",
    "        ax.text(0.0, 1.0, label, transform=ax.transAxes + trans,\n",
    "            fontsize='large', va='bottom', fontfamily='serif')\n",
    "    plt.tight_layout()\n",
    "    \n",
    "    # Putting down color legend\n",
    "    patches = [matplotlib.patches.Patch(color=c, label=l) for l, c in zip(LD.seq_names, colors)]\n",
    "    legend = fig.legend(patches, LD.seq_names, ncol=len(LD.seq_names), loc=\"lower center\")  \n",
    "    legend.get_frame().set_linewidth(2.)\n",
    "    legend.get_frame().set_edgecolor(\"k\")\n",
    "    fig.tight_layout()\n",
    "    fig.subplots_adjust(bottom = 0.1) \n",
    "    return fig"
   ]
  },
  {
   "cell_type": "code",
   "execution_count": null,
   "id": "recent-credits",
   "metadata": {},
   "outputs": [],
   "source": [
    "dataset, LD = unpack_model(MP_fixed, \"Washington\")\n",
    "colors = [color_map[v] for v in LD.seq_names]\n",
    "fig_2 = figure_fixed_growth(dataset, LD, ps, alphas, colors)"
   ]
  },
  {
   "cell_type": "code",
   "execution_count": null,
   "id": "martial-coordinator",
   "metadata": {},
   "outputs": [],
   "source": [
    "fig_fixed_growth_locs = [\"Washington\", \"California\", \"New York\", \"Michigan\", \"Florida\"]"
   ]
  },
  {
   "cell_type": "code",
   "execution_count": null,
   "id": "still-creature",
   "metadata": {},
   "outputs": [],
   "source": [
    "for loc in fig_fixed_growth_locs:\n",
    "    dataset, LD = unpack_model(MP_fixed, loc)\n",
    "    colors = [color_map[v] for v in LD.seq_names]\n",
    "    fig_fg_loc = figure_fixed_growth(dataset, LD, ps, alphas, colors)\n",
    "    fig_fg_loc.savefig(f\"../manuscript/figs/fixed_growth_{loc}.png\", facecolor=\"w\", bbox_inches='tight')"
   ]
  },
  {
   "cell_type": "markdown",
   "id": "macro-compression",
   "metadata": {},
   "source": [
    "## Figure: Growth advantages"
   ]
  },
  {
   "cell_type": "code",
   "execution_count": null,
   "id": "chubby-salmon",
   "metadata": {},
   "outputs": [],
   "source": [
    "ga_df = pd.read_csv(f\"{path_base}/{data_name}_ga-combined-fixed.tsv\", sep = \"\\t\")"
   ]
  },
  {
   "cell_type": "code",
   "execution_count": null,
   "id": "naked-korean",
   "metadata": {},
   "outputs": [],
   "source": [
    "def figure_growth_advantage(ga_df, ps, alphas, colors):\n",
    "    fig = plt.figure(figsize=(28, 20))\n",
    "  \n",
    "    variants = pd.unique(ga_df.variant)\n",
    "    locations = pd.unique(ga_df.location)\n",
    "    location_map = {l: i for i, l in enumerate(locations)}\n",
    "\n",
    "    \n",
    "    # Sort level of confidence  \n",
    "    _lw = [1.5, 2.5, 3.5]\n",
    "    \n",
    "    # Top panel\n",
    "    ax1 = fig.add_subplot(2,1,2)\n",
    "    ax1.axhline(y=1, lw=2,linestyle='dashed', color=\"k\")\n",
    "\n",
    "    for v, var in enumerate(variants):\n",
    "        this_lineage = ga_df[ga_df.variant == var]\n",
    "        location_num = this_lineage[\"location\"].map(location_map)\n",
    "        ax1.scatter(location_num, this_lineage.median_ga.values, \n",
    "                    color=colors[v],\n",
    "                    edgecolors=\"k\",\n",
    "                    s = 45,\n",
    "                    zorder = 3)\n",
    "        \n",
    "        # Plot error bars for each level of credibility\n",
    "        for i, p in enumerate(ps):\n",
    "            _p = int(p * 100)\n",
    "            l_err = this_lineage.median_ga.values - this_lineage[f\"ga_lower_{_p}\"].values\n",
    "            r_err = this_lineage[f\"ga_upper_{_p}\"].values - this_lineage.median_ga.values \n",
    "            ax1.errorbar(location_num, this_lineage.median_ga.values, \n",
    "                         yerr=[l_err, r_err], \n",
    "                          fmt = 'none',\n",
    "                         color = colors[v], elinewidth = _lw[i])\n",
    "        \n",
    "    \n",
    "    # Adding state labels\n",
    "    ax1.set_xticks(np.arange(0, len(locations), 1))\n",
    "    ax1.set_xticklabels([l.replace(\"_\", \" \") for l in locations],  rotation =90)\n",
    "    \n",
    "    # Adding axis label\n",
    "    ax1.set_ylabel(\"Growth Advantage\")\n",
    "    \n",
    "    # Right plot\n",
    "    ax2 = fig.add_subplot(2,1,1)\n",
    "    ax2.axhline(y=1, lw=2, linestyle='dashed', color=\"k\")\n",
    "\n",
    "    violin_data = [ga_df[ga_df.variant == v].median_ga.values for v in variants]\n",
    "    parts = ax2.violinplot(violin_data, \n",
    "                           showmeans=False, \n",
    "                           showmedians=False, \n",
    "                           showextrema=False)\n",
    "    \n",
    "    for i, pc in enumerate(parts[\"bodies\"]):\n",
    "        pc.set_facecolor(colors[i])\n",
    "        pc.set_edgecolor('black')\n",
    "        pc.set_alpha(1)\n",
    "    \n",
    "    for v, var in enumerate(variants):\n",
    "        this_lineage = ga_df[ga_df.variant == var]\n",
    "        ax2.scatter([v+1 + np.random.normal(0, 0.02, 1) for i in range(len(this_lineage))],\n",
    "                    this_lineage.median_ga.values, \n",
    "                    color=colors[v],\n",
    "                    edgecolors=\"k\",\n",
    "                    s = 45,\n",
    "                    zorder = 3) \n",
    "    \n",
    "    ax2.set_ylabel(\"Median Growth Advantage\")\n",
    "    ax2.set_xticks(np.arange(1, len(variants)+1, 1))\n",
    "    ax2.set_xticklabels(variants)\n",
    "    \n",
    "    axs = [ax2, ax1]\n",
    "    labels = [\"(a)\", \"(b)\"]\n",
    "    \n",
    "    for label, ax in zip(labels, axs):\n",
    "        trans = mtransforms.ScaledTranslation(-32/72, 8/72, fig.dpi_scale_trans)\n",
    "        ax.text(0.0, 1.0, label, transform=ax.transAxes + trans,\n",
    "            fontsize='large', va='bottom', fontfamily='serif')\n",
    "        \n",
    "    return fig"
   ]
  },
  {
   "cell_type": "code",
   "execution_count": null,
   "id": "f5215972",
   "metadata": {},
   "outputs": [],
   "source": [
    "colors = [color_map[v] for v in pd.unique(ga_df.variant)]"
   ]
  },
  {
   "cell_type": "code",
   "execution_count": null,
   "id": "assisted-jerusalem",
   "metadata": {},
   "outputs": [],
   "source": [
    "fig_3 = figure_growth_advantage(ga_df, ps, alphas, colors)"
   ]
  },
  {
   "cell_type": "code",
   "execution_count": null,
   "id": "appreciated-service",
   "metadata": {},
   "outputs": [],
   "source": [
    " fig_3.savefig(\"../manuscript/figs/growth_advantages.png\", facecolor=\"w\", bbox_inches='tight')"
   ]
  },
  {
   "cell_type": "markdown",
   "id": "dd49f5fb",
   "metadata": {},
   "source": [
    "## Figure: Rt consensus"
   ]
  },
  {
   "cell_type": "code",
   "execution_count": null,
   "id": "raising-confusion",
   "metadata": {},
   "outputs": [],
   "source": [
    "rt_df_GARW = pd.read_csv(f\"{path_base}/{data_name}_Rt-combined-GARW.tsv\", sep=\"\\t\")"
   ]
  },
  {
   "cell_type": "code",
   "execution_count": null,
   "id": "settled-medication",
   "metadata": {},
   "outputs": [],
   "source": [
    "def figure_rt_consensus(rt_df, LD, ps, alphas, colors, thres = 0.001):\n",
    "    fig = plt.figure(figsize=(25, 15))\n",
    "    variants = pd.unique(rt_df.variant)\n",
    "    locations = pd.unique(rt_df.location)\n",
    "    dates = pd.unique(rt_df.date)\n",
    "    dates.sort()\n",
    "    dates_map = {d : i for i, d in enumerate(dates)}\n",
    "    \n",
    "    n_rows = 3\n",
    "    if len(variants) % n_rows == 0:\n",
    "        n_cols = len(variants) // n_rows\n",
    "    else:\n",
    "        n_cols = 1 +  len(variants) // n_rows\n",
    "    \n",
    "    ax_list = []\n",
    "    \n",
    "    for v, var in enumerate(variants):\n",
    "        if v == 0:\n",
    "            ax = fig.add_subplot(n_rows,n_cols, v+1)\n",
    "        else:\n",
    "            ax = fig.add_subplot(n_rows,n_cols, v+1, sharey = ax_list[0])\n",
    "            \n",
    "        ax.axhline(y=1, lw=2, linestyle='dashed', color=\"k\")    \n",
    "        this_variant = rt_df[rt_df.variant == var].copy()\n",
    "        \n",
    "        for l, loc in enumerate(locations):\n",
    "            this_loc = this_variant[this_variant.location == loc].copy()\n",
    "            included = np.array(this_loc.median_freq.values >= thres)\n",
    "            dates_num = this_loc[\"date\"].map(dates_map)\n",
    "\n",
    "            m = this_loc[\"median_R\"].values\n",
    "            ax.plot(dates_num[included], m[included], color = 'k', alpha = 0.1)\n",
    "                        \n",
    "            # Plot bands for each level of credibility\n",
    "            for i, p in enumerate(ps):\n",
    "                _p = int(p * 100)\n",
    "                l = this_loc[f\"R_lower_{_p}\"].values\n",
    "                r = this_loc[f\"R_upper_{_p}\"].values\n",
    "                ax.fill_between(dates_num[included], l[included], r[included], \n",
    "                               color = colors[v], alpha=alphas[i])    \n",
    "        \n",
    "        # Add dates\n",
    "        add_dates(ax, LD.dates, sep=2)\n",
    "        \n",
    "        if v % n_cols != 0:\n",
    "            plt.setp(ax.get_yticklabels(), visible=False)\n",
    "        else: \n",
    "            ax.set_ylabel(\"Effective Reproduction Number\")\n",
    "\n",
    "        ax.set_title(var)\n",
    "        ax.set_ylim(0.0, 5.0)\n",
    "        # Add to list\n",
    "        ax_list.append(ax)\n",
    "        plt.tight_layout()\n",
    "        \n",
    "    return fig"
   ]
  },
  {
   "cell_type": "code",
   "execution_count": null,
   "id": "enabling-enough",
   "metadata": {},
   "outputs": [],
   "source": [
    "colors = [color_map[v] for v in pd.unique(rt_df_free.variant)]\n",
    "fig_4 = figure_rt_consensus(rt_df_GARW, LD, ps, alphas, colors, thres = 0.01)"
   ]
  },
  {
   "cell_type": "code",
   "execution_count": null,
   "id": "described-investor",
   "metadata": {},
   "outputs": [],
   "source": [
    "fig_4.savefig(\"../manuscript/figs/rt_consensus.png\", facecolor=\"w\", bbox_inches='tight')"
   ]
  },
  {
   "cell_type": "markdown",
   "id": "e0275685",
   "metadata": {},
   "source": [
    "## Figure: generation_time_sensitivity"
   ]
  },
  {
   "cell_type": "code",
   "execution_count": null,
   "id": "d0210854",
   "metadata": {},
   "outputs": [],
   "source": [
    "rt_sens_m = pd.read_csv(\"../estimates/variants-us-sensitivity-means/variants-us-sensitivity-means_Rt-combined-free.tsv\", sep = \"\\t\")\n",
    "rt_sense_sd = pd.read_csv(\"../estimates/variants-us-sensitivity-sd/variants-us-sensitivity-sd_Rt-combined-free.tsv\", sep=\"\\t\")"
   ]
  },
  {
   "cell_type": "code",
   "execution_count": null,
   "id": "83b1988d",
   "metadata": {},
   "outputs": [],
   "source": [
    "def figure_gen_sens(r_m, r_s, ps, alphas, colors):\n",
    "    # Sort level of confidence  \n",
    "    _lw = [3, 5, 7]\n",
    "    \n",
    "    ms_raw = pd.unique(r_m.location)\n",
    "    ms = [float(m.replace(\"g_mean_\", \"\")) for m in ms_raw]\n",
    "    \n",
    "    sds_raw = pd.unique(r_s.location)\n",
    "    sds = [float(s.replace(\"g_sd_\", \"\")) for s in sds_raw]\n",
    "    \n",
    "    ms_map = {n:m for n,m in zip(ms_raw, ms)}\n",
    "    sds_map = {n:s for n,s in zip(sds_raw, sds)}\n",
    "    \n",
    "    \n",
    "    # Set plot color\n",
    "    variant = \"Delta\"\n",
    "    variants = pd.unique(rt_sens_m.variant)\n",
    "    for i,v in enumerate(variants):\n",
    "        if v == variant:\n",
    "            color = colors[i]\n",
    "    \n",
    "    # Simplify likelihood to given data\n",
    "    date = \"2021-07-01\"\n",
    "    this_variant_m = r_m[r_m.variant == variant].copy()\n",
    "    this_variant_m = this_variant_m[this_variant_m.date == date]\n",
    "    \n",
    "    this_variant_s = r_s[r_s.variant == variant].copy()\n",
    "    this_variant_s = this_variant_s[this_variant_s.date == date]\n",
    "    \n",
    "    # Making figure\n",
    "    fig = plt.figure(figsize=(28, 14))\n",
    "    ax_m = fig.add_subplot(1,2,1)\n",
    "\n",
    "    # Plotting ms values\n",
    "    ms_values = [ms_map[m] for m in this_variant_m.location.values]\n",
    "    ax_m.scatter(ms_values, \n",
    "                 this_variant_m.median_R.values, \n",
    "                 edgecolors=\"k\",\n",
    "                    s = 160,\n",
    "                    zorder = 3,\n",
    "                    color = color)\n",
    "    \n",
    "    for i, p in enumerate(ps):\n",
    "        _p = int(p * 100)\n",
    "        l_err = this_variant_m.median_R.values - this_variant_m[f\"R_lower_{_p}\"].values\n",
    "        r_err = this_variant_m[f\"R_upper_{_p}\"].values - this_variant_m.median_R.values \n",
    "        ax_m.errorbar(ms_values, this_variant_m.median_R.values, \n",
    "                         yerr=[l_err, r_err], \n",
    "                          fmt = 'none',\n",
    "                         color = color, \n",
    "                      elinewidth = _lw[i])\n",
    "    \n",
    "    ax_m.set_ylabel(f\"Effective Reproduction Number ({date})\")\n",
    "    ax_m.set_xlabel(f\"Mean of generation time\")\n",
    "    \n",
    "    ax_s = fig.add_subplot(1,2,2, sharey=ax_m)\n",
    "\n",
    "    # Plotting sd values\n",
    "    sd_values = [sds_map[m] for m in this_variant_s.location.values]\n",
    "    ax_s.scatter(sd_values, \n",
    "                 this_variant_s.median_R.values, \n",
    "                 edgecolors=\"k\",\n",
    "                    s = 160,\n",
    "                    zorder = 3,\n",
    "                    color = color)\n",
    "    \n",
    "    for i, p in enumerate(ps):\n",
    "        _p = int(p * 100)\n",
    "        l_err = this_variant_s.median_R.values - this_variant_s[f\"R_lower_{_p}\"].values\n",
    "        r_err = this_variant_s[f\"R_upper_{_p}\"].values - this_variant_s.median_R.values \n",
    "        ax_s.errorbar(sd_values, this_variant_s.median_R.values, \n",
    "                         yerr=[l_err, r_err], \n",
    "                          fmt = 'none',\n",
    "                         color = color, \n",
    "                      elinewidth = _lw[i])\n",
    "    \n",
    "    #ax_s.set_ylabel(f\"Effective Reproduction Number ({date})\")\n",
    "    ax_s.set_xlabel(f\"Standard deviation of generation time\")\n",
    "    \n",
    "    axs = [ax_m, ax_s]\n",
    "    labels = [\"(a)\", \"(b)\"]\n",
    "    \n",
    "    for label, ax in zip(labels, axs):\n",
    "        trans = mtransforms.ScaledTranslation(-72/72, 0/72, fig.dpi_scale_trans)\n",
    "        ax.text(0.0, 1.0, label, transform=ax.transAxes + trans,\n",
    "            fontsize='large', va='bottom', fontfamily='serif')\n",
    "        \n",
    "    return fig"
   ]
  },
  {
   "cell_type": "code",
   "execution_count": null,
   "id": "9d19b61a",
   "metadata": {},
   "outputs": [],
   "source": [
    "fig_5 = figure_gen_sens(rt_sens_m, rt_sense_sd, ps, alphas, lineage_colors)"
   ]
  },
  {
   "cell_type": "code",
   "execution_count": null,
   "id": "15f103a4",
   "metadata": {},
   "outputs": [],
   "source": [
    "fig_5.savefig(\"../manuscript/figs/generation_time_sensitivity.png\", facecolor=\"w\", bbox_inches='tight')"
   ]
  },
  {
   "cell_type": "markdown",
   "id": "e095fe29",
   "metadata": {},
   "source": [
    "## Figure: little_r_sensitivity"
   ]
  },
  {
   "cell_type": "code",
   "execution_count": null,
   "id": "63ac2104",
   "metadata": {},
   "outputs": [],
   "source": [
    "def R_gamma_to_sens(R, m, s):\n",
    "    g = discretise_gamma(m, s)\n",
    "    mn = np.sum([p * (x+1) for x, p in enumerate(g)]) # Get mean of discretized generation time\n",
    "    sd = np.sqrt(np.sum([p * (x+1) **2 for x, p in enumerate(g)])-mn**2) # Get sd of discretized generation time\n",
    "    e_ = sd**2 / mn**2\n",
    "    l = mn / (sd**2)\n",
    "    return (np.float_power(R, e_) - 1) * l"
   ]
  },
  {
   "cell_type": "code",
   "execution_count": null,
   "id": "4aa51b8c",
   "metadata": {},
   "outputs": [],
   "source": [
    "def figure_little_r_sens(r_m, r_s, ps, alphas, colors):\n",
    "    # Sort level of confidence  \n",
    "    _lw = [3, 5, 7]\n",
    "    \n",
    "    ms_raw = pd.unique(r_m.location)\n",
    "    ms = [float(m.replace(\"g_mean_\", \"\")) for m in ms_raw]\n",
    "    \n",
    "    sds_raw = pd.unique(r_s.location)\n",
    "    sds = [float(s.replace(\"g_sd_\", \"\")) for s in sds_raw]\n",
    "    \n",
    "    ms_map = {n:m for n,m in zip(ms_raw, ms)}\n",
    "    sds_map = {n:s for n,s in zip(sds_raw, sds)}\n",
    "    \n",
    "    \n",
    "    # Set plot color\n",
    "    variant = \"Delta\"\n",
    "    variants = pd.unique(rt_sens_m.variant)\n",
    "    for i,v in enumerate(variants):\n",
    "        if v == variant:\n",
    "            color = colors[i]\n",
    "    \n",
    "    # Simplify likelihood to given data\n",
    "    date = \"2021-07-01\"\n",
    "    this_variant_m = r_m[r_m.variant == variant].copy()\n",
    "    this_variant_m = this_variant_m[this_variant_m.date == date]\n",
    "    \n",
    "    this_variant_s = r_s[r_s.variant == variant].copy()\n",
    "    this_variant_s = this_variant_s[this_variant_s.date == date]\n",
    "    \n",
    "    # Making figure\n",
    "    fig = plt.figure(figsize=(28, 14))\n",
    "    ax_m = fig.add_subplot(1,2,1)\n",
    "\n",
    "    # Plotting ms values\n",
    "    ms_values = [ms_map[m] for m in this_variant_m.location.values]\n",
    "    med_r = np.array([R_gamma_to_sens(R, m, 1.72) for m,R in zip(ms_values, this_variant_m.median_R.values)])\n",
    "    \n",
    "    ax_m.scatter(ms_values, \n",
    "                 med_r, \n",
    "                 edgecolors=\"k\",\n",
    "                    s = 160,\n",
    "                    zorder = 3,\n",
    "                    color = color)\n",
    "    \n",
    "    for i, p in enumerate(ps):\n",
    "        _p = int(p * 100)\n",
    "        lr = np.array([R_gamma_to_sens(R, m, 1.72) for m,R in zip(ms_values, this_variant_m[f\"R_lower_{_p}\"].values)])\n",
    "        l_err = med_r - lr\n",
    "        \n",
    "        ur = np.array([R_gamma_to_sens(R, m, 1.72) for m,R in zip(ms_values, this_variant_m[f\"R_upper_{_p}\"].values)])\n",
    "        r_err = ur - med_r \n",
    "        ax_m.errorbar(ms_values, med_r, \n",
    "                         yerr=[l_err, r_err], \n",
    "                          fmt = 'none',\n",
    "                         color = color, \n",
    "                      elinewidth = _lw[i])\n",
    "    \n",
    "    ax_m.set_ylabel(f\"Exponential growth rate ({date})\")\n",
    "    ax_m.set_xlabel(f\"Mean of generation time\")\n",
    "    \n",
    "    ax_s = fig.add_subplot(1,2,2, sharey=ax_m)\n",
    "\n",
    "    # Plotting sd values\n",
    "    sd_values = [sds_map[m] for m in this_variant_s.location.values]\n",
    "    med_r = np.array([R_gamma_to_sens(R, 5.2, s) for s,R in zip(sd_values, this_variant_s.median_R.values)])\n",
    "\n",
    "    ax_s.scatter(sd_values, \n",
    "                 med_r, \n",
    "                 edgecolors=\"k\",\n",
    "                    s = 160,\n",
    "                    zorder = 3,\n",
    "                    color = color)\n",
    "    \n",
    "    for i, p in enumerate(ps):\n",
    "        _p = int(p * 100)\n",
    "        \n",
    "        lr = np.array([R_gamma_to_sens(R, 5.2, s) for s,R in zip(sd_values, this_variant_s[f\"R_lower_{_p}\"].values)])\n",
    "        l_err = med_r - lr\n",
    "        ur = np.array([R_gamma_to_sens(R, 5.2, s) for s,R in zip(sd_values, this_variant_s[f\"R_upper_{_p}\"].values)])\n",
    "\n",
    "        r_err = ur - med_r\n",
    "        ax_s.errorbar(sd_values, med_r, \n",
    "                         yerr=[l_err, r_err], \n",
    "                          fmt = 'none',\n",
    "                         color = color, \n",
    "                      elinewidth = _lw[i])\n",
    "    \n",
    "    ax_s.set_xlabel(f\"Standard deviation of generation time\")\n",
    "    \n",
    "    axs = [ax_m, ax_s]\n",
    "    labels = [\"(a)\", \"(b)\"]\n",
    "    \n",
    "    for label, ax in zip(labels, axs):\n",
    "        trans = mtransforms.ScaledTranslation(-72/72, 20/72, fig.dpi_scale_trans)\n",
    "        ax.text(0.0, 1.0, label, transform=ax.transAxes + trans,\n",
    "            fontsize='large', va='bottom', fontfamily='serif')\n",
    "        \n",
    "    return fig"
   ]
  },
  {
   "cell_type": "code",
   "execution_count": null,
   "id": "ad3560c0",
   "metadata": {},
   "outputs": [],
   "source": [
    "fig_6 = figure_little_r_sens(rt_sens_m, rt_sense_sd, ps, alphas, lineage_colors)"
   ]
  },
  {
   "cell_type": "code",
   "execution_count": null,
   "id": "153efa6e",
   "metadata": {},
   "outputs": [],
   "source": [
    "fig_6.savefig(\"../manuscript/figs/little_r_sensitivity.png\", facecolor=\"w\", bbox_inches='tight')"
   ]
  },
  {
   "cell_type": "markdown",
   "id": "0c217127",
   "metadata": {},
   "source": [
    "## Figure: growth_advantage_sensitivity"
   ]
  },
  {
   "cell_type": "code",
   "execution_count": null,
   "id": "12e10b9f",
   "metadata": {},
   "outputs": [],
   "source": [
    "ga_sens_m = pd.read_csv(\"../estimates/variants-us-sensitivity-means/variants-us-sensitivity-means_ga-combined-fixed.tsv\", sep = \"\\t\")\n",
    "ga_sense_sd = pd.read_csv(\"../estimates/variants-us-sensitivity-sd/variants-us-sensitivity-sd_ga-combined-fixed.tsv\", sep=\"\\t\")"
   ]
  },
  {
   "cell_type": "code",
   "execution_count": null,
   "id": "aaaf69cc",
   "metadata": {},
   "outputs": [],
   "source": [
    "def figure_ga_sens(r_m, r_s, ps, alphas, colors):\n",
    "    # Sort level of confidence  \n",
    "    _lw = [3, 5, 7]\n",
    "    \n",
    "    ms_raw = pd.unique(r_m.location)\n",
    "    ms = [float(m.replace(\"g_mean_\", \"\")) for m in ms_raw]\n",
    "    \n",
    "    sds_raw = pd.unique(r_s.location)\n",
    "    sds = [float(s.replace(\"g_sd_\", \"\")) for s in sds_raw]\n",
    "    \n",
    "    ms_map = {n:m for n,m in zip(ms_raw, ms)}\n",
    "    sds_map = {n:s for n,s in zip(sds_raw, sds)}\n",
    "    \n",
    "    \n",
    "    # Set plot color\n",
    "    variant = \"Delta\"\n",
    "    variants = pd.unique(rt_sens_m.variant)\n",
    "    for i,v in enumerate(variants):\n",
    "        if v == variant:\n",
    "            color = colors[i]\n",
    "    \n",
    "    # Simplify likelihood to given data\n",
    "    date = \"2021-07-01\"\n",
    "    this_variant_m = r_m[r_m.variant == variant].copy()    \n",
    "    this_variant_s = r_s[r_s.variant == variant].copy()\n",
    "    \n",
    "    # Making figure\n",
    "    fig = plt.figure(figsize=(28, 14))\n",
    "    ax_m = fig.add_subplot(1,2,1)\n",
    "\n",
    "    # Plotting ms values\n",
    "    ms_values = [ms_map[m] for m in this_variant_m.location.values]\n",
    "    ax_m.scatter(ms_values, \n",
    "                 this_variant_m.median_ga.values, \n",
    "                 edgecolors=\"k\",\n",
    "                    s = 160,\n",
    "                    zorder = 3,\n",
    "                    color = color)\n",
    "    \n",
    "    for i, p in enumerate(ps):\n",
    "        _p = int(p * 100)\n",
    "        l_err = this_variant_m.median_ga.values - this_variant_m[f\"ga_lower_{_p}\"].values\n",
    "        r_err = this_variant_m[f\"ga_upper_{_p}\"].values - this_variant_m.median_ga.values \n",
    "        ax_m.errorbar(ms_values, this_variant_m.median_ga.values, \n",
    "                         yerr=[l_err, r_err], \n",
    "                          fmt = 'none',\n",
    "                         color = color, \n",
    "                      elinewidth = _lw[i])\n",
    "    \n",
    "    ax_m.set_ylabel(f\"Growth advantage\")\n",
    "    ax_m.set_xlabel(f\"Mean of generation time\")\n",
    "    \n",
    "    ax_s = fig.add_subplot(1,2,2, sharey=ax_m)\n",
    "\n",
    "    # Plotting ms values\n",
    "    sd_values = [sds_map[m] for m in this_variant_s.location.values]\n",
    "    ax_s.scatter(sd_values, \n",
    "                 this_variant_s.median_ga.values, \n",
    "                 edgecolors=\"k\",\n",
    "                    s = 160,\n",
    "                    zorder = 3,\n",
    "                    color = color)\n",
    "    \n",
    "    for i, p in enumerate(ps):\n",
    "        _p = int(p * 100)\n",
    "        l_err = this_variant_s.median_ga.values - this_variant_s[f\"ga_lower_{_p}\"].values\n",
    "        r_err = this_variant_s[f\"ga_upper_{_p}\"].values - this_variant_s.median_ga.values \n",
    "        ax_s.errorbar(sd_values, this_variant_s.median_ga.values, \n",
    "                         yerr=[l_err, r_err], \n",
    "                          fmt = 'none',\n",
    "                         color = color, \n",
    "                      elinewidth = _lw[i])\n",
    "    \n",
    "    ax_s.set_xlabel(f\"Standard deviation of generation time\")\n",
    "    axs = [ax_m, ax_s]\n",
    "    labels = [\"(a)\", \"(b)\"]\n",
    "    \n",
    "    for label, ax in zip(labels, axs):\n",
    "        trans = mtransforms.ScaledTranslation(-72/72, 0/72, fig.dpi_scale_trans)\n",
    "        ax.text(0.0, 1.0, label, transform=ax.transAxes + trans,\n",
    "            fontsize='large', va='bottom', fontfamily='serif')\n",
    "        \n",
    "    return fig"
   ]
  },
  {
   "cell_type": "code",
   "execution_count": null,
   "id": "b2e76623",
   "metadata": {},
   "outputs": [],
   "source": [
    "fig_7 = figure_ga_sens(ga_sens_m, ga_sense_sd, ps, alphas, lineage_colors)"
   ]
  },
  {
   "cell_type": "code",
   "execution_count": null,
   "id": "da0a4cd3",
   "metadata": {},
   "outputs": [],
   "source": [
    "fig_7.savefig(\"../manuscript/figs/growth_advantage_sensitivity.png\", facecolor=\"w\", bbox_inches='tight')"
   ]
  },
  {
   "cell_type": "markdown",
   "id": "1fca37ee",
   "metadata": {},
   "source": [
    "## Fig: Relative Wave Sizes"
   ]
  },
  {
   "cell_type": "code",
   "execution_count": null,
   "id": "8cc9a819",
   "metadata": {},
   "outputs": [],
   "source": [
    "# Computing waves sizes\n",
    "\n",
    "I_GARW = pd.read_csv(f\"{path_base}/{data_name}_I-combined-GARW.tsv\", sep=\"\\t\")"
   ]
  },
  {
   "cell_type": "code",
   "execution_count": null,
   "id": "69893d24",
   "metadata": {},
   "outputs": [],
   "source": [
    "state_pop = pd.read_csv(\"../../../Downloads/state-population-sizes.tsv\", sep=\"\\t\", header=None)\n",
    "state_pop = state_pop.rename(columns={0: \"location\", 1: \"pop_size\"})"
   ]
  },
  {
   "cell_type": "code",
   "execution_count": null,
   "id": "68dcf273",
   "metadata": {},
   "outputs": [],
   "source": []
  },
  {
   "cell_type": "code",
   "execution_count": null,
   "id": "3d3fda3d",
   "metadata": {},
   "outputs": [],
   "source": [
    "summed_posterior_I = (\n",
    "    I_GARW\n",
    "    .groupby([\"location\", \"variant\"])[\"median_I\"] \n",
    "    .sum()\n",
    "    .reset_index()\n",
    ")\n",
    "\n",
    "summed_posterior_I = pd.merge(summed_posterior_I, state_pop, on=\"location\")"
   ]
  },
  {
   "cell_type": "code",
   "execution_count": null,
   "id": "5240c5d5",
   "metadata": {},
   "outputs": [],
   "source": [
    "summed_posterior_I[\"frac_I\"] = summed_posterior_I[\"median_I\"] / summed_posterior_I[\"pop_size\"]"
   ]
  },
  {
   "cell_type": "code",
   "execution_count": null,
   "id": "38598200",
   "metadata": {},
   "outputs": [],
   "source": [
    "abv_to_state = {\n",
    "        'AK': 'Alaska',\n",
    "        'AL': 'Alabama',\n",
    "        'AR': 'Arkansas',\n",
    "        'AS': 'American Samoa',\n",
    "        'AZ': 'Arizona',\n",
    "        'CA': 'California',\n",
    "        'CO': 'Colorado',\n",
    "        'CT': 'Connecticut',\n",
    "        'DC': 'District of Columbia',\n",
    "        'DE': 'Delaware',\n",
    "        'FL': 'Florida',\n",
    "        'GA': 'Georgia',\n",
    "        'GU': 'Guam',\n",
    "        'HI': 'Hawaii',\n",
    "        'IA': 'Iowa',\n",
    "        'ID': 'Idaho',\n",
    "        'IL': 'Illinois',\n",
    "        'IN': 'Indiana',\n",
    "        'KS': 'Kansas',\n",
    "        'KY': 'Kentucky',\n",
    "        'LA': 'Louisiana',\n",
    "        'MA': 'Massachusetts',\n",
    "        'MD': 'Maryland',\n",
    "        'ME': 'Maine',\n",
    "        'MI': 'Michigan',\n",
    "        'MN': 'Minnesota',\n",
    "        'MO': 'Missouri',\n",
    "        'MP': 'Northern Mariana Islands',\n",
    "        'MS': 'Mississippi',\n",
    "        'MT': 'Montana',\n",
    "        'NA': 'National',\n",
    "        'NC': 'North Carolina',\n",
    "        'ND': 'North Dakota',\n",
    "        'NE': 'Nebraska',\n",
    "        'NH': 'New Hampshire',\n",
    "        'NJ': 'New Jersey',\n",
    "        'NM': 'New Mexico',\n",
    "        'NV': 'Nevada',\n",
    "        'NY': 'New York',\n",
    "        'OH': 'Ohio',\n",
    "        'OK': 'Oklahoma',\n",
    "        'OR': 'Oregon',\n",
    "        'PA': 'Pennsylvania',\n",
    "        'PR': 'Puerto Rico',\n",
    "        'RI': 'Rhode Island',\n",
    "        'SC': 'South Carolina',\n",
    "        'SD': 'South Dakota',\n",
    "        'TN': 'Tennessee',\n",
    "        'TX': 'Texas',\n",
    "        'UT': 'Utah',\n",
    "        'VA': 'Virginia',\n",
    "        'VI': 'Virgin Islands',\n",
    "        'VT': 'Vermont',\n",
    "        'WA': 'Washington',\n",
    "        'WI': 'Wisconsin',\n",
    "        'WV': 'West Virginia',\n",
    "        'WY': 'Wyoming'\n",
    "}\n",
    "\n",
    "state_to_abv = {v: k for k, v in abv_to_state.items()}"
   ]
  },
  {
   "cell_type": "code",
   "execution_count": null,
   "id": "a6f967a4",
   "metadata": {},
   "outputs": [],
   "source": [
    "def relative_wave_sizes(I_df, colors, callouts):\n",
    "    fig = plt.figure(figsize=(18, 18))\n",
    "    gs = fig.add_gridspec(nrows=2, ncols=2, height_ratios=[0.8, 1.0])\n",
    "    \n",
    "    # Unpacking data needed\n",
    "    locations = pd.unique(I_df[\"location\"])\n",
    "    variants = [\"Alpha\", \"Delta\", \"Omicron\"]\n",
    "    \n",
    "    # Comparing relative wave sizes across variants\n",
    "    ax = fig.add_subplot(gs[0, 0:2])\n",
    "    \n",
    "    # Loop over locations\n",
    "    t = np.arange(len(variants))\n",
    "    for i, loc in enumerate(locations):\n",
    "        loc_df = I_df[I_df.location == loc]\n",
    "        var_df = loc_df[loc_df.variant.isin(variants)]\n",
    "        ax.plot(t, var_df.frac_I, color = \"k\", alpha = 0.2)\n",
    "        ax.scatter(t, var_df.frac_I,  \n",
    "                   color = colors,\n",
    "                   edgecolors=\"k\",\n",
    "                   s = 60,\n",
    "                   zorder = 3)\n",
    "    ax.set_xticks(np.arange(0, len(variants), 1))\n",
    "    ax.set_xticklabels(variants) \n",
    "    ax.set_ylabel(\"Relative wave size\")\n",
    "        \n",
    "    # Comparing first two\n",
    "    ax = fig.add_subplot(gs[1,0])\n",
    "    var_df_x =  I_df[I_df.variant == variants[0]]\n",
    "    var_df_y =  I_df[I_df.variant == variants[1]]\n",
    "    ax.scatter(var_df_x.frac_I, var_df_y.frac_I,\n",
    "               edgecolors=\"k\",\n",
    "               color=\"orange\",\n",
    "               s = 45,\n",
    "               zorder = 3)\n",
    "    \n",
    "    ax.set_xlabel(f\"{variants[0]} wave size\")\n",
    "    ax.set_ylabel(f\"{variants[1]} wave size\")\n",
    "    \n",
    "    # Adding text for certain states\n",
    "    for i, loc in enumerate(callouts):\n",
    "        var_df_x_text = var_df_x[var_df_x.location == loc]\n",
    "        var_df_y_text = var_df_y[var_df_y.location == loc]\n",
    "        ax.annotate(state_to_abv[loc], (var_df_x_text.frac_I, var_df_y_text.frac_I),\n",
    "                   size=20)\n",
    "        \n",
    "    # Comparing last two\n",
    "    ax = fig.add_subplot(gs[1,1])\n",
    "    var_df_x =  I_df[I_df.variant == variants[-2]]\n",
    "    var_df_y =  I_df[I_df.variant == variants[-1]]\n",
    "    ax.scatter(var_df_x.frac_I, var_df_y.frac_I,\n",
    "               edgecolors=\"k\",\n",
    "               color=\"pink\",\n",
    "               s = 45,\n",
    "               zorder = 3)\n",
    "    \n",
    "    ax.set_xlabel(f\"{variants[-2]} wave size\")\n",
    "    ax.set_ylabel(f\"{variants[-1]} wave size\")\n",
    "    \n",
    "    # Adding text for certain states\n",
    "    for i, loc in enumerate(callouts):\n",
    "        var_df_x_text = var_df_x[var_df_x.location == loc]\n",
    "        var_df_y_text = var_df_y[var_df_y.location == loc]\n",
    "        ax.annotate(state_to_abv[loc], (var_df_x_text.frac_I, var_df_y_text.frac_I),\n",
    "                   size=20)\n",
    "        \n",
    "    fig.tight_layout()\n"
   ]
  },
  {
   "cell_type": "code",
   "execution_count": null,
   "id": "c60ea011",
   "metadata": {},
   "outputs": [],
   "source": [
    "VoI = [\"Alpha\", \"Delta\", \"Omicron\"]\n",
    "colors = [color_map[v] for v in VoI]\n",
    "callouts = [\"Washington\", \"California\", \"New York\", \"Michigan\", \"Florida\"]"
   ]
  },
  {
   "cell_type": "code",
   "execution_count": null,
   "id": "660953b4",
   "metadata": {},
   "outputs": [],
   "source": [
    "relative_wave_sizes(summed_posterior_I, colors, callouts=callouts)\n",
    "#TODO: Couple of call-outs to orient folks\n",
    "#TODO: Regression line and R^2?"
   ]
  },
  {
   "cell_type": "markdown",
   "id": "5cbdb376",
   "metadata": {},
   "source": [
    "# Fig: Correlation of initial R and wave size?\n",
    "\n",
    "- Pull out earlier day for R where frequency greater than threshold\n",
    "- Get this R value\n",
    "- Plot against wave size for that variant\n",
    "- Columns: location, variant, R..., frequency, wave_size"
   ]
  },
  {
   "cell_type": "code",
   "execution_count": null,
   "id": "67972296",
   "metadata": {},
   "outputs": [],
   "source": [
    "thres = 0.05\n",
    "R_GARW = pd.read_csv(f\"{path_base}/{data_name}_Rt-combined-GARW.tsv\", sep=\"\\t\")\n",
    "R_GARW[\"date\"] = pd.to_datetime(R_GARW[\"date\"])"
   ]
  },
  {
   "cell_type": "code",
   "execution_count": null,
   "id": "3bca2ddb",
   "metadata": {},
   "outputs": [],
   "source": [
    "# Getting minimal R\n",
    "R_thres= R_GARW[R_GARW.median_freq > thres]\n",
    "R_thres=R_thres.loc[R_thres.groupby([\"location\", \"variant\"]).date.idxmin()]\n",
    "\n",
    "# Getting total wave size\n",
    "R_wave_size = pd.merge(R_thres, summed_posterior_I, on=[\"location\", \"variant\"])"
   ]
  },
  {
   "cell_type": "code",
   "execution_count": null,
   "id": "21bcd4ca",
   "metadata": {},
   "outputs": [],
   "source": [
    "R_wave_size_plot = R_wave_size[~R_wave_size.variant.isin([\"other\", \"Omicron\"])]"
   ]
  },
  {
   "cell_type": "code",
   "execution_count": null,
   "id": "bc0d46d0",
   "metadata": {},
   "outputs": [],
   "source": [
    " pd.unique(R_wave_size[\"variant\"])"
   ]
  },
  {
   "cell_type": "code",
   "execution_count": null,
   "id": "09925523",
   "metadata": {},
   "outputs": [],
   "source": [
    "def initial_R_wave_size(df,colors):\n",
    "    fig = plt.figure(figsize=(10, 10))\n",
    "    gs = fig.add_gridspec(nrows=1, ncols=1)\n",
    "    \n",
    "    variants = pd.unique(df[\"variant\"])\n",
    "    \n",
    "    # Comparing relative wave sizes across variants\n",
    "    ax = fig.add_subplot(gs[0, 0])\n",
    "    \n",
    "    # Loop over variants\n",
    "    for i, var in enumerate(variants):\n",
    "        var_df = df[df.variant == var]\n",
    "        ax.scatter(var_df.median_R, var_df.frac_I,  \n",
    "                   color = colors[i],\n",
    "                   edgecolors=\"k\",\n",
    "                   s = 60,\n",
    "                   zorder = 3)\n",
    "\n",
    "    ax.set_ylabel(\"Relative wave size\")\n",
    "    ax.set_xlabel(\"R at introduction\")    \n",
    "        \n",
    "    fig.tight_layout()    "
   ]
  },
  {
   "cell_type": "code",
   "execution_count": null,
   "id": "283f8c6e",
   "metadata": {},
   "outputs": [],
   "source": [
    "colors = [color_map[v] for v in pd.unique(R_wave_size[\"variant\"])]\n"
   ]
  },
  {
   "cell_type": "code",
   "execution_count": null,
   "id": "9a42e200",
   "metadata": {},
   "outputs": [],
   "source": [
    "colors"
   ]
  },
  {
   "cell_type": "code",
   "execution_count": null,
   "id": "64287ad2",
   "metadata": {},
   "outputs": [],
   "source": [
    "initial_R_wave_size(R_wave_size, colors)"
   ]
  },
  {
   "cell_type": "markdown",
   "id": "d1f14185",
   "metadata": {},
   "source": [
    "# Fig: Correlation with vaccination with wave size\n",
    "\n",
    "- Vaccination -> Wave size\n",
    "\n",
    "- Pull out introduction date\n",
    "- Get vaccination proportion on that date\n",
    "- Plot Vaccination at introductiona against wave size\n",
    "- Basically, want to look at lines by variant"
   ]
  },
  {
   "cell_type": "code",
   "execution_count": null,
   "id": "5ce0061d",
   "metadata": {},
   "outputs": [],
   "source": [
    "#vaccination = pd.read_csv(\"regression_analysis_df.tsv\", sep=\"\\t\")[[\"date\", \"location\", \"variant\", \"Series_Complete_Pop_Pct\"]]\n",
    "#vaccination[\"date\"] = pd.to_datetime(vaccination[\"date\"])\n",
    "\n",
    "raw_vaccination = pd.read_csv(\"../../../Downloads/CDC-Vaccination.csv\")\n",
    "keep_cols = [\"Date\", \"Location\", \"Series_Complete_Pop_Pct\"]\n",
    "vaccination = raw_vaccination[keep_cols]\n",
    "vaccination = vaccination.rename(columns={\"Date\": \"date\", \"Location\":\"location\"})\n",
    "vaccination[\"date\"]=pd.to_datetime(vaccination.date)\n",
    "vaccination = vaccination.sort_values(\"date\")\n",
    "vaccination = vaccination.replace({\"location\":abv_to_state})\n",
    "vaccination[\"Series_Complete_Pop_Pct\"] = vaccination[\"Series_Complete_Pop_Pct\"] / 100"
   ]
  },
  {
   "cell_type": "code",
   "execution_count": null,
   "id": "ca37a389",
   "metadata": {},
   "outputs": [],
   "source": [
    "vaccination"
   ]
  },
  {
   "cell_type": "code",
   "execution_count": null,
   "id": "e26ed000",
   "metadata": {},
   "outputs": [],
   "source": [
    "wave_size_vaccination = pd.merge(\n",
    "    R_wave_size[[\"date\", \"location\", \"variant\", \"frac_I\"]], \n",
    "    vaccination, on=[\"date\", \"location\"]\n",
    ")"
   ]
  },
  {
   "cell_type": "code",
   "execution_count": null,
   "id": "bf097936",
   "metadata": {},
   "outputs": [],
   "source": [
    "wave_size_vaccination"
   ]
  },
  {
   "cell_type": "code",
   "execution_count": null,
   "id": "ad9ec82f",
   "metadata": {},
   "outputs": [],
   "source": [
    "def vaccination_wave_size(df, colors):\n",
    "    fig = plt.figure(figsize=(10, 10))\n",
    "    gs = fig.add_gridspec(nrows=1, ncols=1)\n",
    "    \n",
    "    # Unpacking data needed\n",
    "    #locations = pd.unique(I_df[\"location\"])\n",
    "    \n",
    "    variants = pd.unique(df[\"variant\"])\n",
    "    \n",
    "    # Comparing relative wave sizes across variants\n",
    "    ax = fig.add_subplot(gs[0, 0])\n",
    "    \n",
    "    # Loop over variants\n",
    "    for i, var in enumerate(variants):\n",
    "        var_df = df[df.variant == var]\n",
    "        #ax.plot(t, var_df.frac_I, color = \"k\", alpha = 0.2)\n",
    "        ax.scatter(var_df.Series_Complete_Pop_Pct, var_df.frac_I,  \n",
    "                   color = colors[i],\n",
    "                   edgecolors=\"k\",\n",
    "                   s = 60,\n",
    "                   zorder = 3)\n",
    "\n",
    "    ax.set_ylabel(\"Relative wave size\")\n",
    "    ax.set_xlabel(\"Proportion vaccinated at introduction\")    \n",
    "        \n",
    "    fig.tight_layout()"
   ]
  },
  {
   "cell_type": "code",
   "execution_count": null,
   "id": "a05a8e26",
   "metadata": {},
   "outputs": [],
   "source": [
    "colors = [color_map[v] for v in pd.unique(wave_size_vaccination[\"variant\"])]\n"
   ]
  },
  {
   "cell_type": "code",
   "execution_count": null,
   "id": "914cc6a7",
   "metadata": {},
   "outputs": [],
   "source": [
    "vaccination_wave_size(wave_size_vaccination, colors)"
   ]
  },
  {
   "cell_type": "markdown",
   "id": "96b24f99",
   "metadata": {},
   "source": [
    "# Possibly, looking at BA.2."
   ]
  },
  {
   "cell_type": "code",
   "execution_count": null,
   "id": "2da27a50",
   "metadata": {},
   "outputs": [],
   "source": []
  },
  {
   "cell_type": "code",
   "execution_count": null,
   "id": "dcaf6b56",
   "metadata": {},
   "outputs": [],
   "source": []
  }
 ],
 "metadata": {
  "kernelspec": {
   "display_name": "Python 3 (ipykernel)",
   "language": "python",
   "name": "python3"
  },
  "language_info": {
   "codemirror_mode": {
    "name": "ipython",
    "version": 3
   },
   "file_extension": ".py",
   "mimetype": "text/x-python",
   "name": "python",
   "nbconvert_exporter": "python",
   "pygments_lexer": "ipython3",
   "version": "3.9.9"
  }
 },
 "nbformat": 4,
 "nbformat_minor": 5
}
