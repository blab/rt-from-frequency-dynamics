{
 "cells": [
  {
   "cell_type": "code",
   "execution_count": 1,
   "id": "established-works",
   "metadata": {},
   "outputs": [
    {
     "name": "stderr",
     "output_type": "stream",
     "text": [
      "/opt/homebrew/lib/python3.9/site-packages/jax/_src/lib/__init__.py:34: UserWarning: JAX on Mac ARM machines is experimental and minimally tested. Please see https://github.com/google/jax/issues/5501 in the event of problems.\n",
      "  warnings.warn(\"JAX on Mac ARM machines is experimental and minimally tested. \"\n"
     ]
    }
   ],
   "source": [
    "import numpyro\n",
    "import numpy as np\n",
    "import pandas as pd\n",
    "import jax.numpy as jnp\n",
    "\n",
    "import rt_from_frequency_dynamics as rf"
   ]
  },
  {
   "cell_type": "code",
   "execution_count": 2,
   "id": "accomplished-ownership",
   "metadata": {},
   "outputs": [],
   "source": [
    "data_name = \"pango-countries\"\n",
    "raw_cases = pd.read_csv(f\"../data/{data_name}/{data_name}_location-case-counts.tsv\", sep=\"\\t\")\n",
    "raw_seq = pd.read_csv(f\"../data/{data_name}/{data_name}_location-variant-sequence-counts.tsv\", sep=\"\\t\")"
   ]
  },
  {
   "cell_type": "code",
   "execution_count": 3,
   "id": "confirmed-creator",
   "metadata": {},
   "outputs": [],
   "source": [
    "# Locations to run\n",
    "locations = pd.unique(raw_seq[\"location\"])"
   ]
  },
  {
   "cell_type": "code",
   "execution_count": 4,
   "id": "fallen-orleans",
   "metadata": {},
   "outputs": [
    {
     "data": {
      "text/plain": [
       "array(['USA'], dtype=object)"
      ]
     },
     "execution_count": 4,
     "metadata": {},
     "output_type": "execute_result"
    }
   ],
   "source": [
    "locations"
   ]
  },
  {
   "cell_type": "code",
   "execution_count": 5,
   "id": "composite-mason",
   "metadata": {},
   "outputs": [],
   "source": [
    "v_names = pd.unique(raw_seq[\"variant\"])"
   ]
  },
  {
   "cell_type": "code",
   "execution_count": 6,
   "id": "affected-agreement",
   "metadata": {},
   "outputs": [
    {
     "data": {
      "text/plain": [
       "array(['other', 'B.1.1.529', 'BA.2', 'BA.2.12', 'BA.2.12.1', 'BA.2.13',\n",
       "       'BA.2.13.1', 'BA.2.18', 'BA.2.3', 'BA.2.3.20', 'BA.2.38',\n",
       "       'BA.2.56', 'BA.2.75', 'BA.2.75.1', 'BA.2.75.2', 'BA.2.75.3.1',\n",
       "       'BA.2.75.5', 'BA.2.76', 'BA.2.9', 'BA.4', 'BA.4.1', 'BA.4.1.1',\n",
       "       'BA.4.1.6', 'BA.4.1.8', 'BA.4.1.9', 'BA.4.2', 'BA.4.3', 'BA.4.4',\n",
       "       'BA.4.6', 'BA.5', 'BA.5.1', 'BA.5.10.1', 'BA.5.1.1', 'BA.5.1.10',\n",
       "       'BA.5.1.12', 'BA.5.1.18', 'BA.5.1.2', 'BA.5.1.21', 'BA.5.1.22',\n",
       "       'BA.5.1.23', 'BA.5.1.24', 'BA.5.1.25', 'BA.5.1.27', 'BA.5.1.3',\n",
       "       'BA.5.1.5', 'BA.5.1.6', 'BA.5.1.7', 'BA.5.1.8', 'BA.5.2',\n",
       "       'BA.5.2.1', 'BA.5.2.16', 'BA.5.2.18', 'BA.5.2.19', 'BA.5.2.2',\n",
       "       'BA.5.2.20', 'BA.5.2.21', 'BA.5.2.22', 'BA.5.2.23', 'BA.5.2.26',\n",
       "       'BA.5.2.27', 'BA.5.2.28', 'BA.5.2.3', 'BA.5.2.31', 'BA.5.2.33',\n",
       "       'BA.5.2.34', 'BA.5.2.6', 'BA.5.2.7', 'BA.5.2.8', 'BA.5.2.9',\n",
       "       'BA.5.3', 'BA.5.3.1', 'BA.5.5', 'BA.5.5.1', 'BA.5.5.2', 'BA.5.5.3',\n",
       "       'BA.5.6', 'BA.5.6.1', 'BA.5.6.2', 'BA.5.8', 'BA.5.9', 'BE.1',\n",
       "       'BE.1.1', 'BE.1.1.1', 'BE.1.1.2', 'BE.1.2', 'BE.1.4', 'BE.1.4.1',\n",
       "       'BE.2', 'BE.3', 'BE.4', 'BE.5', 'BF.1', 'BF.10', 'BF.1.1', 'BF.11',\n",
       "       'BF.13', 'BF.14', 'BF.16', 'BF.2', 'BF.21', 'BF.24', 'BF.25',\n",
       "       'BF.26', 'BF.27', 'BF.28', 'BF.3', 'BF.4', 'BF.5', 'BF.6', 'BF.7',\n",
       "       'BF.7.4', 'BF.8', 'BF.9', 'BG.2', 'BG.5', 'BK.1', 'BQ.1', 'BQ.1.1',\n",
       "       'BU.2', 'CA', 'XAS', 'XAZ'], dtype=object)"
      ]
     },
     "execution_count": 6,
     "metadata": {},
     "output_type": "execute_result"
    }
   ],
   "source": [
    "v_names"
   ]
  },
  {
   "cell_type": "code",
   "execution_count": 7,
   "id": "expected-quarter",
   "metadata": {},
   "outputs": [],
   "source": [
    "# Defining Lineage Models\n",
    "seed_L = 14\n",
    "forecast_L = 7\n",
    "\n",
    "gen = rf.discretise_gamma(mn=3.1, std=1.2)\n",
    "\n",
    "delays = rf.pad_delays([rf.discretise_lognorm(mn=3.1, std=1.0)])\n",
    "\n",
    "LM_GARW = rf.RenewalModel(gen, delays, seed_L, forecast_L, k=10,\n",
    "                       RLik = rf.GARW(1e-2, 1e-3, prior_family=\"Normal\"),\n",
    "                       CLik = rf.ZINegBinomCases(0.05),\n",
    "                       SLik = rf.DirMultinomialSeq(100),\n",
    "                       v_names = v_names)"
   ]
  },
  {
   "cell_type": "code",
   "execution_count": 8,
   "id": "thousand-future",
   "metadata": {},
   "outputs": [],
   "source": [
    "# Params for fitting\n",
    "opt = numpyro.optim.Adam(step_size=1e-3)\n",
    "iters = 100_000\n",
    "num_samples = 3000\n",
    "save = True\n",
    "load = False"
   ]
  },
  {
   "cell_type": "code",
   "execution_count": 9,
   "id": "demonstrated-lesbian",
   "metadata": {},
   "outputs": [],
   "source": [
    "# Paths for export\n",
    "path_base = f\"../estimates/{data_name}\"\n",
    "path_GARW = path_base + \"/GARW\"\n",
    "\n",
    "rf.make_model_directories(path_GARW)"
   ]
  },
  {
   "cell_type": "markdown",
   "id": "632335a3",
   "metadata": {},
   "source": [
    "# Running models and exporting results"
   ]
  },
  {
   "cell_type": "code",
   "execution_count": 10,
   "id": "2ba9be50",
   "metadata": {},
   "outputs": [
    {
     "name": "stdout",
     "output_type": "stream",
     "text": [
      "Location USA finished (1/1).\n"
     ]
    }
   ],
   "source": [
    "# Running GARW model\n",
    "MP_GARW = rf.fit_SVI_locations(raw_cases, raw_seq, locations, \n",
    "                             LM_GARW, opt, \n",
    "                             iters=iters, num_samples=num_samples, save=save, load=load, path=path_GARW)"
   ]
  },
  {
   "cell_type": "markdown",
   "id": "c3931fd5",
   "metadata": {},
   "source": [
    "## Loading results"
   ]
  },
  {
   "cell_type": "code",
   "execution_count": 11,
   "id": "118b4e1a",
   "metadata": {},
   "outputs": [],
   "source": [
    "# Loading past results\n",
    "def load_models(rc, rs, locations, RM, path=\".\", num_samples=1000):\n",
    "    MP = rf.MultiPosterior()\n",
    "    for i, loc in enumerate(locations):\n",
    "        LD = rf.get_location_VariantData(rc, rs, loc)\n",
    "        PH = rf.sample_loaded_posterior(LD, RM, num_samples=num_samples, path=path, name=loc)   \n",
    "        MP.add_posterior(PH)\n",
    "        print(f\"Location {loc} finished {i+1} / {len(locations)}\")\n",
    "    return MP"
   ]
  },
  {
   "cell_type": "code",
   "execution_count": 12,
   "id": "05dc84f7",
   "metadata": {},
   "outputs": [
    {
     "name": "stdout",
     "output_type": "stream",
     "text": [
      "Location USA finished 1 / 1\n"
     ]
    }
   ],
   "source": [
    "MP_GARW = load_models(raw_cases, raw_seq, locations, LM_GARW, path=path_GARW, num_samples=3000)"
   ]
  },
  {
   "cell_type": "code",
   "execution_count": 13,
   "id": "periodic-portal",
   "metadata": {},
   "outputs": [],
   "source": [
    "# Exporting growth info\n",
    "ps = [0.95, 0.8, 0.5] # Which credible intevals to save"
   ]
  },
  {
   "cell_type": "code",
   "execution_count": 14,
   "id": "7d7a5299",
   "metadata": {},
   "outputs": [],
   "source": [
    "# Export GARW\n",
    "R_GARW = rf.gather_R(MP_GARW, ps)\n",
    "r_GARW = rf.gather_little_r(MP_GARW, ps)\n",
    "I_GARW = rf.gather_I(MP_GARW, ps)\n",
    "freq_GARW = rf.gather_freq(MP_GARW, ps)\n",
    "\n",
    "R_GARW.to_csv(f\"{path_base}/{data_name}_Rt-combined-GARW.tsv\", encoding='utf-8', sep='\\t', index=False)\n",
    "r_GARW.to_csv(f\"{path_base}/{data_name}_little-r-combined-GARW.tsv\", encoding='utf-8', sep='\\t', index=False)\n",
    "I_GARW.to_csv(f\"{path_base}/{data_name}_I-combined-GARW.tsv\", encoding='utf-8', sep='\\t', index=False)\n",
    "freq_GARW.to_csv(f\"{path_base}/{data_name}_freq-combined-GARW.tsv\", encoding='utf-8', sep='\\t', index=False)"
   ]
  },
  {
   "cell_type": "code",
   "execution_count": 15,
   "id": "f2d220ce",
   "metadata": {},
   "outputs": [],
   "source": [
    "# Export Forecasts\n",
    "R_GARW_f = rf.gather_R(MP_GARW, ps, forecast=True)\n",
    "r_GARW_f = rf.gather_little_r(MP_GARW, ps, forecast=True)\n",
    "I_GARW_f = rf.gather_I(MP_GARW, ps, forecast=True)\n",
    "freq_GARW_f = rf.gather_freq(MP_GARW, ps, forecast=True)\n",
    "\n",
    "R_GARW_f.to_csv(f\"{path_base}/{data_name}_Rt-combined-forecast-GARW.tsv\", encoding='utf-8', sep='\\t', index=False)\n",
    "r_GARW_f.to_csv(f\"{path_base}/{data_name}_little-r-combined-forecast-GARW.tsv\", encoding='utf-8', sep='\\t', index=False)\n",
    "I_GARW_f.to_csv(f\"{path_base}/{data_name}_I-combined-forecast-GARW.tsv\", encoding='utf-8', sep='\\t', index=False)\n",
    "freq_GARW_f.to_csv(f\"{path_base}/{data_name}_freq-combined-forecast-GARW.tsv\", encoding='utf-8', sep='\\t', index=False)"
   ]
  }
 ],
 "metadata": {
  "kernelspec": {
   "display_name": "Python 3",
   "language": "python",
   "name": "python3"
  },
  "language_info": {
   "codemirror_mode": {
    "name": "ipython",
    "version": 3
   },
   "file_extension": ".py",
   "mimetype": "text/x-python",
   "name": "python",
   "nbconvert_exporter": "python",
   "pygments_lexer": "ipython3",
   "version": "3.9.2"
  }
 },
 "nbformat": 4,
 "nbformat_minor": 5
}
