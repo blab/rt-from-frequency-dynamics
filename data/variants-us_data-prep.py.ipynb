{
 "cells": [
  {
   "cell_type": "markdown",
   "id": "c210d143",
   "metadata": {},
   "source": [
    "# Preparing data frame of case counts and variant frequencies"
   ]
  },
  {
   "cell_type": "markdown",
   "id": "e82f072c",
   "metadata": {},
   "source": [
    "## Setup"
   ]
  },
  {
   "cell_type": "markdown",
   "id": "3a08892b",
   "metadata": {},
   "source": [
    "### Imports"
   ]
  },
  {
   "cell_type": "code",
   "execution_count": null,
   "id": "66397721",
   "metadata": {},
   "outputs": [],
   "source": [
    "import pandas as pd"
   ]
  },
  {
   "cell_type": "markdown",
   "id": "fa577fef",
   "metadata": {},
   "source": [
    "### Data"
   ]
  },
  {
   "cell_type": "markdown",
   "id": "beb9da8e",
   "metadata": {},
   "source": [
    "Download Nextstrain-curated metadata TSV of GenBank database, select a subset of columns, save for later use, and analyze."
   ]
  },
  {
   "cell_type": "code",
   "execution_count": null,
   "id": "f6b6666e",
   "metadata": {},
   "outputs": [],
   "source": [
    "path_to_metadata = \"https://data.nextstrain.org/files/ncov/open/metadata.tsv.gz\""
   ]
  },
  {
   "cell_type": "code",
   "execution_count": null,
   "id": "766fcbc5",
   "metadata": {},
   "outputs": [],
   "source": [
    "path_to_cases = \"https://data.cdc.gov/api/views/9mfq-cb36/rows.csv?accessType=DOWNLOAD\""
   ]
  },
  {
   "cell_type": "code",
   "execution_count": null,
   "id": "d7bfd3ee",
   "metadata": {},
   "outputs": [],
   "source": [
    "output_sequences = \"variants-us_location-variant-sequence-counts.python.tsv\""
   ]
  },
  {
   "cell_type": "code",
   "execution_count": null,
   "id": "dab9d7b8",
   "metadata": {},
   "outputs": [],
   "source": [
    "output_cases = \"variants-us_location-case-counts.python.tsv\""
   ]
  },
  {
   "cell_type": "code",
   "execution_count": null,
   "id": "7ddc3ce7",
   "metadata": {},
   "outputs": [],
   "source": [
    "metadata = pd.read_csv(\n",
    "    path_to_metadata,\n",
    "    sep=\"\\t\",\n",
    "    usecols=(\n",
    "        \"strain\",\n",
    "        \"date\",\n",
    "        \"country\",\n",
    "        \"division\",\n",
    "        \"Nextstrain_clade\"\n",
    "    ),\n",
    "    parse_dates=[\"date\"],\n",
    ")"
   ]
  },
  {
   "cell_type": "markdown",
   "id": "e989e400",
   "metadata": {},
   "source": [
    "metadata.to_csv(\n",
    "    \"open_metadata_pruned.tsv\",\n",
    "    sep=\"\\t\",\n",
    "    index=False,\n",
    ")"
   ]
  },
  {
   "cell_type": "code",
   "execution_count": null,
   "id": "9ee2726d",
   "metadata": {},
   "outputs": [],
   "source": [
    "metadata.shape"
   ]
  },
  {
   "cell_type": "code",
   "execution_count": null,
   "id": "5cd67711",
   "metadata": {},
   "outputs": [],
   "source": [
    "metadata.head()"
   ]
  },
  {
   "cell_type": "markdown",
   "id": "0f8cf4ab",
   "metadata": {},
   "source": [
    "### Thresholds\n",
    "\n",
    "Define thresholds for clades and states."
   ]
  },
  {
   "cell_type": "code",
   "execution_count": null,
   "id": "b06f0f07",
   "metadata": {},
   "outputs": [],
   "source": [
    "min_records_per_clade = 2000"
   ]
  },
  {
   "cell_type": "code",
   "execution_count": null,
   "id": "0d062299",
   "metadata": {},
   "outputs": [],
   "source": [
    "min_records_per_division = 5000"
   ]
  },
  {
   "cell_type": "markdown",
   "id": "0e48101b",
   "metadata": {},
   "source": [
    "### Clade definitions"
   ]
  },
  {
   "cell_type": "code",
   "execution_count": null,
   "id": "5dfd8887",
   "metadata": {},
   "outputs": [],
   "source": [
    "clade_to_variant = {\n",
    "    \"20H (Beta, V2)\": \"Beta\",\n",
    "    \"20I (Alpha, V1)\": \"Alpha\",\n",
    "    \"20J (Gamma, V3)\": \"Gamma\",\n",
    "    \"21A (Delta)\": \"Delta\",\n",
    "    \"21C (Epsilon)\": \"Epsilon\",\n",
    "    \"21F (Iota)\": \"Iota\",\n",
    "    \"21H (Mu)\": \"Mu\",\n",
    "    \"21I (Delta)\": \"Delta\",\n",
    "    \"21J (Delta)\": \"Delta\",\n",
    "}"
   ]
  },
  {
   "cell_type": "code",
   "execution_count": null,
   "id": "d293f120",
   "metadata": {},
   "outputs": [],
   "source": [
    "variants = {\n",
    "    \"Alpha\",\n",
    "    \"Beta\",\n",
    "    \"Gamma\",\n",
    "    \"Delta\",\n",
    "    \"Epsilon\",\n",
    "    \"Iota\", \n",
    "    \"Mu\",\n",
    "}"
   ]
  },
  {
   "cell_type": "markdown",
   "id": "33e92d5e",
   "metadata": {},
   "source": [
    "### Dates"
   ]
  },
  {
   "cell_type": "code",
   "execution_count": null,
   "id": "7f0196ac",
   "metadata": {},
   "outputs": [],
   "source": [
    "start_date_for_cases = \"2020-11-01\""
   ]
  },
  {
   "cell_type": "code",
   "execution_count": null,
   "id": "4f610afb",
   "metadata": {},
   "outputs": [],
   "source": [
    "start_date = \"2021-01-01\""
   ]
  },
  {
   "cell_type": "code",
   "execution_count": null,
   "id": "317d6178",
   "metadata": {},
   "outputs": [],
   "source": [
    "end_date = \"2021-10-01\""
   ]
  },
  {
   "cell_type": "code",
   "execution_count": null,
   "id": "74b33f16",
   "metadata": {},
   "outputs": [],
   "source": [
    "dates = pd.date_range(\n",
    "    start_date,\n",
    "    end_date,\n",
    "    freq=\"D\",\n",
    ")"
   ]
  },
  {
   "cell_type": "code",
   "execution_count": null,
   "id": "68746d1c",
   "metadata": {},
   "outputs": [],
   "source": [
    "dates"
   ]
  },
  {
   "cell_type": "markdown",
   "id": "92a44880",
   "metadata": {},
   "source": [
    "### States\n",
    "\n",
    "Map full names of US states to abbreviations and vice versa. Data originally from https://raw.githubusercontent.com/jasonong/List-of-US-States/master/states.csv."
   ]
  },
  {
   "cell_type": "code",
   "execution_count": null,
   "id": "05d4c358",
   "metadata": {},
   "outputs": [],
   "source": [
    "states = [\n",
    "    {'name': 'Alabama', 'abbreviation': 'AL'},\n",
    "    {'name': 'Alaska', 'abbreviation': 'AK'},\n",
    "    {'name': 'Arizona', 'abbreviation': 'AZ'},\n",
    "    {'name': 'Arkansas', 'abbreviation': 'AR'},\n",
    "    {'name': 'California', 'abbreviation': 'CA'},\n",
    "    {'name': 'Colorado', 'abbreviation': 'CO'},\n",
    "    {'name': 'Connecticut', 'abbreviation': 'CT'},\n",
    "    {'name': 'Delaware', 'abbreviation': 'DE'},\n",
    "    {'name': 'District of Columbia', 'abbreviation': 'DC'},\n",
    "    {'name': 'Washington DC', 'abbreviation': 'DC'},\n",
    "    {'name': 'Florida', 'abbreviation': 'FL'},\n",
    "    {'name': 'Georgia', 'abbreviation': 'GA'},\n",
    "    {'name': 'Hawaii', 'abbreviation': 'HI'},\n",
    "    {'name': 'Idaho', 'abbreviation': 'ID'},\n",
    "    {'name': 'Illinois', 'abbreviation': 'IL'},\n",
    "    {'name': 'Indiana', 'abbreviation': 'IN'},\n",
    "    {'name': 'Iowa', 'abbreviation': 'IA'},\n",
    "    {'name': 'Kansas', 'abbreviation': 'KS'},\n",
    "    {'name': 'Kentucky', 'abbreviation': 'KY'},\n",
    "    {'name': 'Louisiana', 'abbreviation': 'LA'},\n",
    "    {'name': 'Maine', 'abbreviation': 'ME'},\n",
    "    {'name': 'Montana', 'abbreviation': 'MT'},\n",
    "    {'name': 'Nebraska', 'abbreviation': 'NE'},\n",
    "    {'name': 'Nevada', 'abbreviation': 'NV'},\n",
    "    {'name': 'New Hampshire', 'abbreviation': 'NH'},\n",
    "    {'name': 'New Jersey', 'abbreviation': 'NJ'},\n",
    "    {'name': 'New Mexico', 'abbreviation': 'NM'},\n",
    "    {'name': 'New York', 'abbreviation': 'NYC'},\n",
    "    {'name': 'New York', 'abbreviation': 'NY'},\n",
    "    {'name': 'North Carolina', 'abbreviation': 'NC'},\n",
    "    {'name': 'North Dakota', 'abbreviation': 'ND'},\n",
    "    {'name': 'Ohio', 'abbreviation': 'OH'},\n",
    "    {'name': 'Oklahoma', 'abbreviation': 'OK'},\n",
    "    {'name': 'Oregon', 'abbreviation': 'OR'},\n",
    "    {'name': 'Maryland', 'abbreviation': 'MD'},\n",
    "    {'name': 'Massachusetts', 'abbreviation': 'MA'},\n",
    "    {'name': 'Michigan', 'abbreviation': 'MI'},\n",
    "    {'name': 'Minnesota', 'abbreviation': 'MN'},\n",
    "    {'name': 'Mississippi', 'abbreviation': 'MS'},\n",
    "    {'name': 'Missouri', 'abbreviation': 'MO'},\n",
    "    {'name': 'Pennsylvania', 'abbreviation': 'PA'},\n",
    "    {'name': 'Rhode Island', 'abbreviation': 'RI'},\n",
    "    {'name': 'South Carolina', 'abbreviation': 'SC'},\n",
    "    {'name': 'South Dakota', 'abbreviation': 'SD'},\n",
    "    {'name': 'Tennessee', 'abbreviation': 'TN'},\n",
    "    {'name': 'Texas', 'abbreviation': 'TX'},\n",
    "    {'name': 'Utah', 'abbreviation': 'UT'},\n",
    "    {'name': 'Vermont', 'abbreviation': 'VT'},\n",
    "    {'name': 'Virginia', 'abbreviation': 'VA'},\n",
    "    {'name': 'Washington', 'abbreviation': 'WA'},\n",
    "    {'name': 'West Virginia', 'abbreviation': 'WV'},\n",
    "    {'name': 'Wisconsin', 'abbreviation': 'WI'},\n",
    "    {'name': 'Wyoming', 'abbreviation': 'WY'},\n",
    "    {'name': 'American Samoa', 'abbreviation': 'AS'},\n",
    "    {'name': 'Federated States of Micronesia', 'abbreviation': 'FSM'},\n",
    "    {'name': 'Guam', 'abbreviation': 'GU'},\n",
    "    {'name': 'Northern Mariana Islands', 'abbreviation': 'MP'},\n",
    "    {'name': 'Commonwealth of the Northern Mariana Islands', 'abbreviation': 'MP'},\n",
    "    {'name': 'Puerto Rico', 'abbreviation': 'PR'},\n",
    "    {'name': 'Republic of Palau', 'abbreviation': 'PW'},\n",
    "    {'name': 'Republic of the Marshall Islands', 'abbreviation': 'RMI'},\n",
    "    {'name': 'Virgin Islands', 'abbreviation': 'VI'},\n",
    "    {'name': 'U.S. Virgin Islands', 'abbreviation': 'VI'},\n",
    "]"
   ]
  },
  {
   "cell_type": "code",
   "execution_count": null,
   "id": "d5e7f59d",
   "metadata": {},
   "outputs": [],
   "source": [
    "full_state_names_to_abbreviations = {\n",
    "    state[\"name\"]: state[\"abbreviation\"]\n",
    "    for state in states\n",
    "}"
   ]
  },
  {
   "cell_type": "code",
   "execution_count": null,
   "id": "b3b11899",
   "metadata": {},
   "outputs": [],
   "source": [
    "full_state_names_to_abbreviations"
   ]
  },
  {
   "cell_type": "code",
   "execution_count": null,
   "id": "c433b726",
   "metadata": {},
   "outputs": [],
   "source": [
    "abbreviations_to_full_state_names = {\n",
    "    state[\"abbreviation\"]: state[\"name\"]\n",
    "    for state in states\n",
    "}"
   ]
  },
  {
   "cell_type": "code",
   "execution_count": null,
   "id": "c9b43090",
   "metadata": {},
   "outputs": [],
   "source": [
    "abbreviations_to_full_state_names"
   ]
  },
  {
   "cell_type": "markdown",
   "id": "4fda4134",
   "metadata": {},
   "source": [
    "## Sequence metadata"
   ]
  },
  {
   "cell_type": "code",
   "execution_count": null,
   "id": "042071e7",
   "metadata": {},
   "outputs": [],
   "source": [
    "metadata"
   ]
  },
  {
   "cell_type": "code",
   "execution_count": null,
   "id": "5e7eddfe",
   "metadata": {},
   "outputs": [],
   "source": [
    "metadata.shape"
   ]
  },
  {
   "cell_type": "markdown",
   "id": "de8bf4da",
   "metadata": {},
   "source": [
    "Subset to recent samples, dropping records with ambiguous dates (\"?\" or \"2021-06\", etc.)."
   ]
  },
  {
   "cell_type": "code",
   "execution_count": null,
   "id": "af6c18cd",
   "metadata": {},
   "outputs": [],
   "source": [
    "unambiguous_dates = (metadata[\"date\"] != \"?\") & (metadata[\"date\"].str.count(\"-\") == 2)"
   ]
  },
  {
   "cell_type": "code",
   "execution_count": null,
   "id": "3a7d2f60",
   "metadata": {},
   "outputs": [],
   "source": [
    "unambiguous_dates.sum()"
   ]
  },
  {
   "cell_type": "code",
   "execution_count": null,
   "id": "0d3d87ce",
   "metadata": {},
   "outputs": [],
   "source": [
    "date_since_start_date = (metadata[\"date\"] >= start_date)"
   ]
  },
  {
   "cell_type": "code",
   "execution_count": null,
   "id": "948962dd",
   "metadata": {},
   "outputs": [],
   "source": [
    "date_since_start_date.sum()"
   ]
  },
  {
   "cell_type": "code",
   "execution_count": null,
   "id": "cf4d49b8",
   "metadata": {},
   "outputs": [],
   "source": [
    "metadata = metadata[(date_since_start_date) & (unambiguous_dates)].copy()"
   ]
  },
  {
   "cell_type": "code",
   "execution_count": null,
   "id": "bdde5dac",
   "metadata": {},
   "outputs": [],
   "source": [
    "metadata.shape"
   ]
  },
  {
   "cell_type": "markdown",
   "id": "34b9a311",
   "metadata": {},
   "source": [
    "Convert date strings to date types for easier operations."
   ]
  },
  {
   "cell_type": "code",
   "execution_count": null,
   "id": "db765cb2",
   "metadata": {},
   "outputs": [],
   "source": [
    "metadata[\"date\"] = pd.to_datetime(metadata[\"date\"])"
   ]
  },
  {
   "cell_type": "markdown",
   "id": "18f9f91c",
   "metadata": {},
   "source": [
    "Subset to older samples."
   ]
  },
  {
   "cell_type": "code",
   "execution_count": null,
   "id": "f79a5c4a",
   "metadata": {},
   "outputs": [],
   "source": [
    "date_cutoff = pd.to_datetime(end_date) + pd.DateOffset(days=1)"
   ]
  },
  {
   "cell_type": "code",
   "execution_count": null,
   "id": "a2b4e0dd",
   "metadata": {},
   "outputs": [],
   "source": [
    "date_before_cutoff_date = (metadata[\"date\"] < date_cutoff)"
   ]
  },
  {
   "cell_type": "code",
   "execution_count": null,
   "id": "f1aa40f5",
   "metadata": {},
   "outputs": [],
   "source": [
    "date_before_cutoff_date.sum()"
   ]
  },
  {
   "cell_type": "code",
   "execution_count": null,
   "id": "f1e36942",
   "metadata": {},
   "outputs": [],
   "source": [
    "metadata = metadata[date_before_cutoff_date].copy()"
   ]
  },
  {
   "cell_type": "markdown",
   "id": "b8c7d7bd",
   "metadata": {},
   "source": [
    "Subset to the USA."
   ]
  },
  {
   "cell_type": "code",
   "execution_count": null,
   "id": "f7ff0630",
   "metadata": {},
   "outputs": [],
   "source": [
    "metadata = metadata.query(\"country == 'USA'\").copy()"
   ]
  },
  {
   "cell_type": "code",
   "execution_count": null,
   "id": "a12562f3",
   "metadata": {},
   "outputs": [],
   "source": [
    "metadata.shape"
   ]
  },
  {
   "cell_type": "markdown",
   "id": "9817ae73",
   "metadata": {},
   "source": [
    "Remove unassigned samples."
   ]
  },
  {
   "cell_type": "code",
   "execution_count": null,
   "id": "3a299002",
   "metadata": {},
   "outputs": [],
   "source": [
    "metadata = metadata[~pd.isnull(metadata[\"Nextstrain_clade\"])].copy()"
   ]
  },
  {
   "cell_type": "code",
   "execution_count": null,
   "id": "0686f6ef",
   "metadata": {},
   "outputs": [],
   "source": [
    "metadata.shape"
   ]
  },
  {
   "cell_type": "markdown",
   "id": "12a76d68",
   "metadata": {},
   "source": [
    "## Variants to analyze"
   ]
  },
  {
   "cell_type": "markdown",
   "id": "de7e3f34",
   "metadata": {},
   "source": [
    "### Clades with data\n",
    "\n",
    "Select all clades with a minimum number of metadata records for downstream analysis."
   ]
  },
  {
   "cell_type": "code",
   "execution_count": null,
   "id": "e7daffd2",
   "metadata": {},
   "outputs": [],
   "source": [
    "clade_tallies = metadata[\"Nextstrain_clade\"].value_counts()"
   ]
  },
  {
   "cell_type": "code",
   "execution_count": null,
   "id": "1d91c87c",
   "metadata": {},
   "outputs": [],
   "source": [
    "clade_tallies"
   ]
  },
  {
   "cell_type": "code",
   "execution_count": null,
   "id": "46cd40f4",
   "metadata": {},
   "outputs": [],
   "source": [
    "clade_tallies.shape"
   ]
  },
  {
   "cell_type": "code",
   "execution_count": null,
   "id": "ffcfb453",
   "metadata": {},
   "outputs": [],
   "source": [
    "clades_to_analyze = clade_tallies[clade_tallies > min_records_per_clade].index.tolist()"
   ]
  },
  {
   "cell_type": "code",
   "execution_count": null,
   "id": "612c11fa",
   "metadata": {},
   "outputs": [],
   "source": [
    "clades_to_analyze"
   ]
  },
  {
   "cell_type": "code",
   "execution_count": null,
   "id": "9a6c2661",
   "metadata": {},
   "outputs": [],
   "source": [
    "# TODO: Define a list of Nextstrain clade names to filter by instead of searching for parentheses.\n",
    "clades_to_analyze = sorted([\n",
    "    clade\n",
    "    for clade in clades_to_analyze\n",
    "    if \"(\" in clade\n",
    "])"
   ]
  },
  {
   "cell_type": "code",
   "execution_count": null,
   "id": "1ccf3a90",
   "metadata": {},
   "outputs": [],
   "source": [
    "clades_to_analyze"
   ]
  },
  {
   "cell_type": "markdown",
   "id": "f28deacf",
   "metadata": {},
   "source": [
    "### Mapping to variants"
   ]
  },
  {
   "cell_type": "code",
   "execution_count": null,
   "id": "6f1adc71",
   "metadata": {},
   "outputs": [],
   "source": [
    "metadata[\"variant\"] = metadata[\"Nextstrain_clade\"].map(clade_to_variant).fillna(\"other\").astype(str)"
   ]
  },
  {
   "cell_type": "code",
   "execution_count": null,
   "id": "75017070",
   "metadata": {},
   "outputs": [],
   "source": [
    "metadata[\"variant\"].value_counts()"
   ]
  },
  {
   "cell_type": "code",
   "execution_count": null,
   "id": "27d49a9c",
   "metadata": {},
   "outputs": [],
   "source": [
    "metadata[\"variant\"]"
   ]
  },
  {
   "cell_type": "markdown",
   "id": "0611f868",
   "metadata": {},
   "source": [
    "## States to analyze\n",
    "\n",
    "Keep states with at least a minimum number of metadata records."
   ]
  },
  {
   "cell_type": "code",
   "execution_count": null,
   "id": "fcbe85f5",
   "metadata": {},
   "outputs": [],
   "source": [
    "state_tallies = metadata[\"division\"].value_counts()"
   ]
  },
  {
   "cell_type": "code",
   "execution_count": null,
   "id": "bf4bdff8",
   "metadata": {},
   "outputs": [],
   "source": [
    "state_tallies"
   ]
  },
  {
   "cell_type": "markdown",
   "id": "bd84b56c",
   "metadata": {},
   "source": [
    "In addition to getting states with enough records, drop records with a state value of \"USA\"."
   ]
  },
  {
   "cell_type": "code",
   "execution_count": null,
   "id": "c67a2ed6",
   "metadata": {},
   "outputs": [],
   "source": [
    "states_to_analyze = sorted(state_tallies[(state_tallies > min_records_per_division)].drop(\"USA\").index.tolist())"
   ]
  },
  {
   "cell_type": "code",
   "execution_count": null,
   "id": "a6c7c6d2",
   "metadata": {},
   "outputs": [],
   "source": [
    "states_to_analyze"
   ]
  },
  {
   "cell_type": "code",
   "execution_count": null,
   "id": "2af789b4",
   "metadata": {},
   "outputs": [],
   "source": [
    "len(states_to_analyze)"
   ]
  },
  {
   "cell_type": "markdown",
   "id": "3c6d82a5",
   "metadata": {},
   "source": [
    "Filter data to records for states with enough sequences."
   ]
  },
  {
   "cell_type": "code",
   "execution_count": null,
   "id": "9a5957c2",
   "metadata": {},
   "outputs": [],
   "source": [
    "metadata = metadata[metadata[\"division\"].isin(states_to_analyze)].copy()"
   ]
  },
  {
   "cell_type": "code",
   "execution_count": null,
   "id": "37dfe60b",
   "metadata": {},
   "outputs": [],
   "source": [
    "metadata.shape"
   ]
  },
  {
   "cell_type": "markdown",
   "id": "f0d7c676",
   "metadata": {},
   "source": [
    "## Export data frame of variant frequencies\n",
    "\n",
    "Provision counts by date, state, and variant."
   ]
  },
  {
   "cell_type": "code",
   "execution_count": null,
   "id": "633202f5",
   "metadata": {},
   "outputs": [],
   "source": [
    "metadata.head()"
   ]
  },
  {
   "cell_type": "code",
   "execution_count": null,
   "id": "9f00c446",
   "metadata": {},
   "outputs": [],
   "source": [
    "counts_by_date_state_variant = metadata.groupby(\n",
    "    [\n",
    "        \"date\",\n",
    "        \"division\",\n",
    "        \"variant\",\n",
    "    ],\n",
    "    observed=True,\n",
    "    as_index=False,\n",
    ")[\"strain\"].count().rename(\n",
    "    columns={\n",
    "        \"strain\": \"sequences\",\n",
    "        \"division\": \"location\",\n",
    "    }\n",
    ").sort_values([\"location\", \"variant\", \"date\"])"
   ]
  },
  {
   "cell_type": "code",
   "execution_count": null,
   "id": "f89a5885",
   "metadata": {},
   "outputs": [],
   "source": [
    "counts_by_date_state_variant.head()"
   ]
  },
  {
   "cell_type": "code",
   "execution_count": null,
   "id": "0f9e396c",
   "metadata": {},
   "outputs": [],
   "source": [
    "counts_by_date_state_variant.shape"
   ]
  },
  {
   "cell_type": "code",
   "execution_count": null,
   "id": "9c334943",
   "metadata": {},
   "outputs": [],
   "source": [
    "counts_by_date_state_variant.to_csv(\n",
    "    output_sequences,\n",
    "    sep=\"\\t\",\n",
    "    index=False,\n",
    ")"
   ]
  },
  {
   "cell_type": "markdown",
   "id": "9943c590",
   "metadata": {},
   "source": [
    "## State-level case data\n",
    "\n",
    "Download with https://data.cdc.gov/api/views/9mfq-cb36/rows.csv?accessType=DOWNLOAD"
   ]
  },
  {
   "cell_type": "markdown",
   "id": "2c0023ad",
   "metadata": {},
   "source": [
    "### Data"
   ]
  },
  {
   "cell_type": "code",
   "execution_count": null,
   "id": "4187ac95",
   "metadata": {},
   "outputs": [],
   "source": [
    "cases = pd.read_csv(\n",
    "    path_to_cases,\n",
    "    parse_dates=[\"submission_date\"],\n",
    "    usecols=[\n",
    "        \"submission_date\",\n",
    "        \"state\",\n",
    "        \"new_case\",\n",
    "        \"new_death\",\n",
    "    ],\n",
    ").sort_values([\n",
    "    \"submission_date\",\n",
    "    \"state\",\n",
    "])"
   ]
  },
  {
   "cell_type": "code",
   "execution_count": null,
   "id": "1081daa4",
   "metadata": {},
   "outputs": [],
   "source": [
    "cases.shape"
   ]
  },
  {
   "cell_type": "code",
   "execution_count": null,
   "id": "ee4effeb",
   "metadata": {},
   "outputs": [],
   "source": [
    "cases.head()"
   ]
  },
  {
   "cell_type": "markdown",
   "id": "b1361c1e",
   "metadata": {},
   "source": [
    "Filter cases to minimum start date."
   ]
  },
  {
   "cell_type": "code",
   "execution_count": null,
   "id": "0dc431d7",
   "metadata": {},
   "outputs": [],
   "source": [
    "cases = cases[cases[\"submission_date\"] >= start_date_for_cases].copy()"
   ]
  },
  {
   "cell_type": "markdown",
   "id": "750fdf52",
   "metadata": {},
   "source": [
    "Drop any records with missing \"new case\" or \"new death\" values."
   ]
  },
  {
   "cell_type": "code",
   "execution_count": null,
   "id": "11b2a7ae",
   "metadata": {},
   "outputs": [],
   "source": [
    "cases = cases[(~pd.isnull(cases[\"new_case\"])) & (~pd.isnull(cases[\"new_death\"]))].copy()"
   ]
  },
  {
   "cell_type": "markdown",
   "id": "14add43c",
   "metadata": {},
   "source": [
    "Replace negative new case values with zeros."
   ]
  },
  {
   "cell_type": "code",
   "execution_count": null,
   "id": "baa55343",
   "metadata": {},
   "outputs": [],
   "source": [
    "cases.loc[cases[\"new_case\"] < 0, \"new_case\"] = 0"
   ]
  },
  {
   "cell_type": "code",
   "execution_count": null,
   "id": "25ef99e0",
   "metadata": {},
   "outputs": [],
   "source": [
    "cases.head()"
   ]
  },
  {
   "cell_type": "code",
   "execution_count": null,
   "id": "7434d612",
   "metadata": {},
   "outputs": [],
   "source": [
    "cases.shape"
   ]
  },
  {
   "cell_type": "markdown",
   "id": "6dd8c39d",
   "metadata": {},
   "source": [
    "## Export data frame of case counts"
   ]
  },
  {
   "cell_type": "markdown",
   "id": "9decee6d",
   "metadata": {},
   "source": [
    "Filter to cases between start and end date."
   ]
  },
  {
   "cell_type": "code",
   "execution_count": null,
   "id": "32c9a1bb",
   "metadata": {},
   "outputs": [],
   "source": [
    "cases = cases[(cases[\"submission_date\"] >= start_date) & (cases[\"submission_date\"] <= end_date)].copy()"
   ]
  },
  {
   "cell_type": "markdown",
   "id": "6ec8d3e4",
   "metadata": {},
   "source": [
    "Annotate full names for states."
   ]
  },
  {
   "cell_type": "code",
   "execution_count": null,
   "id": "5774b0c4",
   "metadata": {},
   "outputs": [],
   "source": [
    "cases[\"location\"] = cases[\"state\"].map(abbreviations_to_full_state_names)"
   ]
  },
  {
   "cell_type": "markdown",
   "id": "93cb4a3b",
   "metadata": {},
   "source": [
    "Confirm that none of the states have missing valus (indicating missing information in the abbreviation-to-name mapping)."
   ]
  },
  {
   "cell_type": "code",
   "execution_count": null,
   "id": "e5c54532",
   "metadata": {},
   "outputs": [],
   "source": [
    "assert cases[\"location\"].isnull().sum() == 0"
   ]
  },
  {
   "cell_type": "markdown",
   "id": "a7c0cdbf",
   "metadata": {},
   "source": [
    "Filter cases to states for analysis, based on genomic data above."
   ]
  },
  {
   "cell_type": "code",
   "execution_count": null,
   "id": "920766f8",
   "metadata": {},
   "outputs": [],
   "source": [
    "cases = cases[cases[\"location\"].isin(states_to_analyze)].reset_index()"
   ]
  },
  {
   "cell_type": "code",
   "execution_count": null,
   "id": "a2a4cc78",
   "metadata": {},
   "outputs": [],
   "source": [
    "cases.shape"
   ]
  },
  {
   "cell_type": "markdown",
   "id": "a5d8b534",
   "metadata": {},
   "source": [
    "Sum cases across all states and dates, accounting for states/divisions with more than one abbreviation in the case data (e.g., \"NYC\" and \"NY\" for \"New York\")."
   ]
  },
  {
   "cell_type": "code",
   "execution_count": null,
   "id": "26dafa90",
   "metadata": {},
   "outputs": [],
   "source": [
    "total_cases = cases.groupby(\n",
    "    [\n",
    "        \"location\",\n",
    "        \"submission_date\"\n",
    "    ],\n",
    "    as_index=False,\n",
    ")[\"new_case\"].sum().rename(columns={\n",
    "    \"submission_date\": \"date\",\n",
    "    \"new_case\": \"case\",\n",
    "})"
   ]
  },
  {
   "cell_type": "code",
   "execution_count": null,
   "id": "3c1e8d59",
   "metadata": {},
   "outputs": [],
   "source": [
    "total_cases.shape"
   ]
  },
  {
   "cell_type": "code",
   "execution_count": null,
   "id": "937d055f",
   "metadata": {},
   "outputs": [],
   "source": [
    "total_cases.head()"
   ]
  },
  {
   "cell_type": "code",
   "execution_count": null,
   "id": "39e4d8ef",
   "metadata": {},
   "outputs": [],
   "source": [
    "total_cases.to_csv(\n",
    "    output_cases,\n",
    "    sep=\"\\t\",\n",
    "    index=False,\n",
    ")"
   ]
  },
  {
   "cell_type": "code",
   "execution_count": null,
   "id": "89816c0f",
   "metadata": {},
   "outputs": [],
   "source": []
  }
 ],
 "metadata": {
  "kernelspec": {
   "display_name": "Python 3 (ipykernel)",
   "language": "python",
   "name": "python3"
  },
  "language_info": {
   "codemirror_mode": {
    "name": "ipython",
    "version": 3
   },
   "file_extension": ".py",
   "mimetype": "text/x-python",
   "name": "python",
   "nbconvert_exporter": "python",
   "pygments_lexer": "ipython3",
   "version": "3.10.0"
  }
 },
 "nbformat": 4,
 "nbformat_minor": 5
}
